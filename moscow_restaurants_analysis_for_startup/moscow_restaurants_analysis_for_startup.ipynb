{
 "cells": [
  {
   "cell_type": "markdown",
   "metadata": {},
   "source": [
    "# Рынок заведений общественного питания Москвы"
   ]
  },
  {
   "cell_type": "markdown",
   "metadata": {},
   "source": [
    "1. [Описание задачи](#task)\n",
    "2. [Открытие данных](#start)\n",
    "3. [Предобработка данных](#preprocessing)\n",
    "     * [Форматирование](#formatting)\n",
    "     * [Поиск и обработка дубликатов](#duplicates)\n",
    "    \n",
    "4. [Анализ данных](#data_analysis)\n",
    "    * [Соотношение видов объектов общественного питания по количеству](#ratio_types)\n",
    "    * [Соотношение сетевых и несетевых заведений по количеству](#ratio_chain)\n",
    "    * [Анализ сетевых заведений](#chain)\n",
    "    * [Среднее количество посадочных мест ](#median_number)\n",
    "    * [Выделение в отдельный столбец информации об улице](#street)\n",
    "    * [Топ-10 улиц по количеству объектов общественного питания](#top10)\n",
    "    * [Число улиц с одним объектом общественного питания](#only_one)\n",
    "    * [Распределение количества посадочных мест для улиц с большим количеством объектов общественного питания](#seats)\n",
    "5. [Выводы](#summary)\n",
    "6. [Рекомендации](#recommendation)\n",
    "7. [Презентация](#presentation)"
   ]
  },
  {
   "cell_type": "markdown",
   "metadata": {},
   "source": [
    "### 1. Описание задачи <a id=\"task\"></a>"
   ]
  },
  {
   "cell_type": "markdown",
   "metadata": {},
   "source": [
    "#### Необходимо исследовать рынок заведений общественного питания в Москве для оценки перспективы развития нашего кафе, особенностью которого является обслуживание роботами-официантами. Заказчики данного проекта - потенциальные инвесторы.\n"
   ]
  },
  {
   "cell_type": "markdown",
   "metadata": {},
   "source": [
    "### 2. Открытие данных <a id=\"start\"></a>"
   ]
  },
  {
   "cell_type": "code",
   "execution_count": 79,
   "metadata": {},
   "outputs": [],
   "source": [
    "#Импортируем библиотеки, которые будем использовать в работе\n",
    "import pandas as pd\n",
    "import seaborn as sns\n",
    "import plotly.express as px\n",
    "from matplotlib import pyplot as plt\n",
    "from plotly import graph_objects as go\n",
    "from scipy import stats as st\n",
    "import numpy as np\n",
    "import re\n",
    "from io import BytesIO\n",
    "import requests"
   ]
  },
  {
   "cell_type": "code",
   "execution_count": 80,
   "metadata": {},
   "outputs": [
    {
     "data": {
      "text/html": [
       "<div>\n",
       "<style scoped>\n",
       "    .dataframe tbody tr th:only-of-type {\n",
       "        vertical-align: middle;\n",
       "    }\n",
       "\n",
       "    .dataframe tbody tr th {\n",
       "        vertical-align: top;\n",
       "    }\n",
       "\n",
       "    .dataframe thead th {\n",
       "        text-align: right;\n",
       "    }\n",
       "</style>\n",
       "<table border=\"1\" class=\"dataframe\">\n",
       "  <thead>\n",
       "    <tr style=\"text-align: right;\">\n",
       "      <th></th>\n",
       "      <th>id</th>\n",
       "      <th>object_name</th>\n",
       "      <th>chain</th>\n",
       "      <th>object_type</th>\n",
       "      <th>address</th>\n",
       "      <th>number</th>\n",
       "    </tr>\n",
       "  </thead>\n",
       "  <tbody>\n",
       "    <tr>\n",
       "      <td>0</td>\n",
       "      <td>151635</td>\n",
       "      <td>СМЕТАНА</td>\n",
       "      <td>нет</td>\n",
       "      <td>кафе</td>\n",
       "      <td>город Москва, улица Егора Абакумова, дом 9</td>\n",
       "      <td>48</td>\n",
       "    </tr>\n",
       "    <tr>\n",
       "      <td>1</td>\n",
       "      <td>77874</td>\n",
       "      <td>Родник</td>\n",
       "      <td>нет</td>\n",
       "      <td>кафе</td>\n",
       "      <td>город Москва, улица Талалихина, дом 2/1, корпус 1</td>\n",
       "      <td>35</td>\n",
       "    </tr>\n",
       "    <tr>\n",
       "      <td>2</td>\n",
       "      <td>24309</td>\n",
       "      <td>Кафе «Академия»</td>\n",
       "      <td>нет</td>\n",
       "      <td>кафе</td>\n",
       "      <td>город Москва, Абельмановская улица, дом 6</td>\n",
       "      <td>95</td>\n",
       "    </tr>\n",
       "    <tr>\n",
       "      <td>3</td>\n",
       "      <td>21894</td>\n",
       "      <td>ПИЦЦЕТОРИЯ</td>\n",
       "      <td>да</td>\n",
       "      <td>кафе</td>\n",
       "      <td>город Москва, Абрамцевская улица, дом 1</td>\n",
       "      <td>40</td>\n",
       "    </tr>\n",
       "    <tr>\n",
       "      <td>4</td>\n",
       "      <td>119365</td>\n",
       "      <td>Кафе «Вишневая метель»</td>\n",
       "      <td>нет</td>\n",
       "      <td>кафе</td>\n",
       "      <td>город Москва, Абрамцевская улица, дом 9, корпус 1</td>\n",
       "      <td>50</td>\n",
       "    </tr>\n",
       "  </tbody>\n",
       "</table>\n",
       "</div>"
      ],
      "text/plain": [
       "       id             object_name chain object_type  \\\n",
       "0  151635                 СМЕТАНА   нет        кафе   \n",
       "1   77874                  Родник   нет        кафе   \n",
       "2   24309         Кафе «Академия»   нет        кафе   \n",
       "3   21894              ПИЦЦЕТОРИЯ    да        кафе   \n",
       "4  119365  Кафе «Вишневая метель»   нет        кафе   \n",
       "\n",
       "                                             address  number  \n",
       "0         город Москва, улица Егора Абакумова, дом 9      48  \n",
       "1  город Москва, улица Талалихина, дом 2/1, корпус 1      35  \n",
       "2          город Москва, Абельмановская улица, дом 6      95  \n",
       "3            город Москва, Абрамцевская улица, дом 1      40  \n",
       "4  город Москва, Абрамцевская улица, дом 9, корпус 1      50  "
      ]
     },
     "execution_count": 80,
     "metadata": {},
     "output_type": "execute_result"
    }
   ],
   "source": [
    "#Загрузим и изучим данные\n",
    "cafe=pd.read_csv('/datasets/rest_data.csv')\n",
    "cafe.head()"
   ]
  },
  {
   "cell_type": "code",
   "execution_count": 81,
   "metadata": {},
   "outputs": [
    {
     "name": "stdout",
     "output_type": "stream",
     "text": [
      "<class 'pandas.core.frame.DataFrame'>\n",
      "RangeIndex: 15366 entries, 0 to 15365\n",
      "Data columns (total 6 columns):\n",
      "id             15366 non-null int64\n",
      "object_name    15366 non-null object\n",
      "chain          15366 non-null object\n",
      "object_type    15366 non-null object\n",
      "address        15366 non-null object\n",
      "number         15366 non-null int64\n",
      "dtypes: int64(2), object(4)\n",
      "memory usage: 720.4+ KB\n"
     ]
    }
   ],
   "source": [
    "cafe.info()"
   ]
  },
  {
   "cell_type": "markdown",
   "metadata": {},
   "source": [
    "**<font color=\"purple\">Пропуски данных отсутствуют, с типами данных все в порядке. Необходимо привести все текстовые данные к нижнему регистру и удалить дубликаты</font>**\n"
   ]
  },
  {
   "cell_type": "markdown",
   "metadata": {},
   "source": [
    "### 3.Предобработка данных <a id=\"preprocessing\"></a>"
   ]
  },
  {
   "cell_type": "markdown",
   "metadata": {},
   "source": [
    "#### Форматирование <a id=\"formatting\"></a>"
   ]
  },
  {
   "cell_type": "code",
   "execution_count": 82,
   "metadata": {},
   "outputs": [],
   "source": [
    "#Приведем к нижнему регистру данные в двух столбцах\n",
    "cafe['object_name'] = cafe['object_name'].str.lower()"
   ]
  },
  {
   "cell_type": "code",
   "execution_count": 83,
   "metadata": {},
   "outputs": [],
   "source": [
    "cafe['address'] = cafe['address'].str.lower()"
   ]
  },
  {
   "cell_type": "code",
   "execution_count": 84,
   "metadata": {},
   "outputs": [
    {
     "data": {
      "text/plain": [
       "нет    12398\n",
       "да      2968\n",
       "Name: chain, dtype: int64"
      ]
     },
     "execution_count": 84,
     "metadata": {},
     "output_type": "execute_result"
    }
   ],
   "source": [
    "#Проверим уникальные значения в двух оставшихся столбцах с текстовыми данными.\n",
    "cafe['chain'].value_counts()"
   ]
  },
  {
   "cell_type": "code",
   "execution_count": 85,
   "metadata": {},
   "outputs": [
    {
     "data": {
      "text/plain": [
       "кафе                                 6099\n",
       "столовая                             2587\n",
       "ресторан                             2285\n",
       "предприятие быстрого обслуживания    1923\n",
       "бар                                   856\n",
       "буфет                                 585\n",
       "кафетерий                             398\n",
       "закусочная                            360\n",
       "магазин (отдел кулинарии)             273\n",
       "Name: object_type, dtype: int64"
      ]
     },
     "execution_count": 85,
     "metadata": {},
     "output_type": "execute_result"
    }
   ],
   "source": [
    "cafe['object_type'].value_counts()"
   ]
  },
  {
   "cell_type": "code",
   "execution_count": 86,
   "metadata": {},
   "outputs": [
    {
     "data": {
      "text/html": [
       "<div>\n",
       "<style scoped>\n",
       "    .dataframe tbody tr th:only-of-type {\n",
       "        vertical-align: middle;\n",
       "    }\n",
       "\n",
       "    .dataframe tbody tr th {\n",
       "        vertical-align: top;\n",
       "    }\n",
       "\n",
       "    .dataframe thead th {\n",
       "        text-align: right;\n",
       "    }\n",
       "</style>\n",
       "<table border=\"1\" class=\"dataframe\">\n",
       "  <thead>\n",
       "    <tr style=\"text-align: right;\">\n",
       "      <th></th>\n",
       "      <th>id</th>\n",
       "      <th>object_name</th>\n",
       "      <th>chain</th>\n",
       "      <th>object_type</th>\n",
       "      <th>address</th>\n",
       "      <th>number</th>\n",
       "    </tr>\n",
       "  </thead>\n",
       "  <tbody>\n",
       "    <tr>\n",
       "      <td>0</td>\n",
       "      <td>151635</td>\n",
       "      <td>сметана</td>\n",
       "      <td>нет</td>\n",
       "      <td>кафе</td>\n",
       "      <td>город москва, улица егора абакумова, дом 9</td>\n",
       "      <td>48</td>\n",
       "    </tr>\n",
       "    <tr>\n",
       "      <td>1</td>\n",
       "      <td>77874</td>\n",
       "      <td>родник</td>\n",
       "      <td>нет</td>\n",
       "      <td>кафе</td>\n",
       "      <td>город москва, улица талалихина, дом 2/1, корпус 1</td>\n",
       "      <td>35</td>\n",
       "    </tr>\n",
       "    <tr>\n",
       "      <td>2</td>\n",
       "      <td>24309</td>\n",
       "      <td>кафе «академия»</td>\n",
       "      <td>нет</td>\n",
       "      <td>кафе</td>\n",
       "      <td>город москва, абельмановская улица, дом 6</td>\n",
       "      <td>95</td>\n",
       "    </tr>\n",
       "    <tr>\n",
       "      <td>3</td>\n",
       "      <td>21894</td>\n",
       "      <td>пиццетория</td>\n",
       "      <td>да</td>\n",
       "      <td>кафе</td>\n",
       "      <td>город москва, абрамцевская улица, дом 1</td>\n",
       "      <td>40</td>\n",
       "    </tr>\n",
       "    <tr>\n",
       "      <td>4</td>\n",
       "      <td>119365</td>\n",
       "      <td>кафе «вишневая метель»</td>\n",
       "      <td>нет</td>\n",
       "      <td>кафе</td>\n",
       "      <td>город москва, абрамцевская улица, дом 9, корпус 1</td>\n",
       "      <td>50</td>\n",
       "    </tr>\n",
       "  </tbody>\n",
       "</table>\n",
       "</div>"
      ],
      "text/plain": [
       "       id             object_name chain object_type  \\\n",
       "0  151635                 сметана   нет        кафе   \n",
       "1   77874                  родник   нет        кафе   \n",
       "2   24309         кафе «академия»   нет        кафе   \n",
       "3   21894              пиццетория    да        кафе   \n",
       "4  119365  кафе «вишневая метель»   нет        кафе   \n",
       "\n",
       "                                             address  number  \n",
       "0         город москва, улица егора абакумова, дом 9      48  \n",
       "1  город москва, улица талалихина, дом 2/1, корпус 1      35  \n",
       "2          город москва, абельмановская улица, дом 6      95  \n",
       "3            город москва, абрамцевская улица, дом 1      40  \n",
       "4  город москва, абрамцевская улица, дом 9, корпус 1      50  "
      ]
     },
     "execution_count": 86,
     "metadata": {},
     "output_type": "execute_result"
    }
   ],
   "source": [
    "#Посмотрим, как выглядит таблица теперь\n",
    "cafe.head()"
   ]
  },
  {
   "cell_type": "markdown",
   "metadata": {},
   "source": [
    "#### Поиск и обработка дубликатов <a id=\"duplicates\"></a>"
   ]
  },
  {
   "cell_type": "code",
   "execution_count": 87,
   "metadata": {},
   "outputs": [
    {
     "data": {
      "text/plain": [
       "0"
      ]
     },
     "execution_count": 87,
     "metadata": {},
     "output_type": "execute_result"
    }
   ],
   "source": [
    "#Посмотрим, есть ли дублирующие целые строки в нашем датафрейме\n",
    "cafe.duplicated().sum()"
   ]
  },
  {
   "cell_type": "markdown",
   "metadata": {},
   "source": [
    "Дубликаты целых строк отсутствуют.\n",
    "\n",
    "За дубликаты в нашем проекте примем также заведения с одинаковым названием, адресом и типом заведения."
   ]
  },
  {
   "cell_type": "code",
   "execution_count": 88,
   "metadata": {},
   "outputs": [
    {
     "data": {
      "text/plain": [
       "184"
      ]
     },
     "execution_count": 88,
     "metadata": {},
     "output_type": "execute_result"
    }
   ],
   "source": [
    "#Определим количество таких дубликатов\n",
    "cafe[['object_name', 'object_type', 'address']].duplicated().sum()"
   ]
  },
  {
   "cell_type": "code",
   "execution_count": 89,
   "metadata": {},
   "outputs": [
    {
     "data": {
      "text/html": [
       "<div>\n",
       "<style scoped>\n",
       "    .dataframe tbody tr th:only-of-type {\n",
       "        vertical-align: middle;\n",
       "    }\n",
       "\n",
       "    .dataframe tbody tr th {\n",
       "        vertical-align: top;\n",
       "    }\n",
       "\n",
       "    .dataframe thead th {\n",
       "        text-align: right;\n",
       "    }\n",
       "</style>\n",
       "<table border=\"1\" class=\"dataframe\">\n",
       "  <thead>\n",
       "    <tr style=\"text-align: right;\">\n",
       "      <th></th>\n",
       "      <th>object_name</th>\n",
       "      <th>object_type</th>\n",
       "      <th>address</th>\n",
       "    </tr>\n",
       "  </thead>\n",
       "  <tbody>\n",
       "    <tr>\n",
       "      <td>15173</td>\n",
       "      <td>кофе с собой</td>\n",
       "      <td>предприятие быстрого обслуживания</td>\n",
       "      <td>город москва, алтуфьевское шоссе, дом 70, корпус 1</td>\n",
       "    </tr>\n",
       "    <tr>\n",
       "      <td>15216</td>\n",
       "      <td>макдоналдс</td>\n",
       "      <td>предприятие быстрого обслуживания</td>\n",
       "      <td>город москва, варшавское шоссе, дом 87б</td>\n",
       "    </tr>\n",
       "    <tr>\n",
       "      <td>15217</td>\n",
       "      <td>макдоналдс</td>\n",
       "      <td>предприятие быстрого обслуживания</td>\n",
       "      <td>город москва, кировоградская улица, дом 13а</td>\n",
       "    </tr>\n",
       "    <tr>\n",
       "      <td>15363</td>\n",
       "      <td>шоколадница</td>\n",
       "      <td>кафе</td>\n",
       "      <td>город москва, улица земляной вал, дом 33</td>\n",
       "    </tr>\n",
       "    <tr>\n",
       "      <td>15365</td>\n",
       "      <td>шоколадница</td>\n",
       "      <td>кафе</td>\n",
       "      <td>город москва, ходынский бульвар, дом 4</td>\n",
       "    </tr>\n",
       "  </tbody>\n",
       "</table>\n",
       "</div>"
      ],
      "text/plain": [
       "        object_name                        object_type  \\\n",
       "15173  кофе с собой  предприятие быстрого обслуживания   \n",
       "15216    макдоналдс  предприятие быстрого обслуживания   \n",
       "15217    макдоналдс  предприятие быстрого обслуживания   \n",
       "15363   шоколадница                               кафе   \n",
       "15365   шоколадница                               кафе   \n",
       "\n",
       "                                                  address  \n",
       "15173  город москва, алтуфьевское шоссе, дом 70, корпус 1  \n",
       "15216             город москва, варшавское шоссе, дом 87б  \n",
       "15217         город москва, кировоградская улица, дом 13а  \n",
       "15363            город москва, улица земляной вал, дом 33  \n",
       "15365              город москва, ходынский бульвар, дом 4  "
      ]
     },
     "execution_count": 89,
     "metadata": {},
     "output_type": "execute_result"
    }
   ],
   "source": [
    "#Посмотрим на них\n",
    "cafe[['object_name', 'object_type', 'address']].loc[\n",
    "    cafe[['object_name', 'object_type', 'address']].duplicated(), :].tail()"
   ]
  },
  {
   "cell_type": "code",
   "execution_count": 90,
   "metadata": {},
   "outputs": [],
   "source": [
    "#Удалим дубликаты\n",
    "cafe = cafe.drop_duplicates(subset=['object_name', 'object_type', 'address'])"
   ]
  },
  {
   "cell_type": "code",
   "execution_count": 91,
   "metadata": {},
   "outputs": [
    {
     "name": "stdout",
     "output_type": "stream",
     "text": [
      "<class 'pandas.core.frame.DataFrame'>\n",
      "Int64Index: 15182 entries, 0 to 15364\n",
      "Data columns (total 6 columns):\n",
      "id             15182 non-null int64\n",
      "object_name    15182 non-null object\n",
      "chain          15182 non-null object\n",
      "object_type    15182 non-null object\n",
      "address        15182 non-null object\n",
      "number         15182 non-null int64\n",
      "dtypes: int64(2), object(4)\n",
      "memory usage: 830.3+ KB\n"
     ]
    }
   ],
   "source": [
    "cafe.info()"
   ]
  },
  {
   "cell_type": "markdown",
   "metadata": {},
   "source": [
    "**<font color=\"purple\">В нашем датафрейме отсутствуют дубликаты полных строк. Однако, заведения с одинаковым названием, адресом и типом мы логически посчитали дублирующими и все дубли удалили, несмотря на то, что у этих строк свои id и могло быть разное число посадочных мест</font>**"
   ]
  },
  {
   "cell_type": "markdown",
   "metadata": {},
   "source": [
    "### 4. Анализ данных <a id=\"data_analysis\"></a>"
   ]
  },
  {
   "cell_type": "markdown",
   "metadata": {},
   "source": [
    "#### Соотношение видов объектов общественного питания по количеству <a id=\"ratio_types\"></a>"
   ]
  },
  {
   "cell_type": "code",
   "execution_count": 92,
   "metadata": {
    "scrolled": true
   },
   "outputs": [
    {
     "data": {
      "text/html": [
       "<div>\n",
       "<style scoped>\n",
       "    .dataframe tbody tr th:only-of-type {\n",
       "        vertical-align: middle;\n",
       "    }\n",
       "\n",
       "    .dataframe tbody tr th {\n",
       "        vertical-align: top;\n",
       "    }\n",
       "\n",
       "    .dataframe thead th {\n",
       "        text-align: right;\n",
       "    }\n",
       "</style>\n",
       "<table border=\"1\" class=\"dataframe\">\n",
       "  <thead>\n",
       "    <tr style=\"text-align: right;\">\n",
       "      <th></th>\n",
       "      <th>object_type</th>\n",
       "      <th>id</th>\n",
       "    </tr>\n",
       "  </thead>\n",
       "  <tbody>\n",
       "    <tr>\n",
       "      <td>0</td>\n",
       "      <td>кафе</td>\n",
       "      <td>6008</td>\n",
       "    </tr>\n",
       "    <tr>\n",
       "      <td>1</td>\n",
       "      <td>столовая</td>\n",
       "      <td>2575</td>\n",
       "    </tr>\n",
       "    <tr>\n",
       "      <td>2</td>\n",
       "      <td>ресторан</td>\n",
       "      <td>2274</td>\n",
       "    </tr>\n",
       "    <tr>\n",
       "      <td>3</td>\n",
       "      <td>предприятие быстрого обслуживания</td>\n",
       "      <td>1890</td>\n",
       "    </tr>\n",
       "    <tr>\n",
       "      <td>4</td>\n",
       "      <td>бар</td>\n",
       "      <td>853</td>\n",
       "    </tr>\n",
       "    <tr>\n",
       "      <td>5</td>\n",
       "      <td>буфет</td>\n",
       "      <td>570</td>\n",
       "    </tr>\n",
       "    <tr>\n",
       "      <td>6</td>\n",
       "      <td>кафетерий</td>\n",
       "      <td>393</td>\n",
       "    </tr>\n",
       "    <tr>\n",
       "      <td>7</td>\n",
       "      <td>закусочная</td>\n",
       "      <td>347</td>\n",
       "    </tr>\n",
       "    <tr>\n",
       "      <td>8</td>\n",
       "      <td>магазин (отдел кулинарии)</td>\n",
       "      <td>272</td>\n",
       "    </tr>\n",
       "  </tbody>\n",
       "</table>\n",
       "</div>"
      ],
      "text/plain": [
       "                         object_type    id\n",
       "0                               кафе  6008\n",
       "1                           столовая  2575\n",
       "2                           ресторан  2274\n",
       "3  предприятие быстрого обслуживания  1890\n",
       "4                                бар   853\n",
       "5                              буфет   570\n",
       "6                          кафетерий   393\n",
       "7                         закусочная   347\n",
       "8          магазин (отдел кулинарии)   272"
      ]
     },
     "execution_count": 92,
     "metadata": {},
     "output_type": "execute_result"
    }
   ],
   "source": [
    "#Сгруппируем данные по типу заведения\n",
    "types = cafe.groupby('object_type').agg({'id':'count'}).sort_values(by='id', ascending=False).reset_index()\n",
    "types"
   ]
  },
  {
   "cell_type": "code",
   "execution_count": 93,
   "metadata": {},
   "outputs": [
    {
     "data": {
      "application/vnd.plotly.v1+json": {
       "config": {
        "plotlyServerURL": "https://plot.ly"
       },
       "data": [
        {
         "labels": [
          "кафе",
          "столовая",
          "ресторан",
          "предприятие быстрого обслуживания",
          "бар",
          "буфет",
          "кафетерий",
          "закусочная",
          "магазин (отдел кулинарии)"
         ],
         "type": "pie",
         "values": [
          6008,
          2575,
          2274,
          1890,
          853,
          570,
          393,
          347,
          272
         ]
        }
       ],
       "layout": {
        "template": {
         "data": {
          "bar": [
           {
            "error_x": {
             "color": "#2a3f5f"
            },
            "error_y": {
             "color": "#2a3f5f"
            },
            "marker": {
             "line": {
              "color": "#E5ECF6",
              "width": 0.5
             }
            },
            "type": "bar"
           }
          ],
          "barpolar": [
           {
            "marker": {
             "line": {
              "color": "#E5ECF6",
              "width": 0.5
             }
            },
            "type": "barpolar"
           }
          ],
          "carpet": [
           {
            "aaxis": {
             "endlinecolor": "#2a3f5f",
             "gridcolor": "white",
             "linecolor": "white",
             "minorgridcolor": "white",
             "startlinecolor": "#2a3f5f"
            },
            "baxis": {
             "endlinecolor": "#2a3f5f",
             "gridcolor": "white",
             "linecolor": "white",
             "minorgridcolor": "white",
             "startlinecolor": "#2a3f5f"
            },
            "type": "carpet"
           }
          ],
          "choropleth": [
           {
            "colorbar": {
             "outlinewidth": 0,
             "ticks": ""
            },
            "type": "choropleth"
           }
          ],
          "contour": [
           {
            "colorbar": {
             "outlinewidth": 0,
             "ticks": ""
            },
            "colorscale": [
             [
              0,
              "#0d0887"
             ],
             [
              0.1111111111,
              "#46039f"
             ],
             [
              0.2222222222,
              "#7201a8"
             ],
             [
              0.3333333333,
              "#9c179e"
             ],
             [
              0.4444444444,
              "#bd3786"
             ],
             [
              0.5555555556,
              "#d8576b"
             ],
             [
              0.6666666667,
              "#ed7953"
             ],
             [
              0.7777777778,
              "#fb9f3a"
             ],
             [
              0.8888888889,
              "#fdca26"
             ],
             [
              1,
              "#f0f921"
             ]
            ],
            "type": "contour"
           }
          ],
          "contourcarpet": [
           {
            "colorbar": {
             "outlinewidth": 0,
             "ticks": ""
            },
            "type": "contourcarpet"
           }
          ],
          "heatmap": [
           {
            "colorbar": {
             "outlinewidth": 0,
             "ticks": ""
            },
            "colorscale": [
             [
              0,
              "#0d0887"
             ],
             [
              0.1111111111,
              "#46039f"
             ],
             [
              0.2222222222,
              "#7201a8"
             ],
             [
              0.3333333333,
              "#9c179e"
             ],
             [
              0.4444444444,
              "#bd3786"
             ],
             [
              0.5555555556,
              "#d8576b"
             ],
             [
              0.6666666667,
              "#ed7953"
             ],
             [
              0.7777777778,
              "#fb9f3a"
             ],
             [
              0.8888888889,
              "#fdca26"
             ],
             [
              1,
              "#f0f921"
             ]
            ],
            "type": "heatmap"
           }
          ],
          "heatmapgl": [
           {
            "colorbar": {
             "outlinewidth": 0,
             "ticks": ""
            },
            "colorscale": [
             [
              0,
              "#0d0887"
             ],
             [
              0.1111111111,
              "#46039f"
             ],
             [
              0.2222222222,
              "#7201a8"
             ],
             [
              0.3333333333,
              "#9c179e"
             ],
             [
              0.4444444444,
              "#bd3786"
             ],
             [
              0.5555555556,
              "#d8576b"
             ],
             [
              0.6666666667,
              "#ed7953"
             ],
             [
              0.7777777778,
              "#fb9f3a"
             ],
             [
              0.8888888889,
              "#fdca26"
             ],
             [
              1,
              "#f0f921"
             ]
            ],
            "type": "heatmapgl"
           }
          ],
          "histogram": [
           {
            "marker": {
             "colorbar": {
              "outlinewidth": 0,
              "ticks": ""
             }
            },
            "type": "histogram"
           }
          ],
          "histogram2d": [
           {
            "colorbar": {
             "outlinewidth": 0,
             "ticks": ""
            },
            "colorscale": [
             [
              0,
              "#0d0887"
             ],
             [
              0.1111111111,
              "#46039f"
             ],
             [
              0.2222222222,
              "#7201a8"
             ],
             [
              0.3333333333,
              "#9c179e"
             ],
             [
              0.4444444444,
              "#bd3786"
             ],
             [
              0.5555555556,
              "#d8576b"
             ],
             [
              0.6666666667,
              "#ed7953"
             ],
             [
              0.7777777778,
              "#fb9f3a"
             ],
             [
              0.8888888889,
              "#fdca26"
             ],
             [
              1,
              "#f0f921"
             ]
            ],
            "type": "histogram2d"
           }
          ],
          "histogram2dcontour": [
           {
            "colorbar": {
             "outlinewidth": 0,
             "ticks": ""
            },
            "colorscale": [
             [
              0,
              "#0d0887"
             ],
             [
              0.1111111111,
              "#46039f"
             ],
             [
              0.2222222222,
              "#7201a8"
             ],
             [
              0.3333333333,
              "#9c179e"
             ],
             [
              0.4444444444,
              "#bd3786"
             ],
             [
              0.5555555556,
              "#d8576b"
             ],
             [
              0.6666666667,
              "#ed7953"
             ],
             [
              0.7777777778,
              "#fb9f3a"
             ],
             [
              0.8888888889,
              "#fdca26"
             ],
             [
              1,
              "#f0f921"
             ]
            ],
            "type": "histogram2dcontour"
           }
          ],
          "mesh3d": [
           {
            "colorbar": {
             "outlinewidth": 0,
             "ticks": ""
            },
            "type": "mesh3d"
           }
          ],
          "parcoords": [
           {
            "line": {
             "colorbar": {
              "outlinewidth": 0,
              "ticks": ""
             }
            },
            "type": "parcoords"
           }
          ],
          "scatter": [
           {
            "marker": {
             "colorbar": {
              "outlinewidth": 0,
              "ticks": ""
             }
            },
            "type": "scatter"
           }
          ],
          "scatter3d": [
           {
            "line": {
             "colorbar": {
              "outlinewidth": 0,
              "ticks": ""
             }
            },
            "marker": {
             "colorbar": {
              "outlinewidth": 0,
              "ticks": ""
             }
            },
            "type": "scatter3d"
           }
          ],
          "scattercarpet": [
           {
            "marker": {
             "colorbar": {
              "outlinewidth": 0,
              "ticks": ""
             }
            },
            "type": "scattercarpet"
           }
          ],
          "scattergeo": [
           {
            "marker": {
             "colorbar": {
              "outlinewidth": 0,
              "ticks": ""
             }
            },
            "type": "scattergeo"
           }
          ],
          "scattergl": [
           {
            "marker": {
             "colorbar": {
              "outlinewidth": 0,
              "ticks": ""
             }
            },
            "type": "scattergl"
           }
          ],
          "scattermapbox": [
           {
            "marker": {
             "colorbar": {
              "outlinewidth": 0,
              "ticks": ""
             }
            },
            "type": "scattermapbox"
           }
          ],
          "scatterpolar": [
           {
            "marker": {
             "colorbar": {
              "outlinewidth": 0,
              "ticks": ""
             }
            },
            "type": "scatterpolar"
           }
          ],
          "scatterpolargl": [
           {
            "marker": {
             "colorbar": {
              "outlinewidth": 0,
              "ticks": ""
             }
            },
            "type": "scatterpolargl"
           }
          ],
          "scatterternary": [
           {
            "marker": {
             "colorbar": {
              "outlinewidth": 0,
              "ticks": ""
             }
            },
            "type": "scatterternary"
           }
          ],
          "surface": [
           {
            "colorbar": {
             "outlinewidth": 0,
             "ticks": ""
            },
            "colorscale": [
             [
              0,
              "#0d0887"
             ],
             [
              0.1111111111,
              "#46039f"
             ],
             [
              0.2222222222,
              "#7201a8"
             ],
             [
              0.3333333333,
              "#9c179e"
             ],
             [
              0.4444444444,
              "#bd3786"
             ],
             [
              0.5555555556,
              "#d8576b"
             ],
             [
              0.6666666667,
              "#ed7953"
             ],
             [
              0.7777777778,
              "#fb9f3a"
             ],
             [
              0.8888888889,
              "#fdca26"
             ],
             [
              1,
              "#f0f921"
             ]
            ],
            "type": "surface"
           }
          ],
          "table": [
           {
            "cells": {
             "fill": {
              "color": "#EBF0F8"
             },
             "line": {
              "color": "white"
             }
            },
            "header": {
             "fill": {
              "color": "#C8D4E3"
             },
             "line": {
              "color": "white"
             }
            },
            "type": "table"
           }
          ]
         },
         "layout": {
          "annotationdefaults": {
           "arrowcolor": "#2a3f5f",
           "arrowhead": 0,
           "arrowwidth": 1
          },
          "colorscale": {
           "diverging": [
            [
             0,
             "#8e0152"
            ],
            [
             0.1,
             "#c51b7d"
            ],
            [
             0.2,
             "#de77ae"
            ],
            [
             0.3,
             "#f1b6da"
            ],
            [
             0.4,
             "#fde0ef"
            ],
            [
             0.5,
             "#f7f7f7"
            ],
            [
             0.6,
             "#e6f5d0"
            ],
            [
             0.7,
             "#b8e186"
            ],
            [
             0.8,
             "#7fbc41"
            ],
            [
             0.9,
             "#4d9221"
            ],
            [
             1,
             "#276419"
            ]
           ],
           "sequential": [
            [
             0,
             "#0d0887"
            ],
            [
             0.1111111111,
             "#46039f"
            ],
            [
             0.2222222222,
             "#7201a8"
            ],
            [
             0.3333333333,
             "#9c179e"
            ],
            [
             0.4444444444,
             "#bd3786"
            ],
            [
             0.5555555556,
             "#d8576b"
            ],
            [
             0.6666666667,
             "#ed7953"
            ],
            [
             0.7777777778,
             "#fb9f3a"
            ],
            [
             0.8888888889,
             "#fdca26"
            ],
            [
             1,
             "#f0f921"
            ]
           ],
           "sequentialminus": [
            [
             0,
             "#0d0887"
            ],
            [
             0.1111111111,
             "#46039f"
            ],
            [
             0.2222222222,
             "#7201a8"
            ],
            [
             0.3333333333,
             "#9c179e"
            ],
            [
             0.4444444444,
             "#bd3786"
            ],
            [
             0.5555555556,
             "#d8576b"
            ],
            [
             0.6666666667,
             "#ed7953"
            ],
            [
             0.7777777778,
             "#fb9f3a"
            ],
            [
             0.8888888889,
             "#fdca26"
            ],
            [
             1,
             "#f0f921"
            ]
           ]
          },
          "colorway": [
           "#636efa",
           "#EF553B",
           "#00cc96",
           "#ab63fa",
           "#FFA15A",
           "#19d3f3",
           "#FF6692",
           "#B6E880",
           "#FF97FF",
           "#FECB52"
          ],
          "font": {
           "color": "#2a3f5f"
          },
          "geo": {
           "bgcolor": "white",
           "lakecolor": "white",
           "landcolor": "#E5ECF6",
           "showlakes": true,
           "showland": true,
           "subunitcolor": "white"
          },
          "hoverlabel": {
           "align": "left"
          },
          "hovermode": "closest",
          "mapbox": {
           "style": "light"
          },
          "paper_bgcolor": "white",
          "plot_bgcolor": "#E5ECF6",
          "polar": {
           "angularaxis": {
            "gridcolor": "white",
            "linecolor": "white",
            "ticks": ""
           },
           "bgcolor": "#E5ECF6",
           "radialaxis": {
            "gridcolor": "white",
            "linecolor": "white",
            "ticks": ""
           }
          },
          "scene": {
           "xaxis": {
            "backgroundcolor": "#E5ECF6",
            "gridcolor": "white",
            "gridwidth": 2,
            "linecolor": "white",
            "showbackground": true,
            "ticks": "",
            "zerolinecolor": "white"
           },
           "yaxis": {
            "backgroundcolor": "#E5ECF6",
            "gridcolor": "white",
            "gridwidth": 2,
            "linecolor": "white",
            "showbackground": true,
            "ticks": "",
            "zerolinecolor": "white"
           },
           "zaxis": {
            "backgroundcolor": "#E5ECF6",
            "gridcolor": "white",
            "gridwidth": 2,
            "linecolor": "white",
            "showbackground": true,
            "ticks": "",
            "zerolinecolor": "white"
           }
          },
          "shapedefaults": {
           "line": {
            "color": "#2a3f5f"
           }
          },
          "ternary": {
           "aaxis": {
            "gridcolor": "white",
            "linecolor": "white",
            "ticks": ""
           },
           "baxis": {
            "gridcolor": "white",
            "linecolor": "white",
            "ticks": ""
           },
           "bgcolor": "#E5ECF6",
           "caxis": {
            "gridcolor": "white",
            "linecolor": "white",
            "ticks": ""
           }
          },
          "title": {
           "x": 0.05
          },
          "xaxis": {
           "automargin": true,
           "gridcolor": "white",
           "linecolor": "white",
           "ticks": "",
           "zerolinecolor": "white",
           "zerolinewidth": 2
          },
          "yaxis": {
           "automargin": true,
           "gridcolor": "white",
           "linecolor": "white",
           "ticks": "",
           "zerolinecolor": "white",
           "zerolinewidth": 2
          }
         }
        }
       }
      },
      "text/html": [
       "<div>\n",
       "        \n",
       "        \n",
       "            <div id=\"8b815fb2-a3c3-493b-a56a-e25d17f9f45e\" class=\"plotly-graph-div\" style=\"height:525px; width:100%;\"></div>\n",
       "            <script type=\"text/javascript\">\n",
       "                require([\"plotly\"], function(Plotly) {\n",
       "                    window.PLOTLYENV=window.PLOTLYENV || {};\n",
       "                    \n",
       "                if (document.getElementById(\"8b815fb2-a3c3-493b-a56a-e25d17f9f45e\")) {\n",
       "                    Plotly.newPlot(\n",
       "                        '8b815fb2-a3c3-493b-a56a-e25d17f9f45e',\n",
       "                        [{\"labels\": [\"\\u043a\\u0430\\u0444\\u0435\", \"\\u0441\\u0442\\u043e\\u043b\\u043e\\u0432\\u0430\\u044f\", \"\\u0440\\u0435\\u0441\\u0442\\u043e\\u0440\\u0430\\u043d\", \"\\u043f\\u0440\\u0435\\u0434\\u043f\\u0440\\u0438\\u044f\\u0442\\u0438\\u0435 \\u0431\\u044b\\u0441\\u0442\\u0440\\u043e\\u0433\\u043e \\u043e\\u0431\\u0441\\u043b\\u0443\\u0436\\u0438\\u0432\\u0430\\u043d\\u0438\\u044f\", \"\\u0431\\u0430\\u0440\", \"\\u0431\\u0443\\u0444\\u0435\\u0442\", \"\\u043a\\u0430\\u0444\\u0435\\u0442\\u0435\\u0440\\u0438\\u0439\", \"\\u0437\\u0430\\u043a\\u0443\\u0441\\u043e\\u0447\\u043d\\u0430\\u044f\", \"\\u043c\\u0430\\u0433\\u0430\\u0437\\u0438\\u043d (\\u043e\\u0442\\u0434\\u0435\\u043b \\u043a\\u0443\\u043b\\u0438\\u043d\\u0430\\u0440\\u0438\\u0438)\"], \"type\": \"pie\", \"values\": [6008, 2575, 2274, 1890, 853, 570, 393, 347, 272]}],\n",
       "                        {\"template\": {\"data\": {\"bar\": [{\"error_x\": {\"color\": \"#2a3f5f\"}, \"error_y\": {\"color\": \"#2a3f5f\"}, \"marker\": {\"line\": {\"color\": \"#E5ECF6\", \"width\": 0.5}}, \"type\": \"bar\"}], \"barpolar\": [{\"marker\": {\"line\": {\"color\": \"#E5ECF6\", \"width\": 0.5}}, \"type\": \"barpolar\"}], \"carpet\": [{\"aaxis\": {\"endlinecolor\": \"#2a3f5f\", \"gridcolor\": \"white\", \"linecolor\": \"white\", \"minorgridcolor\": \"white\", \"startlinecolor\": \"#2a3f5f\"}, \"baxis\": {\"endlinecolor\": \"#2a3f5f\", \"gridcolor\": \"white\", \"linecolor\": \"white\", \"minorgridcolor\": \"white\", \"startlinecolor\": \"#2a3f5f\"}, \"type\": \"carpet\"}], \"choropleth\": [{\"colorbar\": {\"outlinewidth\": 0, \"ticks\": \"\"}, \"type\": \"choropleth\"}], \"contour\": [{\"colorbar\": {\"outlinewidth\": 0, \"ticks\": \"\"}, \"colorscale\": [[0.0, \"#0d0887\"], [0.1111111111111111, \"#46039f\"], [0.2222222222222222, \"#7201a8\"], [0.3333333333333333, \"#9c179e\"], [0.4444444444444444, \"#bd3786\"], [0.5555555555555556, \"#d8576b\"], [0.6666666666666666, \"#ed7953\"], [0.7777777777777778, \"#fb9f3a\"], [0.8888888888888888, \"#fdca26\"], [1.0, \"#f0f921\"]], \"type\": \"contour\"}], \"contourcarpet\": [{\"colorbar\": {\"outlinewidth\": 0, \"ticks\": \"\"}, \"type\": \"contourcarpet\"}], \"heatmap\": [{\"colorbar\": {\"outlinewidth\": 0, \"ticks\": \"\"}, \"colorscale\": [[0.0, \"#0d0887\"], [0.1111111111111111, \"#46039f\"], [0.2222222222222222, \"#7201a8\"], [0.3333333333333333, \"#9c179e\"], [0.4444444444444444, \"#bd3786\"], [0.5555555555555556, \"#d8576b\"], [0.6666666666666666, \"#ed7953\"], [0.7777777777777778, \"#fb9f3a\"], [0.8888888888888888, \"#fdca26\"], [1.0, \"#f0f921\"]], \"type\": \"heatmap\"}], \"heatmapgl\": [{\"colorbar\": {\"outlinewidth\": 0, \"ticks\": \"\"}, \"colorscale\": [[0.0, \"#0d0887\"], [0.1111111111111111, \"#46039f\"], [0.2222222222222222, \"#7201a8\"], [0.3333333333333333, \"#9c179e\"], [0.4444444444444444, \"#bd3786\"], [0.5555555555555556, \"#d8576b\"], [0.6666666666666666, \"#ed7953\"], [0.7777777777777778, \"#fb9f3a\"], [0.8888888888888888, \"#fdca26\"], [1.0, \"#f0f921\"]], \"type\": \"heatmapgl\"}], \"histogram\": [{\"marker\": {\"colorbar\": {\"outlinewidth\": 0, \"ticks\": \"\"}}, \"type\": \"histogram\"}], \"histogram2d\": [{\"colorbar\": {\"outlinewidth\": 0, \"ticks\": \"\"}, \"colorscale\": [[0.0, \"#0d0887\"], [0.1111111111111111, \"#46039f\"], [0.2222222222222222, \"#7201a8\"], [0.3333333333333333, \"#9c179e\"], [0.4444444444444444, \"#bd3786\"], [0.5555555555555556, \"#d8576b\"], [0.6666666666666666, \"#ed7953\"], [0.7777777777777778, \"#fb9f3a\"], [0.8888888888888888, \"#fdca26\"], [1.0, \"#f0f921\"]], \"type\": \"histogram2d\"}], \"histogram2dcontour\": [{\"colorbar\": {\"outlinewidth\": 0, \"ticks\": \"\"}, \"colorscale\": [[0.0, \"#0d0887\"], [0.1111111111111111, \"#46039f\"], [0.2222222222222222, \"#7201a8\"], [0.3333333333333333, \"#9c179e\"], [0.4444444444444444, \"#bd3786\"], [0.5555555555555556, \"#d8576b\"], [0.6666666666666666, \"#ed7953\"], [0.7777777777777778, \"#fb9f3a\"], [0.8888888888888888, \"#fdca26\"], [1.0, \"#f0f921\"]], \"type\": \"histogram2dcontour\"}], \"mesh3d\": [{\"colorbar\": {\"outlinewidth\": 0, \"ticks\": \"\"}, \"type\": \"mesh3d\"}], \"parcoords\": [{\"line\": {\"colorbar\": {\"outlinewidth\": 0, \"ticks\": \"\"}}, \"type\": \"parcoords\"}], \"scatter\": [{\"marker\": {\"colorbar\": {\"outlinewidth\": 0, \"ticks\": \"\"}}, \"type\": \"scatter\"}], \"scatter3d\": [{\"line\": {\"colorbar\": {\"outlinewidth\": 0, \"ticks\": \"\"}}, \"marker\": {\"colorbar\": {\"outlinewidth\": 0, \"ticks\": \"\"}}, \"type\": \"scatter3d\"}], \"scattercarpet\": [{\"marker\": {\"colorbar\": {\"outlinewidth\": 0, \"ticks\": \"\"}}, \"type\": \"scattercarpet\"}], \"scattergeo\": [{\"marker\": {\"colorbar\": {\"outlinewidth\": 0, \"ticks\": \"\"}}, \"type\": \"scattergeo\"}], \"scattergl\": [{\"marker\": {\"colorbar\": {\"outlinewidth\": 0, \"ticks\": \"\"}}, \"type\": \"scattergl\"}], \"scattermapbox\": [{\"marker\": {\"colorbar\": {\"outlinewidth\": 0, \"ticks\": \"\"}}, \"type\": \"scattermapbox\"}], \"scatterpolar\": [{\"marker\": {\"colorbar\": {\"outlinewidth\": 0, \"ticks\": \"\"}}, \"type\": \"scatterpolar\"}], \"scatterpolargl\": [{\"marker\": {\"colorbar\": {\"outlinewidth\": 0, \"ticks\": \"\"}}, \"type\": \"scatterpolargl\"}], \"scatterternary\": [{\"marker\": {\"colorbar\": {\"outlinewidth\": 0, \"ticks\": \"\"}}, \"type\": \"scatterternary\"}], \"surface\": [{\"colorbar\": {\"outlinewidth\": 0, \"ticks\": \"\"}, \"colorscale\": [[0.0, \"#0d0887\"], [0.1111111111111111, \"#46039f\"], [0.2222222222222222, \"#7201a8\"], [0.3333333333333333, \"#9c179e\"], [0.4444444444444444, \"#bd3786\"], [0.5555555555555556, \"#d8576b\"], [0.6666666666666666, \"#ed7953\"], [0.7777777777777778, \"#fb9f3a\"], [0.8888888888888888, \"#fdca26\"], [1.0, \"#f0f921\"]], \"type\": \"surface\"}], \"table\": [{\"cells\": {\"fill\": {\"color\": \"#EBF0F8\"}, \"line\": {\"color\": \"white\"}}, \"header\": {\"fill\": {\"color\": \"#C8D4E3\"}, \"line\": {\"color\": \"white\"}}, \"type\": \"table\"}]}, \"layout\": {\"annotationdefaults\": {\"arrowcolor\": \"#2a3f5f\", \"arrowhead\": 0, \"arrowwidth\": 1}, \"colorscale\": {\"diverging\": [[0, \"#8e0152\"], [0.1, \"#c51b7d\"], [0.2, \"#de77ae\"], [0.3, \"#f1b6da\"], [0.4, \"#fde0ef\"], [0.5, \"#f7f7f7\"], [0.6, \"#e6f5d0\"], [0.7, \"#b8e186\"], [0.8, \"#7fbc41\"], [0.9, \"#4d9221\"], [1, \"#276419\"]], \"sequential\": [[0.0, \"#0d0887\"], [0.1111111111111111, \"#46039f\"], [0.2222222222222222, \"#7201a8\"], [0.3333333333333333, \"#9c179e\"], [0.4444444444444444, \"#bd3786\"], [0.5555555555555556, \"#d8576b\"], [0.6666666666666666, \"#ed7953\"], [0.7777777777777778, \"#fb9f3a\"], [0.8888888888888888, \"#fdca26\"], [1.0, \"#f0f921\"]], \"sequentialminus\": [[0.0, \"#0d0887\"], [0.1111111111111111, \"#46039f\"], [0.2222222222222222, \"#7201a8\"], [0.3333333333333333, \"#9c179e\"], [0.4444444444444444, \"#bd3786\"], [0.5555555555555556, \"#d8576b\"], [0.6666666666666666, \"#ed7953\"], [0.7777777777777778, \"#fb9f3a\"], [0.8888888888888888, \"#fdca26\"], [1.0, \"#f0f921\"]]}, \"colorway\": [\"#636efa\", \"#EF553B\", \"#00cc96\", \"#ab63fa\", \"#FFA15A\", \"#19d3f3\", \"#FF6692\", \"#B6E880\", \"#FF97FF\", \"#FECB52\"], \"font\": {\"color\": \"#2a3f5f\"}, \"geo\": {\"bgcolor\": \"white\", \"lakecolor\": \"white\", \"landcolor\": \"#E5ECF6\", \"showlakes\": true, \"showland\": true, \"subunitcolor\": \"white\"}, \"hoverlabel\": {\"align\": \"left\"}, \"hovermode\": \"closest\", \"mapbox\": {\"style\": \"light\"}, \"paper_bgcolor\": \"white\", \"plot_bgcolor\": \"#E5ECF6\", \"polar\": {\"angularaxis\": {\"gridcolor\": \"white\", \"linecolor\": \"white\", \"ticks\": \"\"}, \"bgcolor\": \"#E5ECF6\", \"radialaxis\": {\"gridcolor\": \"white\", \"linecolor\": \"white\", \"ticks\": \"\"}}, \"scene\": {\"xaxis\": {\"backgroundcolor\": \"#E5ECF6\", \"gridcolor\": \"white\", \"gridwidth\": 2, \"linecolor\": \"white\", \"showbackground\": true, \"ticks\": \"\", \"zerolinecolor\": \"white\"}, \"yaxis\": {\"backgroundcolor\": \"#E5ECF6\", \"gridcolor\": \"white\", \"gridwidth\": 2, \"linecolor\": \"white\", \"showbackground\": true, \"ticks\": \"\", \"zerolinecolor\": \"white\"}, \"zaxis\": {\"backgroundcolor\": \"#E5ECF6\", \"gridcolor\": \"white\", \"gridwidth\": 2, \"linecolor\": \"white\", \"showbackground\": true, \"ticks\": \"\", \"zerolinecolor\": \"white\"}}, \"shapedefaults\": {\"line\": {\"color\": \"#2a3f5f\"}}, \"ternary\": {\"aaxis\": {\"gridcolor\": \"white\", \"linecolor\": \"white\", \"ticks\": \"\"}, \"baxis\": {\"gridcolor\": \"white\", \"linecolor\": \"white\", \"ticks\": \"\"}, \"bgcolor\": \"#E5ECF6\", \"caxis\": {\"gridcolor\": \"white\", \"linecolor\": \"white\", \"ticks\": \"\"}}, \"title\": {\"x\": 0.05}, \"xaxis\": {\"automargin\": true, \"gridcolor\": \"white\", \"linecolor\": \"white\", \"ticks\": \"\", \"zerolinecolor\": \"white\", \"zerolinewidth\": 2}, \"yaxis\": {\"automargin\": true, \"gridcolor\": \"white\", \"linecolor\": \"white\", \"ticks\": \"\", \"zerolinecolor\": \"white\", \"zerolinewidth\": 2}}}},\n",
       "                        {\"responsive\": true}\n",
       "                    ).then(function(){\n",
       "                            \n",
       "var gd = document.getElementById('8b815fb2-a3c3-493b-a56a-e25d17f9f45e');\n",
       "var x = new MutationObserver(function (mutations, observer) {{\n",
       "        var display = window.getComputedStyle(gd).display;\n",
       "        if (!display || display === 'none') {{\n",
       "            console.log([gd, 'removed!']);\n",
       "            Plotly.purge(gd);\n",
       "            observer.disconnect();\n",
       "        }}\n",
       "}});\n",
       "\n",
       "// Listen for the removal of the full notebook cells\n",
       "var notebookContainer = gd.closest('#notebook-container');\n",
       "if (notebookContainer) {{\n",
       "    x.observe(notebookContainer, {childList: true});\n",
       "}}\n",
       "\n",
       "// Listen for the clearing of the current output cell\n",
       "var outputEl = gd.closest('.output');\n",
       "if (outputEl) {{\n",
       "    x.observe(outputEl, {childList: true});\n",
       "}}\n",
       "\n",
       "                        })\n",
       "                };\n",
       "                });\n",
       "            </script>\n",
       "        </div>"
      ]
     },
     "metadata": {},
     "output_type": "display_data"
    }
   ],
   "source": [
    "##посмотрим соотношение видов объектов общественного питания по количеству на графике\n",
    "fig = go.Figure(data=[go.Pie(labels=types['object_type'], values=types['id'])]);\n",
    "fig.show();"
   ]
  },
  {
   "cell_type": "markdown",
   "metadata": {},
   "source": [
    "**<font color=\"purple\">График показывает, что лидирующими заведениеми общепита в Москве являются кафе - их доля приближается к 40%. А 84% всех заведений представлены кафе, столовыми, ресторанами, предприятиями быстрого обслуживания (фастфуды).</font>**"
   ]
  },
  {
   "cell_type": "markdown",
   "metadata": {},
   "source": [
    "#### Соотношение сетевых и несетевых заведений по количеству <a id=\"ratio_chain\"></a>"
   ]
  },
  {
   "cell_type": "code",
   "execution_count": 94,
   "metadata": {},
   "outputs": [
    {
     "data": {
      "text/html": [
       "<div>\n",
       "<style scoped>\n",
       "    .dataframe tbody tr th:only-of-type {\n",
       "        vertical-align: middle;\n",
       "    }\n",
       "\n",
       "    .dataframe tbody tr th {\n",
       "        vertical-align: top;\n",
       "    }\n",
       "\n",
       "    .dataframe thead th {\n",
       "        text-align: right;\n",
       "    }\n",
       "</style>\n",
       "<table border=\"1\" class=\"dataframe\">\n",
       "  <thead>\n",
       "    <tr style=\"text-align: right;\">\n",
       "      <th></th>\n",
       "      <th>Количество</th>\n",
       "    </tr>\n",
       "  </thead>\n",
       "  <tbody>\n",
       "    <tr>\n",
       "      <td>Сетевой ресторан</td>\n",
       "      <td>2948</td>\n",
       "    </tr>\n",
       "    <tr>\n",
       "      <td>Несетевой ресторан</td>\n",
       "      <td>12234</td>\n",
       "    </tr>\n",
       "  </tbody>\n",
       "</table>\n",
       "</div>"
      ],
      "text/plain": [
       "                    Количество\n",
       "Сетевой ресторан          2948\n",
       "Несетевой ресторан       12234"
      ]
     },
     "execution_count": 94,
     "metadata": {},
     "output_type": "execute_result"
    }
   ],
   "source": [
    "#Определим количество ресторанов сетевого и несетевого типов\n",
    "chain=cafe.groupby('chain').agg({'id':'count'})\n",
    "chain.columns=['Количество']\n",
    "chain.index = ['Сетевой ресторан', 'Несетевой ресторан']\n",
    "chain"
   ]
  },
  {
   "cell_type": "code",
   "execution_count": 95,
   "metadata": {},
   "outputs": [
    {
     "data": {
      "application/vnd.plotly.v1+json": {
       "config": {
        "plotlyServerURL": "https://plot.ly"
       },
       "data": [
        {
         "labels": [
          "Сетевой ресторан",
          "Несетевой ресторан"
         ],
         "type": "pie",
         "values": [
          2948,
          12234
         ]
        }
       ],
       "layout": {
        "template": {
         "data": {
          "bar": [
           {
            "error_x": {
             "color": "#2a3f5f"
            },
            "error_y": {
             "color": "#2a3f5f"
            },
            "marker": {
             "line": {
              "color": "#E5ECF6",
              "width": 0.5
             }
            },
            "type": "bar"
           }
          ],
          "barpolar": [
           {
            "marker": {
             "line": {
              "color": "#E5ECF6",
              "width": 0.5
             }
            },
            "type": "barpolar"
           }
          ],
          "carpet": [
           {
            "aaxis": {
             "endlinecolor": "#2a3f5f",
             "gridcolor": "white",
             "linecolor": "white",
             "minorgridcolor": "white",
             "startlinecolor": "#2a3f5f"
            },
            "baxis": {
             "endlinecolor": "#2a3f5f",
             "gridcolor": "white",
             "linecolor": "white",
             "minorgridcolor": "white",
             "startlinecolor": "#2a3f5f"
            },
            "type": "carpet"
           }
          ],
          "choropleth": [
           {
            "colorbar": {
             "outlinewidth": 0,
             "ticks": ""
            },
            "type": "choropleth"
           }
          ],
          "contour": [
           {
            "colorbar": {
             "outlinewidth": 0,
             "ticks": ""
            },
            "colorscale": [
             [
              0,
              "#0d0887"
             ],
             [
              0.1111111111,
              "#46039f"
             ],
             [
              0.2222222222,
              "#7201a8"
             ],
             [
              0.3333333333,
              "#9c179e"
             ],
             [
              0.4444444444,
              "#bd3786"
             ],
             [
              0.5555555556,
              "#d8576b"
             ],
             [
              0.6666666667,
              "#ed7953"
             ],
             [
              0.7777777778,
              "#fb9f3a"
             ],
             [
              0.8888888889,
              "#fdca26"
             ],
             [
              1,
              "#f0f921"
             ]
            ],
            "type": "contour"
           }
          ],
          "contourcarpet": [
           {
            "colorbar": {
             "outlinewidth": 0,
             "ticks": ""
            },
            "type": "contourcarpet"
           }
          ],
          "heatmap": [
           {
            "colorbar": {
             "outlinewidth": 0,
             "ticks": ""
            },
            "colorscale": [
             [
              0,
              "#0d0887"
             ],
             [
              0.1111111111,
              "#46039f"
             ],
             [
              0.2222222222,
              "#7201a8"
             ],
             [
              0.3333333333,
              "#9c179e"
             ],
             [
              0.4444444444,
              "#bd3786"
             ],
             [
              0.5555555556,
              "#d8576b"
             ],
             [
              0.6666666667,
              "#ed7953"
             ],
             [
              0.7777777778,
              "#fb9f3a"
             ],
             [
              0.8888888889,
              "#fdca26"
             ],
             [
              1,
              "#f0f921"
             ]
            ],
            "type": "heatmap"
           }
          ],
          "heatmapgl": [
           {
            "colorbar": {
             "outlinewidth": 0,
             "ticks": ""
            },
            "colorscale": [
             [
              0,
              "#0d0887"
             ],
             [
              0.1111111111,
              "#46039f"
             ],
             [
              0.2222222222,
              "#7201a8"
             ],
             [
              0.3333333333,
              "#9c179e"
             ],
             [
              0.4444444444,
              "#bd3786"
             ],
             [
              0.5555555556,
              "#d8576b"
             ],
             [
              0.6666666667,
              "#ed7953"
             ],
             [
              0.7777777778,
              "#fb9f3a"
             ],
             [
              0.8888888889,
              "#fdca26"
             ],
             [
              1,
              "#f0f921"
             ]
            ],
            "type": "heatmapgl"
           }
          ],
          "histogram": [
           {
            "marker": {
             "colorbar": {
              "outlinewidth": 0,
              "ticks": ""
             }
            },
            "type": "histogram"
           }
          ],
          "histogram2d": [
           {
            "colorbar": {
             "outlinewidth": 0,
             "ticks": ""
            },
            "colorscale": [
             [
              0,
              "#0d0887"
             ],
             [
              0.1111111111,
              "#46039f"
             ],
             [
              0.2222222222,
              "#7201a8"
             ],
             [
              0.3333333333,
              "#9c179e"
             ],
             [
              0.4444444444,
              "#bd3786"
             ],
             [
              0.5555555556,
              "#d8576b"
             ],
             [
              0.6666666667,
              "#ed7953"
             ],
             [
              0.7777777778,
              "#fb9f3a"
             ],
             [
              0.8888888889,
              "#fdca26"
             ],
             [
              1,
              "#f0f921"
             ]
            ],
            "type": "histogram2d"
           }
          ],
          "histogram2dcontour": [
           {
            "colorbar": {
             "outlinewidth": 0,
             "ticks": ""
            },
            "colorscale": [
             [
              0,
              "#0d0887"
             ],
             [
              0.1111111111,
              "#46039f"
             ],
             [
              0.2222222222,
              "#7201a8"
             ],
             [
              0.3333333333,
              "#9c179e"
             ],
             [
              0.4444444444,
              "#bd3786"
             ],
             [
              0.5555555556,
              "#d8576b"
             ],
             [
              0.6666666667,
              "#ed7953"
             ],
             [
              0.7777777778,
              "#fb9f3a"
             ],
             [
              0.8888888889,
              "#fdca26"
             ],
             [
              1,
              "#f0f921"
             ]
            ],
            "type": "histogram2dcontour"
           }
          ],
          "mesh3d": [
           {
            "colorbar": {
             "outlinewidth": 0,
             "ticks": ""
            },
            "type": "mesh3d"
           }
          ],
          "parcoords": [
           {
            "line": {
             "colorbar": {
              "outlinewidth": 0,
              "ticks": ""
             }
            },
            "type": "parcoords"
           }
          ],
          "scatter": [
           {
            "marker": {
             "colorbar": {
              "outlinewidth": 0,
              "ticks": ""
             }
            },
            "type": "scatter"
           }
          ],
          "scatter3d": [
           {
            "line": {
             "colorbar": {
              "outlinewidth": 0,
              "ticks": ""
             }
            },
            "marker": {
             "colorbar": {
              "outlinewidth": 0,
              "ticks": ""
             }
            },
            "type": "scatter3d"
           }
          ],
          "scattercarpet": [
           {
            "marker": {
             "colorbar": {
              "outlinewidth": 0,
              "ticks": ""
             }
            },
            "type": "scattercarpet"
           }
          ],
          "scattergeo": [
           {
            "marker": {
             "colorbar": {
              "outlinewidth": 0,
              "ticks": ""
             }
            },
            "type": "scattergeo"
           }
          ],
          "scattergl": [
           {
            "marker": {
             "colorbar": {
              "outlinewidth": 0,
              "ticks": ""
             }
            },
            "type": "scattergl"
           }
          ],
          "scattermapbox": [
           {
            "marker": {
             "colorbar": {
              "outlinewidth": 0,
              "ticks": ""
             }
            },
            "type": "scattermapbox"
           }
          ],
          "scatterpolar": [
           {
            "marker": {
             "colorbar": {
              "outlinewidth": 0,
              "ticks": ""
             }
            },
            "type": "scatterpolar"
           }
          ],
          "scatterpolargl": [
           {
            "marker": {
             "colorbar": {
              "outlinewidth": 0,
              "ticks": ""
             }
            },
            "type": "scatterpolargl"
           }
          ],
          "scatterternary": [
           {
            "marker": {
             "colorbar": {
              "outlinewidth": 0,
              "ticks": ""
             }
            },
            "type": "scatterternary"
           }
          ],
          "surface": [
           {
            "colorbar": {
             "outlinewidth": 0,
             "ticks": ""
            },
            "colorscale": [
             [
              0,
              "#0d0887"
             ],
             [
              0.1111111111,
              "#46039f"
             ],
             [
              0.2222222222,
              "#7201a8"
             ],
             [
              0.3333333333,
              "#9c179e"
             ],
             [
              0.4444444444,
              "#bd3786"
             ],
             [
              0.5555555556,
              "#d8576b"
             ],
             [
              0.6666666667,
              "#ed7953"
             ],
             [
              0.7777777778,
              "#fb9f3a"
             ],
             [
              0.8888888889,
              "#fdca26"
             ],
             [
              1,
              "#f0f921"
             ]
            ],
            "type": "surface"
           }
          ],
          "table": [
           {
            "cells": {
             "fill": {
              "color": "#EBF0F8"
             },
             "line": {
              "color": "white"
             }
            },
            "header": {
             "fill": {
              "color": "#C8D4E3"
             },
             "line": {
              "color": "white"
             }
            },
            "type": "table"
           }
          ]
         },
         "layout": {
          "annotationdefaults": {
           "arrowcolor": "#2a3f5f",
           "arrowhead": 0,
           "arrowwidth": 1
          },
          "colorscale": {
           "diverging": [
            [
             0,
             "#8e0152"
            ],
            [
             0.1,
             "#c51b7d"
            ],
            [
             0.2,
             "#de77ae"
            ],
            [
             0.3,
             "#f1b6da"
            ],
            [
             0.4,
             "#fde0ef"
            ],
            [
             0.5,
             "#f7f7f7"
            ],
            [
             0.6,
             "#e6f5d0"
            ],
            [
             0.7,
             "#b8e186"
            ],
            [
             0.8,
             "#7fbc41"
            ],
            [
             0.9,
             "#4d9221"
            ],
            [
             1,
             "#276419"
            ]
           ],
           "sequential": [
            [
             0,
             "#0d0887"
            ],
            [
             0.1111111111,
             "#46039f"
            ],
            [
             0.2222222222,
             "#7201a8"
            ],
            [
             0.3333333333,
             "#9c179e"
            ],
            [
             0.4444444444,
             "#bd3786"
            ],
            [
             0.5555555556,
             "#d8576b"
            ],
            [
             0.6666666667,
             "#ed7953"
            ],
            [
             0.7777777778,
             "#fb9f3a"
            ],
            [
             0.8888888889,
             "#fdca26"
            ],
            [
             1,
             "#f0f921"
            ]
           ],
           "sequentialminus": [
            [
             0,
             "#0d0887"
            ],
            [
             0.1111111111,
             "#46039f"
            ],
            [
             0.2222222222,
             "#7201a8"
            ],
            [
             0.3333333333,
             "#9c179e"
            ],
            [
             0.4444444444,
             "#bd3786"
            ],
            [
             0.5555555556,
             "#d8576b"
            ],
            [
             0.6666666667,
             "#ed7953"
            ],
            [
             0.7777777778,
             "#fb9f3a"
            ],
            [
             0.8888888889,
             "#fdca26"
            ],
            [
             1,
             "#f0f921"
            ]
           ]
          },
          "colorway": [
           "#636efa",
           "#EF553B",
           "#00cc96",
           "#ab63fa",
           "#FFA15A",
           "#19d3f3",
           "#FF6692",
           "#B6E880",
           "#FF97FF",
           "#FECB52"
          ],
          "font": {
           "color": "#2a3f5f"
          },
          "geo": {
           "bgcolor": "white",
           "lakecolor": "white",
           "landcolor": "#E5ECF6",
           "showlakes": true,
           "showland": true,
           "subunitcolor": "white"
          },
          "hoverlabel": {
           "align": "left"
          },
          "hovermode": "closest",
          "mapbox": {
           "style": "light"
          },
          "paper_bgcolor": "white",
          "plot_bgcolor": "#E5ECF6",
          "polar": {
           "angularaxis": {
            "gridcolor": "white",
            "linecolor": "white",
            "ticks": ""
           },
           "bgcolor": "#E5ECF6",
           "radialaxis": {
            "gridcolor": "white",
            "linecolor": "white",
            "ticks": ""
           }
          },
          "scene": {
           "xaxis": {
            "backgroundcolor": "#E5ECF6",
            "gridcolor": "white",
            "gridwidth": 2,
            "linecolor": "white",
            "showbackground": true,
            "ticks": "",
            "zerolinecolor": "white"
           },
           "yaxis": {
            "backgroundcolor": "#E5ECF6",
            "gridcolor": "white",
            "gridwidth": 2,
            "linecolor": "white",
            "showbackground": true,
            "ticks": "",
            "zerolinecolor": "white"
           },
           "zaxis": {
            "backgroundcolor": "#E5ECF6",
            "gridcolor": "white",
            "gridwidth": 2,
            "linecolor": "white",
            "showbackground": true,
            "ticks": "",
            "zerolinecolor": "white"
           }
          },
          "shapedefaults": {
           "line": {
            "color": "#2a3f5f"
           }
          },
          "ternary": {
           "aaxis": {
            "gridcolor": "white",
            "linecolor": "white",
            "ticks": ""
           },
           "baxis": {
            "gridcolor": "white",
            "linecolor": "white",
            "ticks": ""
           },
           "bgcolor": "#E5ECF6",
           "caxis": {
            "gridcolor": "white",
            "linecolor": "white",
            "ticks": ""
           }
          },
          "title": {
           "x": 0.05
          },
          "xaxis": {
           "automargin": true,
           "gridcolor": "white",
           "linecolor": "white",
           "ticks": "",
           "zerolinecolor": "white",
           "zerolinewidth": 2
          },
          "yaxis": {
           "automargin": true,
           "gridcolor": "white",
           "linecolor": "white",
           "ticks": "",
           "zerolinecolor": "white",
           "zerolinewidth": 2
          }
         }
        }
       }
      },
      "text/html": [
       "<div>\n",
       "        \n",
       "        \n",
       "            <div id=\"5687f749-3227-4f1a-a65d-263f2c075f7b\" class=\"plotly-graph-div\" style=\"height:525px; width:100%;\"></div>\n",
       "            <script type=\"text/javascript\">\n",
       "                require([\"plotly\"], function(Plotly) {\n",
       "                    window.PLOTLYENV=window.PLOTLYENV || {};\n",
       "                    \n",
       "                if (document.getElementById(\"5687f749-3227-4f1a-a65d-263f2c075f7b\")) {\n",
       "                    Plotly.newPlot(\n",
       "                        '5687f749-3227-4f1a-a65d-263f2c075f7b',\n",
       "                        [{\"labels\": [\"\\u0421\\u0435\\u0442\\u0435\\u0432\\u043e\\u0439 \\u0440\\u0435\\u0441\\u0442\\u043e\\u0440\\u0430\\u043d\", \"\\u041d\\u0435\\u0441\\u0435\\u0442\\u0435\\u0432\\u043e\\u0439 \\u0440\\u0435\\u0441\\u0442\\u043e\\u0440\\u0430\\u043d\"], \"type\": \"pie\", \"values\": [2948, 12234]}],\n",
       "                        {\"template\": {\"data\": {\"bar\": [{\"error_x\": {\"color\": \"#2a3f5f\"}, \"error_y\": {\"color\": \"#2a3f5f\"}, \"marker\": {\"line\": {\"color\": \"#E5ECF6\", \"width\": 0.5}}, \"type\": \"bar\"}], \"barpolar\": [{\"marker\": {\"line\": {\"color\": \"#E5ECF6\", \"width\": 0.5}}, \"type\": \"barpolar\"}], \"carpet\": [{\"aaxis\": {\"endlinecolor\": \"#2a3f5f\", \"gridcolor\": \"white\", \"linecolor\": \"white\", \"minorgridcolor\": \"white\", \"startlinecolor\": \"#2a3f5f\"}, \"baxis\": {\"endlinecolor\": \"#2a3f5f\", \"gridcolor\": \"white\", \"linecolor\": \"white\", \"minorgridcolor\": \"white\", \"startlinecolor\": \"#2a3f5f\"}, \"type\": \"carpet\"}], \"choropleth\": [{\"colorbar\": {\"outlinewidth\": 0, \"ticks\": \"\"}, \"type\": \"choropleth\"}], \"contour\": [{\"colorbar\": {\"outlinewidth\": 0, \"ticks\": \"\"}, \"colorscale\": [[0.0, \"#0d0887\"], [0.1111111111111111, \"#46039f\"], [0.2222222222222222, \"#7201a8\"], [0.3333333333333333, \"#9c179e\"], [0.4444444444444444, \"#bd3786\"], [0.5555555555555556, \"#d8576b\"], [0.6666666666666666, \"#ed7953\"], [0.7777777777777778, \"#fb9f3a\"], [0.8888888888888888, \"#fdca26\"], [1.0, \"#f0f921\"]], \"type\": \"contour\"}], \"contourcarpet\": [{\"colorbar\": {\"outlinewidth\": 0, \"ticks\": \"\"}, \"type\": \"contourcarpet\"}], \"heatmap\": [{\"colorbar\": {\"outlinewidth\": 0, \"ticks\": \"\"}, \"colorscale\": [[0.0, \"#0d0887\"], [0.1111111111111111, \"#46039f\"], [0.2222222222222222, \"#7201a8\"], [0.3333333333333333, \"#9c179e\"], [0.4444444444444444, \"#bd3786\"], [0.5555555555555556, \"#d8576b\"], [0.6666666666666666, \"#ed7953\"], [0.7777777777777778, \"#fb9f3a\"], [0.8888888888888888, \"#fdca26\"], [1.0, \"#f0f921\"]], \"type\": \"heatmap\"}], \"heatmapgl\": [{\"colorbar\": {\"outlinewidth\": 0, \"ticks\": \"\"}, \"colorscale\": [[0.0, \"#0d0887\"], [0.1111111111111111, \"#46039f\"], [0.2222222222222222, \"#7201a8\"], [0.3333333333333333, \"#9c179e\"], [0.4444444444444444, \"#bd3786\"], [0.5555555555555556, \"#d8576b\"], [0.6666666666666666, \"#ed7953\"], [0.7777777777777778, \"#fb9f3a\"], [0.8888888888888888, \"#fdca26\"], [1.0, \"#f0f921\"]], \"type\": \"heatmapgl\"}], \"histogram\": [{\"marker\": {\"colorbar\": {\"outlinewidth\": 0, \"ticks\": \"\"}}, \"type\": \"histogram\"}], \"histogram2d\": [{\"colorbar\": {\"outlinewidth\": 0, \"ticks\": \"\"}, \"colorscale\": [[0.0, \"#0d0887\"], [0.1111111111111111, \"#46039f\"], [0.2222222222222222, \"#7201a8\"], [0.3333333333333333, \"#9c179e\"], [0.4444444444444444, \"#bd3786\"], [0.5555555555555556, \"#d8576b\"], [0.6666666666666666, \"#ed7953\"], [0.7777777777777778, \"#fb9f3a\"], [0.8888888888888888, \"#fdca26\"], [1.0, \"#f0f921\"]], \"type\": \"histogram2d\"}], \"histogram2dcontour\": [{\"colorbar\": {\"outlinewidth\": 0, \"ticks\": \"\"}, \"colorscale\": [[0.0, \"#0d0887\"], [0.1111111111111111, \"#46039f\"], [0.2222222222222222, \"#7201a8\"], [0.3333333333333333, \"#9c179e\"], [0.4444444444444444, \"#bd3786\"], [0.5555555555555556, \"#d8576b\"], [0.6666666666666666, \"#ed7953\"], [0.7777777777777778, \"#fb9f3a\"], [0.8888888888888888, \"#fdca26\"], [1.0, \"#f0f921\"]], \"type\": \"histogram2dcontour\"}], \"mesh3d\": [{\"colorbar\": {\"outlinewidth\": 0, \"ticks\": \"\"}, \"type\": \"mesh3d\"}], \"parcoords\": [{\"line\": {\"colorbar\": {\"outlinewidth\": 0, \"ticks\": \"\"}}, \"type\": \"parcoords\"}], \"scatter\": [{\"marker\": {\"colorbar\": {\"outlinewidth\": 0, \"ticks\": \"\"}}, \"type\": \"scatter\"}], \"scatter3d\": [{\"line\": {\"colorbar\": {\"outlinewidth\": 0, \"ticks\": \"\"}}, \"marker\": {\"colorbar\": {\"outlinewidth\": 0, \"ticks\": \"\"}}, \"type\": \"scatter3d\"}], \"scattercarpet\": [{\"marker\": {\"colorbar\": {\"outlinewidth\": 0, \"ticks\": \"\"}}, \"type\": \"scattercarpet\"}], \"scattergeo\": [{\"marker\": {\"colorbar\": {\"outlinewidth\": 0, \"ticks\": \"\"}}, \"type\": \"scattergeo\"}], \"scattergl\": [{\"marker\": {\"colorbar\": {\"outlinewidth\": 0, \"ticks\": \"\"}}, \"type\": \"scattergl\"}], \"scattermapbox\": [{\"marker\": {\"colorbar\": {\"outlinewidth\": 0, \"ticks\": \"\"}}, \"type\": \"scattermapbox\"}], \"scatterpolar\": [{\"marker\": {\"colorbar\": {\"outlinewidth\": 0, \"ticks\": \"\"}}, \"type\": \"scatterpolar\"}], \"scatterpolargl\": [{\"marker\": {\"colorbar\": {\"outlinewidth\": 0, \"ticks\": \"\"}}, \"type\": \"scatterpolargl\"}], \"scatterternary\": [{\"marker\": {\"colorbar\": {\"outlinewidth\": 0, \"ticks\": \"\"}}, \"type\": \"scatterternary\"}], \"surface\": [{\"colorbar\": {\"outlinewidth\": 0, \"ticks\": \"\"}, \"colorscale\": [[0.0, \"#0d0887\"], [0.1111111111111111, \"#46039f\"], [0.2222222222222222, \"#7201a8\"], [0.3333333333333333, \"#9c179e\"], [0.4444444444444444, \"#bd3786\"], [0.5555555555555556, \"#d8576b\"], [0.6666666666666666, \"#ed7953\"], [0.7777777777777778, \"#fb9f3a\"], [0.8888888888888888, \"#fdca26\"], [1.0, \"#f0f921\"]], \"type\": \"surface\"}], \"table\": [{\"cells\": {\"fill\": {\"color\": \"#EBF0F8\"}, \"line\": {\"color\": \"white\"}}, \"header\": {\"fill\": {\"color\": \"#C8D4E3\"}, \"line\": {\"color\": \"white\"}}, \"type\": \"table\"}]}, \"layout\": {\"annotationdefaults\": {\"arrowcolor\": \"#2a3f5f\", \"arrowhead\": 0, \"arrowwidth\": 1}, \"colorscale\": {\"diverging\": [[0, \"#8e0152\"], [0.1, \"#c51b7d\"], [0.2, \"#de77ae\"], [0.3, \"#f1b6da\"], [0.4, \"#fde0ef\"], [0.5, \"#f7f7f7\"], [0.6, \"#e6f5d0\"], [0.7, \"#b8e186\"], [0.8, \"#7fbc41\"], [0.9, \"#4d9221\"], [1, \"#276419\"]], \"sequential\": [[0.0, \"#0d0887\"], [0.1111111111111111, \"#46039f\"], [0.2222222222222222, \"#7201a8\"], [0.3333333333333333, \"#9c179e\"], [0.4444444444444444, \"#bd3786\"], [0.5555555555555556, \"#d8576b\"], [0.6666666666666666, \"#ed7953\"], [0.7777777777777778, \"#fb9f3a\"], [0.8888888888888888, \"#fdca26\"], [1.0, \"#f0f921\"]], \"sequentialminus\": [[0.0, \"#0d0887\"], [0.1111111111111111, \"#46039f\"], [0.2222222222222222, \"#7201a8\"], [0.3333333333333333, \"#9c179e\"], [0.4444444444444444, \"#bd3786\"], [0.5555555555555556, \"#d8576b\"], [0.6666666666666666, \"#ed7953\"], [0.7777777777777778, \"#fb9f3a\"], [0.8888888888888888, \"#fdca26\"], [1.0, \"#f0f921\"]]}, \"colorway\": [\"#636efa\", \"#EF553B\", \"#00cc96\", \"#ab63fa\", \"#FFA15A\", \"#19d3f3\", \"#FF6692\", \"#B6E880\", \"#FF97FF\", \"#FECB52\"], \"font\": {\"color\": \"#2a3f5f\"}, \"geo\": {\"bgcolor\": \"white\", \"lakecolor\": \"white\", \"landcolor\": \"#E5ECF6\", \"showlakes\": true, \"showland\": true, \"subunitcolor\": \"white\"}, \"hoverlabel\": {\"align\": \"left\"}, \"hovermode\": \"closest\", \"mapbox\": {\"style\": \"light\"}, \"paper_bgcolor\": \"white\", \"plot_bgcolor\": \"#E5ECF6\", \"polar\": {\"angularaxis\": {\"gridcolor\": \"white\", \"linecolor\": \"white\", \"ticks\": \"\"}, \"bgcolor\": \"#E5ECF6\", \"radialaxis\": {\"gridcolor\": \"white\", \"linecolor\": \"white\", \"ticks\": \"\"}}, \"scene\": {\"xaxis\": {\"backgroundcolor\": \"#E5ECF6\", \"gridcolor\": \"white\", \"gridwidth\": 2, \"linecolor\": \"white\", \"showbackground\": true, \"ticks\": \"\", \"zerolinecolor\": \"white\"}, \"yaxis\": {\"backgroundcolor\": \"#E5ECF6\", \"gridcolor\": \"white\", \"gridwidth\": 2, \"linecolor\": \"white\", \"showbackground\": true, \"ticks\": \"\", \"zerolinecolor\": \"white\"}, \"zaxis\": {\"backgroundcolor\": \"#E5ECF6\", \"gridcolor\": \"white\", \"gridwidth\": 2, \"linecolor\": \"white\", \"showbackground\": true, \"ticks\": \"\", \"zerolinecolor\": \"white\"}}, \"shapedefaults\": {\"line\": {\"color\": \"#2a3f5f\"}}, \"ternary\": {\"aaxis\": {\"gridcolor\": \"white\", \"linecolor\": \"white\", \"ticks\": \"\"}, \"baxis\": {\"gridcolor\": \"white\", \"linecolor\": \"white\", \"ticks\": \"\"}, \"bgcolor\": \"#E5ECF6\", \"caxis\": {\"gridcolor\": \"white\", \"linecolor\": \"white\", \"ticks\": \"\"}}, \"title\": {\"x\": 0.05}, \"xaxis\": {\"automargin\": true, \"gridcolor\": \"white\", \"linecolor\": \"white\", \"ticks\": \"\", \"zerolinecolor\": \"white\", \"zerolinewidth\": 2}, \"yaxis\": {\"automargin\": true, \"gridcolor\": \"white\", \"linecolor\": \"white\", \"ticks\": \"\", \"zerolinecolor\": \"white\", \"zerolinewidth\": 2}}}},\n",
       "                        {\"responsive\": true}\n",
       "                    ).then(function(){\n",
       "                            \n",
       "var gd = document.getElementById('5687f749-3227-4f1a-a65d-263f2c075f7b');\n",
       "var x = new MutationObserver(function (mutations, observer) {{\n",
       "        var display = window.getComputedStyle(gd).display;\n",
       "        if (!display || display === 'none') {{\n",
       "            console.log([gd, 'removed!']);\n",
       "            Plotly.purge(gd);\n",
       "            observer.disconnect();\n",
       "        }}\n",
       "}});\n",
       "\n",
       "// Listen for the removal of the full notebook cells\n",
       "var notebookContainer = gd.closest('#notebook-container');\n",
       "if (notebookContainer) {{\n",
       "    x.observe(notebookContainer, {childList: true});\n",
       "}}\n",
       "\n",
       "// Listen for the clearing of the current output cell\n",
       "var outputEl = gd.closest('.output');\n",
       "if (outputEl) {{\n",
       "    x.observe(outputEl, {childList: true});\n",
       "}}\n",
       "\n",
       "                        })\n",
       "                };\n",
       "                });\n",
       "            </script>\n",
       "        </div>"
      ]
     },
     "metadata": {},
     "output_type": "display_data"
    }
   ],
   "source": [
    "#Построим круговую диаграмму для визуализации\n",
    "fig = go.Figure(data=[go.Pie(labels=chain.index, values=chain['Количество'])])\n",
    "fig.show()"
   ]
  },
  {
   "cell_type": "markdown",
   "metadata": {},
   "source": [
    "**<font color=\"purple\">В Москве 80% всего общепита представлена несетевыми заведениями. </font>**"
   ]
  },
  {
   "cell_type": "markdown",
   "metadata": {},
   "source": [
    "#### Анализ сетевых заведений <a id=\"chain\"></a>"
   ]
  },
  {
   "cell_type": "markdown",
   "metadata": {},
   "source": [
    "Определим для каких типов заведений характерно сетевое распространение"
   ]
  },
  {
   "cell_type": "code",
   "execution_count": 96,
   "metadata": {},
   "outputs": [
    {
     "data": {
      "text/html": [
       "<div>\n",
       "<style scoped>\n",
       "    .dataframe tbody tr th:only-of-type {\n",
       "        vertical-align: middle;\n",
       "    }\n",
       "\n",
       "    .dataframe tbody tr th {\n",
       "        vertical-align: top;\n",
       "    }\n",
       "\n",
       "    .dataframe thead th {\n",
       "        text-align: right;\n",
       "    }\n",
       "</style>\n",
       "<table border=\"1\" class=\"dataframe\">\n",
       "  <thead>\n",
       "    <tr style=\"text-align: right;\">\n",
       "      <th></th>\n",
       "      <th>object_type</th>\n",
       "      <th>chain</th>\n",
       "      <th>id</th>\n",
       "    </tr>\n",
       "  </thead>\n",
       "  <tbody>\n",
       "    <tr>\n",
       "      <td>0</td>\n",
       "      <td>бар</td>\n",
       "      <td>да</td>\n",
       "      <td>37</td>\n",
       "    </tr>\n",
       "    <tr>\n",
       "      <td>1</td>\n",
       "      <td>бар</td>\n",
       "      <td>нет</td>\n",
       "      <td>816</td>\n",
       "    </tr>\n",
       "    <tr>\n",
       "      <td>2</td>\n",
       "      <td>буфет</td>\n",
       "      <td>да</td>\n",
       "      <td>11</td>\n",
       "    </tr>\n",
       "    <tr>\n",
       "      <td>3</td>\n",
       "      <td>буфет</td>\n",
       "      <td>нет</td>\n",
       "      <td>559</td>\n",
       "    </tr>\n",
       "    <tr>\n",
       "      <td>4</td>\n",
       "      <td>закусочная</td>\n",
       "      <td>да</td>\n",
       "      <td>56</td>\n",
       "    </tr>\n",
       "    <tr>\n",
       "      <td>5</td>\n",
       "      <td>закусочная</td>\n",
       "      <td>нет</td>\n",
       "      <td>291</td>\n",
       "    </tr>\n",
       "    <tr>\n",
       "      <td>6</td>\n",
       "      <td>кафе</td>\n",
       "      <td>да</td>\n",
       "      <td>1387</td>\n",
       "    </tr>\n",
       "    <tr>\n",
       "      <td>7</td>\n",
       "      <td>кафе</td>\n",
       "      <td>нет</td>\n",
       "      <td>4621</td>\n",
       "    </tr>\n",
       "    <tr>\n",
       "      <td>8</td>\n",
       "      <td>кафетерий</td>\n",
       "      <td>да</td>\n",
       "      <td>51</td>\n",
       "    </tr>\n",
       "    <tr>\n",
       "      <td>9</td>\n",
       "      <td>кафетерий</td>\n",
       "      <td>нет</td>\n",
       "      <td>342</td>\n",
       "    </tr>\n",
       "    <tr>\n",
       "      <td>10</td>\n",
       "      <td>магазин (отдел кулинарии)</td>\n",
       "      <td>да</td>\n",
       "      <td>78</td>\n",
       "    </tr>\n",
       "    <tr>\n",
       "      <td>11</td>\n",
       "      <td>магазин (отдел кулинарии)</td>\n",
       "      <td>нет</td>\n",
       "      <td>194</td>\n",
       "    </tr>\n",
       "    <tr>\n",
       "      <td>12</td>\n",
       "      <td>предприятие быстрого обслуживания</td>\n",
       "      <td>да</td>\n",
       "      <td>784</td>\n",
       "    </tr>\n",
       "    <tr>\n",
       "      <td>13</td>\n",
       "      <td>предприятие быстрого обслуживания</td>\n",
       "      <td>нет</td>\n",
       "      <td>1106</td>\n",
       "    </tr>\n",
       "    <tr>\n",
       "      <td>14</td>\n",
       "      <td>ресторан</td>\n",
       "      <td>да</td>\n",
       "      <td>541</td>\n",
       "    </tr>\n",
       "    <tr>\n",
       "      <td>15</td>\n",
       "      <td>ресторан</td>\n",
       "      <td>нет</td>\n",
       "      <td>1733</td>\n",
       "    </tr>\n",
       "    <tr>\n",
       "      <td>16</td>\n",
       "      <td>столовая</td>\n",
       "      <td>да</td>\n",
       "      <td>3</td>\n",
       "    </tr>\n",
       "    <tr>\n",
       "      <td>17</td>\n",
       "      <td>столовая</td>\n",
       "      <td>нет</td>\n",
       "      <td>2572</td>\n",
       "    </tr>\n",
       "  </tbody>\n",
       "</table>\n",
       "</div>"
      ],
      "text/plain": [
       "                          object_type chain    id\n",
       "0                                 бар    да    37\n",
       "1                                 бар   нет   816\n",
       "2                               буфет    да    11\n",
       "3                               буфет   нет   559\n",
       "4                          закусочная    да    56\n",
       "5                          закусочная   нет   291\n",
       "6                                кафе    да  1387\n",
       "7                                кафе   нет  4621\n",
       "8                           кафетерий    да    51\n",
       "9                           кафетерий   нет   342\n",
       "10          магазин (отдел кулинарии)    да    78\n",
       "11          магазин (отдел кулинарии)   нет   194\n",
       "12  предприятие быстрого обслуживания    да   784\n",
       "13  предприятие быстрого обслуживания   нет  1106\n",
       "14                           ресторан    да   541\n",
       "15                           ресторан   нет  1733\n",
       "16                           столовая    да     3\n",
       "17                           столовая   нет  2572"
      ]
     },
     "execution_count": 96,
     "metadata": {},
     "output_type": "execute_result"
    }
   ],
   "source": [
    "chain_type = cafe.groupby(['object_type', 'chain']).agg({'id':'count'}).reset_index()\n",
    "\n",
    "chain_type"
   ]
  },
  {
   "cell_type": "code",
   "execution_count": 97,
   "metadata": {},
   "outputs": [
    {
     "data": {
      "text/html": [
       "<div>\n",
       "<style scoped>\n",
       "    .dataframe tbody tr th:only-of-type {\n",
       "        vertical-align: middle;\n",
       "    }\n",
       "\n",
       "    .dataframe tbody tr th {\n",
       "        vertical-align: top;\n",
       "    }\n",
       "\n",
       "    .dataframe thead th {\n",
       "        text-align: right;\n",
       "    }\n",
       "</style>\n",
       "<table border=\"1\" class=\"dataframe\">\n",
       "  <thead>\n",
       "    <tr style=\"text-align: right;\">\n",
       "      <th></th>\n",
       "      <th>object_type</th>\n",
       "      <th>chain</th>\n",
       "      <th>id</th>\n",
       "      <th>percent</th>\n",
       "    </tr>\n",
       "  </thead>\n",
       "  <tbody>\n",
       "    <tr>\n",
       "      <td>0</td>\n",
       "      <td>бар</td>\n",
       "      <td>да</td>\n",
       "      <td>37</td>\n",
       "      <td>4.3</td>\n",
       "    </tr>\n",
       "    <tr>\n",
       "      <td>1</td>\n",
       "      <td>бар</td>\n",
       "      <td>нет</td>\n",
       "      <td>816</td>\n",
       "      <td>95.7</td>\n",
       "    </tr>\n",
       "    <tr>\n",
       "      <td>2</td>\n",
       "      <td>буфет</td>\n",
       "      <td>да</td>\n",
       "      <td>11</td>\n",
       "      <td>1.9</td>\n",
       "    </tr>\n",
       "    <tr>\n",
       "      <td>3</td>\n",
       "      <td>буфет</td>\n",
       "      <td>нет</td>\n",
       "      <td>559</td>\n",
       "      <td>98.1</td>\n",
       "    </tr>\n",
       "    <tr>\n",
       "      <td>4</td>\n",
       "      <td>закусочная</td>\n",
       "      <td>да</td>\n",
       "      <td>56</td>\n",
       "      <td>16.1</td>\n",
       "    </tr>\n",
       "    <tr>\n",
       "      <td>5</td>\n",
       "      <td>закусочная</td>\n",
       "      <td>нет</td>\n",
       "      <td>291</td>\n",
       "      <td>83.9</td>\n",
       "    </tr>\n",
       "    <tr>\n",
       "      <td>6</td>\n",
       "      <td>кафе</td>\n",
       "      <td>да</td>\n",
       "      <td>1387</td>\n",
       "      <td>23.1</td>\n",
       "    </tr>\n",
       "    <tr>\n",
       "      <td>7</td>\n",
       "      <td>кафе</td>\n",
       "      <td>нет</td>\n",
       "      <td>4621</td>\n",
       "      <td>76.9</td>\n",
       "    </tr>\n",
       "    <tr>\n",
       "      <td>8</td>\n",
       "      <td>кафетерий</td>\n",
       "      <td>да</td>\n",
       "      <td>51</td>\n",
       "      <td>13.0</td>\n",
       "    </tr>\n",
       "    <tr>\n",
       "      <td>9</td>\n",
       "      <td>кафетерий</td>\n",
       "      <td>нет</td>\n",
       "      <td>342</td>\n",
       "      <td>87.0</td>\n",
       "    </tr>\n",
       "    <tr>\n",
       "      <td>10</td>\n",
       "      <td>магазин (отдел кулинарии)</td>\n",
       "      <td>да</td>\n",
       "      <td>78</td>\n",
       "      <td>28.7</td>\n",
       "    </tr>\n",
       "    <tr>\n",
       "      <td>11</td>\n",
       "      <td>магазин (отдел кулинарии)</td>\n",
       "      <td>нет</td>\n",
       "      <td>194</td>\n",
       "      <td>71.3</td>\n",
       "    </tr>\n",
       "    <tr>\n",
       "      <td>12</td>\n",
       "      <td>предприятие быстрого обслуживания</td>\n",
       "      <td>да</td>\n",
       "      <td>784</td>\n",
       "      <td>41.5</td>\n",
       "    </tr>\n",
       "    <tr>\n",
       "      <td>13</td>\n",
       "      <td>предприятие быстрого обслуживания</td>\n",
       "      <td>нет</td>\n",
       "      <td>1106</td>\n",
       "      <td>58.5</td>\n",
       "    </tr>\n",
       "    <tr>\n",
       "      <td>14</td>\n",
       "      <td>ресторан</td>\n",
       "      <td>да</td>\n",
       "      <td>541</td>\n",
       "      <td>23.8</td>\n",
       "    </tr>\n",
       "    <tr>\n",
       "      <td>15</td>\n",
       "      <td>ресторан</td>\n",
       "      <td>нет</td>\n",
       "      <td>1733</td>\n",
       "      <td>76.2</td>\n",
       "    </tr>\n",
       "    <tr>\n",
       "      <td>16</td>\n",
       "      <td>столовая</td>\n",
       "      <td>да</td>\n",
       "      <td>3</td>\n",
       "      <td>0.1</td>\n",
       "    </tr>\n",
       "    <tr>\n",
       "      <td>17</td>\n",
       "      <td>столовая</td>\n",
       "      <td>нет</td>\n",
       "      <td>2572</td>\n",
       "      <td>99.9</td>\n",
       "    </tr>\n",
       "  </tbody>\n",
       "</table>\n",
       "</div>"
      ],
      "text/plain": [
       "                          object_type chain    id  percent\n",
       "0                                 бар    да    37      4.3\n",
       "1                                 бар   нет   816     95.7\n",
       "2                               буфет    да    11      1.9\n",
       "3                               буфет   нет   559     98.1\n",
       "4                          закусочная    да    56     16.1\n",
       "5                          закусочная   нет   291     83.9\n",
       "6                                кафе    да  1387     23.1\n",
       "7                                кафе   нет  4621     76.9\n",
       "8                           кафетерий    да    51     13.0\n",
       "9                           кафетерий   нет   342     87.0\n",
       "10          магазин (отдел кулинарии)    да    78     28.7\n",
       "11          магазин (отдел кулинарии)   нет   194     71.3\n",
       "12  предприятие быстрого обслуживания    да   784     41.5\n",
       "13  предприятие быстрого обслуживания   нет  1106     58.5\n",
       "14                           ресторан    да   541     23.8\n",
       "15                           ресторан   нет  1733     76.2\n",
       "16                           столовая    да     3      0.1\n",
       "17                           столовая   нет  2572     99.9"
      ]
     },
     "execution_count": 97,
     "metadata": {},
     "output_type": "execute_result"
    }
   ],
   "source": [
    "chain_type['percent'] = chain_type['id'].div(chain_type.groupby(\n",
    "    'object_type')['id'].transform('sum')).round(3)*100\n",
    "\n",
    "chain_type"
   ]
  },
  {
   "cell_type": "code",
   "execution_count": 98,
   "metadata": {},
   "outputs": [
    {
     "data": {
      "image/png": "[encoded data removed]",
      "text/plain": [
       "<Figure size 1152x648 with 1 Axes>"
      ]
     },
     "metadata": {
      "needs_background": "light"
     },
     "output_type": "display_data"
    }
   ],
   "source": [
    "plt.figure(figsize=(16, 9))\n",
    "sns.barplot(x='id', y='object_type', hue='chain', data=chain_type).set_title(\n",
    "'Соотношение сетевых и несетевых заведений в различных объектах общественного питания \\\n",
    "Москвы', fontsize=18)\n",
    "plt.ylabel('Тип заведений', fontsize=16, labelpad=12);\n",
    "plt.xlabel('Количество заведений', fontsize=16, labelpad=12);\n",
    "plt.legend(title='Сетевой?');"
   ]
  },
  {
   "cell_type": "code",
   "execution_count": 99,
   "metadata": {},
   "outputs": [
    {
     "data": {
      "image/png": "[encoded data removed]",
      "text/plain": [
       "<Figure size 1152x648 with 1 Axes>"
      ]
     },
     "metadata": {
      "needs_background": "light"
     },
     "output_type": "display_data"
    }
   ],
   "source": [
    "# Посмотрим на долю сетевой направленности по разным типам заведений\n",
    "plt.figure(figsize=(16, 9))\n",
    "sns.barplot(x='percent', y='object_type', hue='chain', data=chain_type).set_title(\n",
    "'Доля сетевых и несетевых заведений в различных объектах общественного питания \\\n",
    "Москвы', fontsize=18)\n",
    "plt.ylabel('Тип заведений', fontsize=16, labelpad=12);\n",
    "plt.xlabel('Доля заведений, %', fontsize=16, labelpad=12);\n",
    "plt.legend(title='Сетевой?');"
   ]
  },
  {
   "cell_type": "markdown",
   "metadata": {},
   "source": [
    "**<font color=\"purple\">Сетевое распростанение характерно преимущественно для объектов типа (в порядке убывания) \"Кафе\", \"Предприятие быстрого обслуживания\" (фастфуд) и \"Ресторан\". Практически отсутствует сетевая направленность столовых. У фастфудов преимущественно сетевая направленность, также почти половина всех отделов кулинарии - также имеет сетевой характер</font>**"
   ]
  },
  {
   "cell_type": "markdown",
   "metadata": {},
   "source": [
    "#### Что характерно для сетевых заведений: много заведений с небольшим числом посадочных мест в каждом или мало заведений с большим количеством посадочных мест?"
   ]
  },
  {
   "cell_type": "code",
   "execution_count": 100,
   "metadata": {},
   "outputs": [
    {
     "data": {
      "text/html": [
       "<div>\n",
       "<style scoped>\n",
       "    .dataframe tbody tr th:only-of-type {\n",
       "        vertical-align: middle;\n",
       "    }\n",
       "\n",
       "    .dataframe tbody tr th {\n",
       "        vertical-align: top;\n",
       "    }\n",
       "\n",
       "    .dataframe thead th {\n",
       "        text-align: right;\n",
       "    }\n",
       "</style>\n",
       "<table border=\"1\" class=\"dataframe\">\n",
       "  <thead>\n",
       "    <tr style=\"text-align: right;\">\n",
       "      <th></th>\n",
       "      <th>id</th>\n",
       "      <th>object_name</th>\n",
       "      <th>chain</th>\n",
       "      <th>object_type</th>\n",
       "      <th>address</th>\n",
       "      <th>number</th>\n",
       "    </tr>\n",
       "  </thead>\n",
       "  <tbody>\n",
       "    <tr>\n",
       "      <td>0</td>\n",
       "      <td>151635</td>\n",
       "      <td>сметана</td>\n",
       "      <td>нет</td>\n",
       "      <td>кафе</td>\n",
       "      <td>город москва, улица егора абакумова, дом 9</td>\n",
       "      <td>48</td>\n",
       "    </tr>\n",
       "    <tr>\n",
       "      <td>1</td>\n",
       "      <td>77874</td>\n",
       "      <td>родник</td>\n",
       "      <td>нет</td>\n",
       "      <td>кафе</td>\n",
       "      <td>город москва, улица талалихина, дом 2/1, корпус 1</td>\n",
       "      <td>35</td>\n",
       "    </tr>\n",
       "    <tr>\n",
       "      <td>2</td>\n",
       "      <td>24309</td>\n",
       "      <td>кафе «академия»</td>\n",
       "      <td>нет</td>\n",
       "      <td>кафе</td>\n",
       "      <td>город москва, абельмановская улица, дом 6</td>\n",
       "      <td>95</td>\n",
       "    </tr>\n",
       "    <tr>\n",
       "      <td>3</td>\n",
       "      <td>21894</td>\n",
       "      <td>пиццетория</td>\n",
       "      <td>да</td>\n",
       "      <td>кафе</td>\n",
       "      <td>город москва, абрамцевская улица, дом 1</td>\n",
       "      <td>40</td>\n",
       "    </tr>\n",
       "    <tr>\n",
       "      <td>4</td>\n",
       "      <td>119365</td>\n",
       "      <td>кафе «вишневая метель»</td>\n",
       "      <td>нет</td>\n",
       "      <td>кафе</td>\n",
       "      <td>город москва, абрамцевская улица, дом 9, корпус 1</td>\n",
       "      <td>50</td>\n",
       "    </tr>\n",
       "  </tbody>\n",
       "</table>\n",
       "</div>"
      ],
      "text/plain": [
       "       id             object_name chain object_type  \\\n",
       "0  151635                 сметана   нет        кафе   \n",
       "1   77874                  родник   нет        кафе   \n",
       "2   24309         кафе «академия»   нет        кафе   \n",
       "3   21894              пиццетория    да        кафе   \n",
       "4  119365  кафе «вишневая метель»   нет        кафе   \n",
       "\n",
       "                                             address  number  \n",
       "0         город москва, улица егора абакумова, дом 9      48  \n",
       "1  город москва, улица талалихина, дом 2/1, корпус 1      35  \n",
       "2          город москва, абельмановская улица, дом 6      95  \n",
       "3            город москва, абрамцевская улица, дом 1      40  \n",
       "4  город москва, абрамцевская улица, дом 9, корпус 1      50  "
      ]
     },
     "execution_count": 100,
     "metadata": {},
     "output_type": "execute_result"
    }
   ],
   "source": [
    "#Вернемся к исходным данным\n",
    "cafe.head()"
   ]
  },
  {
   "cell_type": "code",
   "execution_count": 101,
   "metadata": {},
   "outputs": [
    {
     "data": {
      "text/html": [
       "<div>\n",
       "<style scoped>\n",
       "    .dataframe tbody tr th:only-of-type {\n",
       "        vertical-align: middle;\n",
       "    }\n",
       "\n",
       "    .dataframe tbody tr th {\n",
       "        vertical-align: top;\n",
       "    }\n",
       "\n",
       "    .dataframe thead th {\n",
       "        text-align: right;\n",
       "    }\n",
       "</style>\n",
       "<table border=\"1\" class=\"dataframe\">\n",
       "  <thead>\n",
       "    <tr style=\"text-align: right;\">\n",
       "      <th></th>\n",
       "      <th>object_name</th>\n",
       "      <th>address</th>\n",
       "      <th>number</th>\n",
       "    </tr>\n",
       "  </thead>\n",
       "  <tbody>\n",
       "    <tr>\n",
       "      <td>0</td>\n",
       "      <td>beverly hills diner</td>\n",
       "      <td>1</td>\n",
       "      <td>88.0</td>\n",
       "    </tr>\n",
       "    <tr>\n",
       "      <td>1</td>\n",
       "      <td>bierloga</td>\n",
       "      <td>1</td>\n",
       "      <td>75.0</td>\n",
       "    </tr>\n",
       "    <tr>\n",
       "      <td>2</td>\n",
       "      <td>black &amp; white</td>\n",
       "      <td>1</td>\n",
       "      <td>40.0</td>\n",
       "    </tr>\n",
       "    <tr>\n",
       "      <td>3</td>\n",
       "      <td>bocconcino</td>\n",
       "      <td>3</td>\n",
       "      <td>68.0</td>\n",
       "    </tr>\n",
       "    <tr>\n",
       "      <td>4</td>\n",
       "      <td>boobo</td>\n",
       "      <td>1</td>\n",
       "      <td>46.0</td>\n",
       "    </tr>\n",
       "  </tbody>\n",
       "</table>\n",
       "</div>"
      ],
      "text/plain": [
       "           object_name  address  number\n",
       "0  beverly hills diner        1    88.0\n",
       "1             bierloga        1    75.0\n",
       "2        black & white        1    40.0\n",
       "3           bocconcino        3    68.0\n",
       "4                boobo        1    46.0"
      ]
     },
     "execution_count": 101,
     "metadata": {},
     "output_type": "execute_result"
    }
   ],
   "source": [
    "#Отфильтруем все сетевые заведения и сделаем группировку по количеству заведений каждой сети и медиан-\n",
    "#ному значению количества посадочных мест\n",
    "cafe_chain=cafe.query('chain==\"да\"').groupby('object_name').agg({'address':'count', 'number':'median'}).reset_index()\n",
    "cafe_chain.head()"
   ]
  },
  {
   "cell_type": "code",
   "execution_count": 102,
   "metadata": {},
   "outputs": [
    {
     "data": {
      "image/png": "[encoded data removed]",
      "text/plain": [
       "<Figure size 864x648 with 1 Axes>"
      ]
     },
     "metadata": {
      "needs_background": "light"
     },
     "output_type": "display_data"
    }
   ],
   "source": [
    "plt.figure(figsize=(12, 9)) \n",
    "sns.scatterplot(x=\"number\", y=\"address\", data=cafe_chain).set_title(\n",
    "    'Распределение сетевых заведений по количеству и числу посадочных мест');\n",
    "plt.xlabel('Количество посадочных мест', fontsize=12, labelpad=10);\n",
    "plt.ylabel('Количество заведений одной сети', fontsize=12, labelpad=10);"
   ]
  },
  {
   "cell_type": "code",
   "execution_count": 103,
   "metadata": {},
   "outputs": [
    {
     "data": {
      "text/html": [
       "<div>\n",
       "<style scoped>\n",
       "    .dataframe tbody tr th:only-of-type {\n",
       "        vertical-align: middle;\n",
       "    }\n",
       "\n",
       "    .dataframe tbody tr th {\n",
       "        vertical-align: top;\n",
       "    }\n",
       "\n",
       "    .dataframe thead th {\n",
       "        text-align: right;\n",
       "    }\n",
       "</style>\n",
       "<table border=\"1\" class=\"dataframe\">\n",
       "  <thead>\n",
       "    <tr style=\"text-align: right;\">\n",
       "      <th></th>\n",
       "      <th>address</th>\n",
       "      <th>number</th>\n",
       "    </tr>\n",
       "  </thead>\n",
       "  <tbody>\n",
       "    <tr>\n",
       "      <td>count</td>\n",
       "      <td>576.000000</td>\n",
       "      <td>576.000000</td>\n",
       "    </tr>\n",
       "    <tr>\n",
       "      <td>mean</td>\n",
       "      <td>5.118056</td>\n",
       "      <td>58.034722</td>\n",
       "    </tr>\n",
       "    <tr>\n",
       "      <td>std</td>\n",
       "      <td>15.424880</td>\n",
       "      <td>53.730759</td>\n",
       "    </tr>\n",
       "    <tr>\n",
       "      <td>min</td>\n",
       "      <td>1.000000</td>\n",
       "      <td>0.000000</td>\n",
       "    </tr>\n",
       "    <tr>\n",
       "      <td>25%</td>\n",
       "      <td>1.000000</td>\n",
       "      <td>20.000000</td>\n",
       "    </tr>\n",
       "    <tr>\n",
       "      <td>50%</td>\n",
       "      <td>1.000000</td>\n",
       "      <td>43.500000</td>\n",
       "    </tr>\n",
       "    <tr>\n",
       "      <td>75%</td>\n",
       "      <td>3.000000</td>\n",
       "      <td>82.375000</td>\n",
       "    </tr>\n",
       "    <tr>\n",
       "      <td>max</td>\n",
       "      <td>155.000000</td>\n",
       "      <td>306.000000</td>\n",
       "    </tr>\n",
       "  </tbody>\n",
       "</table>\n",
       "</div>"
      ],
      "text/plain": [
       "          address      number\n",
       "count  576.000000  576.000000\n",
       "mean     5.118056   58.034722\n",
       "std     15.424880   53.730759\n",
       "min      1.000000    0.000000\n",
       "25%      1.000000   20.000000\n",
       "50%      1.000000   43.500000\n",
       "75%      3.000000   82.375000\n",
       "max    155.000000  306.000000"
      ]
     },
     "execution_count": 103,
     "metadata": {},
     "output_type": "execute_result"
    }
   ],
   "source": [
    "cafe_chain.describe()"
   ]
  },
  {
   "cell_type": "markdown",
   "metadata": {},
   "source": [
    "**<font color=\"purple\">Для 75% сетевых заведений общественного питания Москвы характерно количество посадочных мест до 80 и число заведений одной сети в пределах трех. Иными словами для сетевых заведений характерно малое количество точек одной сети, но достаточно большое количество посадочных мест в пределах каждой. </font>**"
   ]
  },
  {
   "cell_type": "markdown",
   "metadata": {},
   "source": [
    "#### Среднее количество посадочных мест <a id=\"median_number\"></a>"
   ]
  },
  {
   "cell_type": "code",
   "execution_count": 104,
   "metadata": {},
   "outputs": [
    {
     "data": {
      "image/png": "[encoded data removed]",
      "text/plain": [
       "<Figure size 864x648 with 1 Axes>"
      ]
     },
     "metadata": {
      "needs_background": "light"
     },
     "output_type": "display_data"
    }
   ],
   "source": [
    "#Проверим параметр \"Количество посадочных мест\" на предмет выбросов\n",
    "plt.figure(figsize=(12, 9)) \n",
    "sns.boxplot(x=\"number\", y=\"object_type\", data=cafe);\n",
    "plt.ylabel('Тип объекта общественного питания', fontsize=14, labelpad=10);\n",
    "plt.xlabel('Количество посадочных мест', fontsize=14, labelpad=10);\n",
    "plt.xlim(0, 500);"
   ]
  },
  {
   "cell_type": "code",
   "execution_count": 105,
   "metadata": {},
   "outputs": [
    {
     "data": {
      "text/html": [
       "<div>\n",
       "<style scoped>\n",
       "    .dataframe tbody tr th:only-of-type {\n",
       "        vertical-align: middle;\n",
       "    }\n",
       "\n",
       "    .dataframe tbody tr th {\n",
       "        vertical-align: top;\n",
       "    }\n",
       "\n",
       "    .dataframe thead th {\n",
       "        text-align: right;\n",
       "    }\n",
       "</style>\n",
       "<table border=\"1\" class=\"dataframe\">\n",
       "  <thead>\n",
       "    <tr style=\"text-align: right;\">\n",
       "      <th></th>\n",
       "      <th>count</th>\n",
       "      <th>mean</th>\n",
       "      <th>std</th>\n",
       "      <th>min</th>\n",
       "      <th>25%</th>\n",
       "      <th>50%</th>\n",
       "      <th>75%</th>\n",
       "      <th>max</th>\n",
       "    </tr>\n",
       "    <tr>\n",
       "      <th>object_type</th>\n",
       "      <th></th>\n",
       "      <th></th>\n",
       "      <th></th>\n",
       "      <th></th>\n",
       "      <th></th>\n",
       "      <th></th>\n",
       "      <th></th>\n",
       "      <th></th>\n",
       "    </tr>\n",
       "  </thead>\n",
       "  <tbody>\n",
       "    <tr>\n",
       "      <td>бар</td>\n",
       "      <td>853.0</td>\n",
       "      <td>43.602579</td>\n",
       "      <td>67.175723</td>\n",
       "      <td>0.0</td>\n",
       "      <td>20.0</td>\n",
       "      <td>35.0</td>\n",
       "      <td>50.0</td>\n",
       "      <td>1700.0</td>\n",
       "    </tr>\n",
       "    <tr>\n",
       "      <td>буфет</td>\n",
       "      <td>570.0</td>\n",
       "      <td>51.487719</td>\n",
       "      <td>56.537193</td>\n",
       "      <td>0.0</td>\n",
       "      <td>15.0</td>\n",
       "      <td>32.0</td>\n",
       "      <td>80.0</td>\n",
       "      <td>320.0</td>\n",
       "    </tr>\n",
       "    <tr>\n",
       "      <td>закусочная</td>\n",
       "      <td>347.0</td>\n",
       "      <td>7.685879</td>\n",
       "      <td>16.636435</td>\n",
       "      <td>0.0</td>\n",
       "      <td>0.0</td>\n",
       "      <td>0.0</td>\n",
       "      <td>10.0</td>\n",
       "      <td>216.0</td>\n",
       "    </tr>\n",
       "    <tr>\n",
       "      <td>кафе</td>\n",
       "      <td>6008.0</td>\n",
       "      <td>39.886984</td>\n",
       "      <td>37.801322</td>\n",
       "      <td>0.0</td>\n",
       "      <td>15.0</td>\n",
       "      <td>32.0</td>\n",
       "      <td>50.0</td>\n",
       "      <td>533.0</td>\n",
       "    </tr>\n",
       "    <tr>\n",
       "      <td>кафетерий</td>\n",
       "      <td>393.0</td>\n",
       "      <td>9.221374</td>\n",
       "      <td>14.704725</td>\n",
       "      <td>0.0</td>\n",
       "      <td>0.0</td>\n",
       "      <td>6.0</td>\n",
       "      <td>12.0</td>\n",
       "      <td>200.0</td>\n",
       "    </tr>\n",
       "    <tr>\n",
       "      <td>магазин (отдел кулинарии)</td>\n",
       "      <td>272.0</td>\n",
       "      <td>5.610294</td>\n",
       "      <td>9.885076</td>\n",
       "      <td>0.0</td>\n",
       "      <td>0.0</td>\n",
       "      <td>0.0</td>\n",
       "      <td>8.0</td>\n",
       "      <td>50.0</td>\n",
       "    </tr>\n",
       "    <tr>\n",
       "      <td>предприятие быстрого обслуживания</td>\n",
       "      <td>1890.0</td>\n",
       "      <td>20.787302</td>\n",
       "      <td>38.575910</td>\n",
       "      <td>0.0</td>\n",
       "      <td>0.0</td>\n",
       "      <td>6.0</td>\n",
       "      <td>25.0</td>\n",
       "      <td>580.0</td>\n",
       "    </tr>\n",
       "    <tr>\n",
       "      <td>ресторан</td>\n",
       "      <td>2274.0</td>\n",
       "      <td>97.065963</td>\n",
       "      <td>94.891297</td>\n",
       "      <td>0.0</td>\n",
       "      <td>47.0</td>\n",
       "      <td>80.0</td>\n",
       "      <td>114.0</td>\n",
       "      <td>1500.0</td>\n",
       "    </tr>\n",
       "    <tr>\n",
       "      <td>столовая</td>\n",
       "      <td>2575.0</td>\n",
       "      <td>130.367767</td>\n",
       "      <td>95.279805</td>\n",
       "      <td>0.0</td>\n",
       "      <td>52.0</td>\n",
       "      <td>103.0</td>\n",
       "      <td>200.0</td>\n",
       "      <td>1400.0</td>\n",
       "    </tr>\n",
       "  </tbody>\n",
       "</table>\n",
       "</div>"
      ],
      "text/plain": [
       "                                    count        mean        std  min   25%  \\\n",
       "object_type                                                                   \n",
       "бар                                 853.0   43.602579  67.175723  0.0  20.0   \n",
       "буфет                               570.0   51.487719  56.537193  0.0  15.0   \n",
       "закусочная                          347.0    7.685879  16.636435  0.0   0.0   \n",
       "кафе                               6008.0   39.886984  37.801322  0.0  15.0   \n",
       "кафетерий                           393.0    9.221374  14.704725  0.0   0.0   \n",
       "магазин (отдел кулинарии)           272.0    5.610294   9.885076  0.0   0.0   \n",
       "предприятие быстрого обслуживания  1890.0   20.787302  38.575910  0.0   0.0   \n",
       "ресторан                           2274.0   97.065963  94.891297  0.0  47.0   \n",
       "столовая                           2575.0  130.367767  95.279805  0.0  52.0   \n",
       "\n",
       "                                     50%    75%     max  \n",
       "object_type                                              \n",
       "бар                                 35.0   50.0  1700.0  \n",
       "буфет                               32.0   80.0   320.0  \n",
       "закусочная                           0.0   10.0   216.0  \n",
       "кафе                                32.0   50.0   533.0  \n",
       "кафетерий                            6.0   12.0   200.0  \n",
       "магазин (отдел кулинарии)            0.0    8.0    50.0  \n",
       "предприятие быстрого обслуживания    6.0   25.0   580.0  \n",
       "ресторан                            80.0  114.0  1500.0  \n",
       "столовая                           103.0  200.0  1400.0  "
      ]
     },
     "execution_count": 105,
     "metadata": {},
     "output_type": "execute_result"
    }
   ],
   "source": [
    "cafe.groupby('object_type')['number'].describe()\n"
   ]
  },
  {
   "cell_type": "markdown",
   "metadata": {},
   "source": [
    "**<font color=\"purple\">В наших данных много выбросов, искажающих среднее значение. В расчетах мы будем использовать медиану </font>**"
   ]
  },
  {
   "cell_type": "code",
   "execution_count": 106,
   "metadata": {},
   "outputs": [
    {
     "data": {
      "image/png": "[encoded data removed]",
      "text/plain": [
       "<Figure size 1152x648 with 1 Axes>"
      ]
     },
     "metadata": {
      "needs_background": "light"
     },
     "output_type": "display_data"
    }
   ],
   "source": [
    "median_number=cafe.groupby('object_type').agg({'number':'median'}).reset_index().sort_values(\n",
    "    by='number', ascending=False)\n",
    "plt.figure(figsize=(16, 9))\n",
    "sns.barplot(x='number', y='object_type', data=median_number).set_title(\n",
    "'Среднее количество посадочных мест в различных объектах общественного питания Москвы', fontsize=18)\n",
    "plt.ylabel('Тип объекта общественного питания', fontsize=16, labelpad=12);\n",
    "plt.xlabel('Среднее количество посадочных мест', fontsize=16, labelpad=12);\n"
   ]
  },
  {
   "cell_type": "markdown",
   "metadata": {},
   "source": [
    "**<font color=\"purple\">Самое большое количество посадочных мест наблюдается в столовых. Интересно, что в закусочных и отделах кулинарии посадочных мест нет вовсе.</font>**"
   ]
  },
  {
   "cell_type": "markdown",
   "metadata": {},
   "source": [
    "#### Выделение в отдельный столбец информации об улице <a id=\"street\"></a>"
   ]
  },
  {
   "cell_type": "code",
   "execution_count": 107,
   "metadata": {},
   "outputs": [
    {
     "data": {
      "text/html": [
       "<div>\n",
       "<style scoped>\n",
       "    .dataframe tbody tr th:only-of-type {\n",
       "        vertical-align: middle;\n",
       "    }\n",
       "\n",
       "    .dataframe tbody tr th {\n",
       "        vertical-align: top;\n",
       "    }\n",
       "\n",
       "    .dataframe thead th {\n",
       "        text-align: right;\n",
       "    }\n",
       "</style>\n",
       "<table border=\"1\" class=\"dataframe\">\n",
       "  <thead>\n",
       "    <tr style=\"text-align: right;\">\n",
       "      <th></th>\n",
       "      <th>id</th>\n",
       "      <th>object_name</th>\n",
       "      <th>chain</th>\n",
       "      <th>object_type</th>\n",
       "      <th>address</th>\n",
       "      <th>number</th>\n",
       "      <th>street</th>\n",
       "    </tr>\n",
       "  </thead>\n",
       "  <tbody>\n",
       "    <tr>\n",
       "      <td>0</td>\n",
       "      <td>151635</td>\n",
       "      <td>сметана</td>\n",
       "      <td>нет</td>\n",
       "      <td>кафе</td>\n",
       "      <td>город москва, улица егора абакумова, дом 9</td>\n",
       "      <td>48</td>\n",
       "      <td>улица егора абакумова</td>\n",
       "    </tr>\n",
       "    <tr>\n",
       "      <td>1</td>\n",
       "      <td>77874</td>\n",
       "      <td>родник</td>\n",
       "      <td>нет</td>\n",
       "      <td>кафе</td>\n",
       "      <td>город москва, улица талалихина, дом 2/1, корпус 1</td>\n",
       "      <td>35</td>\n",
       "      <td>улица талалихина</td>\n",
       "    </tr>\n",
       "    <tr>\n",
       "      <td>2</td>\n",
       "      <td>24309</td>\n",
       "      <td>кафе «академия»</td>\n",
       "      <td>нет</td>\n",
       "      <td>кафе</td>\n",
       "      <td>город москва, абельмановская улица, дом 6</td>\n",
       "      <td>95</td>\n",
       "      <td>абельмановская улица</td>\n",
       "    </tr>\n",
       "    <tr>\n",
       "      <td>3</td>\n",
       "      <td>21894</td>\n",
       "      <td>пиццетория</td>\n",
       "      <td>да</td>\n",
       "      <td>кафе</td>\n",
       "      <td>город москва, абрамцевская улица, дом 1</td>\n",
       "      <td>40</td>\n",
       "      <td>абрамцевская улица</td>\n",
       "    </tr>\n",
       "    <tr>\n",
       "      <td>4</td>\n",
       "      <td>119365</td>\n",
       "      <td>кафе «вишневая метель»</td>\n",
       "      <td>нет</td>\n",
       "      <td>кафе</td>\n",
       "      <td>город москва, абрамцевская улица, дом 9, корпус 1</td>\n",
       "      <td>50</td>\n",
       "      <td>абрамцевская улица</td>\n",
       "    </tr>\n",
       "  </tbody>\n",
       "</table>\n",
       "</div>"
      ],
      "text/plain": [
       "       id             object_name chain object_type  \\\n",
       "0  151635                 сметана   нет        кафе   \n",
       "1   77874                  родник   нет        кафе   \n",
       "2   24309         кафе «академия»   нет        кафе   \n",
       "3   21894              пиццетория    да        кафе   \n",
       "4  119365  кафе «вишневая метель»   нет        кафе   \n",
       "\n",
       "                                             address  number  \\\n",
       "0         город москва, улица егора абакумова, дом 9      48   \n",
       "1  город москва, улица талалихина, дом 2/1, корпус 1      35   \n",
       "2          город москва, абельмановская улица, дом 6      95   \n",
       "3            город москва, абрамцевская улица, дом 1      40   \n",
       "4  город москва, абрамцевская улица, дом 9, корпус 1      50   \n",
       "\n",
       "                   street  \n",
       "0   улица егора абакумова  \n",
       "1        улица талалихина  \n",
       "2    абельмановская улица  \n",
       "3      абрамцевская улица  \n",
       "4      абрамцевская улица  "
      ]
     },
     "execution_count": 107,
     "metadata": {},
     "output_type": "execute_result"
    }
   ],
   "source": [
    "# Из столбца с адресом извлечем название улицы\n",
    "cafe['street']=cafe['address'].str.extract(r'(?<=москва,)([^,]+)')\n",
    "cafe.head()"
   ]
  },
  {
   "cell_type": "code",
   "execution_count": 108,
   "metadata": {},
   "outputs": [
    {
     "name": "stdout",
     "output_type": "stream",
     "text": [
      "<class 'pandas.core.frame.DataFrame'>\n",
      "Int64Index: 15182 entries, 0 to 15364\n",
      "Data columns (total 7 columns):\n",
      "id             15182 non-null int64\n",
      "object_name    15182 non-null object\n",
      "chain          15182 non-null object\n",
      "object_type    15182 non-null object\n",
      "address        15182 non-null object\n",
      "number         15182 non-null int64\n",
      "street         15111 non-null object\n",
      "dtypes: int64(2), object(5)\n",
      "memory usage: 1.6+ MB\n"
     ]
    }
   ],
   "source": [
    "cafe.info()\n"
   ]
  },
  {
   "cell_type": "markdown",
   "metadata": {},
   "source": [
    "Некоторые строки с названием улицы не заполнились, посмотрим почему"
   ]
  },
  {
   "cell_type": "code",
   "execution_count": 109,
   "metadata": {},
   "outputs": [
    {
     "data": {
      "text/html": [
       "<div>\n",
       "<style scoped>\n",
       "    .dataframe tbody tr th:only-of-type {\n",
       "        vertical-align: middle;\n",
       "    }\n",
       "\n",
       "    .dataframe tbody tr th {\n",
       "        vertical-align: top;\n",
       "    }\n",
       "\n",
       "    .dataframe thead th {\n",
       "        text-align: right;\n",
       "    }\n",
       "</style>\n",
       "<table border=\"1\" class=\"dataframe\">\n",
       "  <thead>\n",
       "    <tr style=\"text-align: right;\">\n",
       "      <th></th>\n",
       "      <th>id</th>\n",
       "      <th>object_name</th>\n",
       "      <th>chain</th>\n",
       "      <th>object_type</th>\n",
       "      <th>address</th>\n",
       "      <th>number</th>\n",
       "      <th>street</th>\n",
       "    </tr>\n",
       "  </thead>\n",
       "  <tbody>\n",
       "    <tr>\n",
       "      <td>859</td>\n",
       "      <td>23601</td>\n",
       "      <td>буфет - гбоу сош № 64</td>\n",
       "      <td>нет</td>\n",
       "      <td>буфет</td>\n",
       "      <td>партизанская улица, дом 30</td>\n",
       "      <td>100</td>\n",
       "      <td>NaN</td>\n",
       "    </tr>\n",
       "    <tr>\n",
       "      <td>860</td>\n",
       "      <td>23604</td>\n",
       "      <td>буфет - гбоу 60</td>\n",
       "      <td>нет</td>\n",
       "      <td>буфет</td>\n",
       "      <td>партизанская улица, дом 30</td>\n",
       "      <td>100</td>\n",
       "      <td>NaN</td>\n",
       "    </tr>\n",
       "    <tr>\n",
       "      <td>1491</td>\n",
       "      <td>25349</td>\n",
       "      <td>ресторан «гранатовый сад»</td>\n",
       "      <td>нет</td>\n",
       "      <td>ресторан</td>\n",
       "      <td>поречная улица, дом 5/14, строение 1</td>\n",
       "      <td>40</td>\n",
       "      <td>NaN</td>\n",
       "    </tr>\n",
       "    <tr>\n",
       "      <td>7691</td>\n",
       "      <td>132359</td>\n",
       "      <td>кафе «la carotte»</td>\n",
       "      <td>нет</td>\n",
       "      <td>кафе</td>\n",
       "      <td>1-й нагатинский проезд, дом 10</td>\n",
       "      <td>198</td>\n",
       "      <td>NaN</td>\n",
       "    </tr>\n",
       "    <tr>\n",
       "      <td>7827</td>\n",
       "      <td>28214</td>\n",
       "      <td>роснефть (закрытое)</td>\n",
       "      <td>нет</td>\n",
       "      <td>столовая</td>\n",
       "      <td>софийская набережная, дом 26/1, строение 1</td>\n",
       "      <td>80</td>\n",
       "      <td>NaN</td>\n",
       "    </tr>\n",
       "  </tbody>\n",
       "</table>\n",
       "</div>"
      ],
      "text/plain": [
       "          id                object_name chain object_type  \\\n",
       "859    23601      буфет - гбоу сош № 64   нет       буфет   \n",
       "860    23604            буфет - гбоу 60   нет       буфет   \n",
       "1491   25349  ресторан «гранатовый сад»   нет    ресторан   \n",
       "7691  132359          кафе «la carotte»   нет        кафе   \n",
       "7827   28214        роснефть (закрытое)   нет    столовая   \n",
       "\n",
       "                                         address  number street  \n",
       "859                   партизанская улица, дом 30     100    NaN  \n",
       "860                   партизанская улица, дом 30     100    NaN  \n",
       "1491        поречная улица, дом 5/14, строение 1      40    NaN  \n",
       "7691              1-й нагатинский проезд, дом 10     198    NaN  \n",
       "7827  софийская набережная, дом 26/1, строение 1      80    NaN  "
      ]
     },
     "execution_count": 109,
     "metadata": {},
     "output_type": "execute_result"
    }
   ],
   "source": [
    "cafe[cafe['street'].isnull()].head()"
   ]
  },
  {
   "cell_type": "markdown",
   "metadata": {},
   "source": [
    "Пропуски образовались, потому что не сработала экстракция по регулярному выражению из-за отсутствия связки \"Москва,\". Заполним эти пропуски, принимая, что все адреса, где пропущено название - город Москва, относятся к Москве. "
   ]
  },
  {
   "cell_type": "code",
   "execution_count": 110,
   "metadata": {},
   "outputs": [
    {
     "data": {
      "text/html": [
       "<div>\n",
       "<style scoped>\n",
       "    .dataframe tbody tr th:only-of-type {\n",
       "        vertical-align: middle;\n",
       "    }\n",
       "\n",
       "    .dataframe tbody tr th {\n",
       "        vertical-align: top;\n",
       "    }\n",
       "\n",
       "    .dataframe thead th {\n",
       "        text-align: right;\n",
       "    }\n",
       "</style>\n",
       "<table border=\"1\" class=\"dataframe\">\n",
       "  <thead>\n",
       "    <tr style=\"text-align: right;\">\n",
       "      <th></th>\n",
       "      <th>id</th>\n",
       "      <th>object_name</th>\n",
       "      <th>chain</th>\n",
       "      <th>object_type</th>\n",
       "      <th>address</th>\n",
       "      <th>number</th>\n",
       "      <th>street</th>\n",
       "      <th>street2</th>\n",
       "    </tr>\n",
       "  </thead>\n",
       "  <tbody>\n",
       "    <tr>\n",
       "      <td>0</td>\n",
       "      <td>151635</td>\n",
       "      <td>сметана</td>\n",
       "      <td>нет</td>\n",
       "      <td>кафе</td>\n",
       "      <td>город москва, улица егора абакумова, дом 9</td>\n",
       "      <td>48</td>\n",
       "      <td>улица егора абакумова</td>\n",
       "      <td>город москва</td>\n",
       "    </tr>\n",
       "    <tr>\n",
       "      <td>1</td>\n",
       "      <td>77874</td>\n",
       "      <td>родник</td>\n",
       "      <td>нет</td>\n",
       "      <td>кафе</td>\n",
       "      <td>город москва, улица талалихина, дом 2/1, корпус 1</td>\n",
       "      <td>35</td>\n",
       "      <td>улица талалихина</td>\n",
       "      <td>город москва</td>\n",
       "    </tr>\n",
       "    <tr>\n",
       "      <td>2</td>\n",
       "      <td>24309</td>\n",
       "      <td>кафе «академия»</td>\n",
       "      <td>нет</td>\n",
       "      <td>кафе</td>\n",
       "      <td>город москва, абельмановская улица, дом 6</td>\n",
       "      <td>95</td>\n",
       "      <td>абельмановская улица</td>\n",
       "      <td>город москва</td>\n",
       "    </tr>\n",
       "    <tr>\n",
       "      <td>3</td>\n",
       "      <td>21894</td>\n",
       "      <td>пиццетория</td>\n",
       "      <td>да</td>\n",
       "      <td>кафе</td>\n",
       "      <td>город москва, абрамцевская улица, дом 1</td>\n",
       "      <td>40</td>\n",
       "      <td>абрамцевская улица</td>\n",
       "      <td>город москва</td>\n",
       "    </tr>\n",
       "    <tr>\n",
       "      <td>4</td>\n",
       "      <td>119365</td>\n",
       "      <td>кафе «вишневая метель»</td>\n",
       "      <td>нет</td>\n",
       "      <td>кафе</td>\n",
       "      <td>город москва, абрамцевская улица, дом 9, корпус 1</td>\n",
       "      <td>50</td>\n",
       "      <td>абрамцевская улица</td>\n",
       "      <td>город москва</td>\n",
       "    </tr>\n",
       "  </tbody>\n",
       "</table>\n",
       "</div>"
      ],
      "text/plain": [
       "       id             object_name chain object_type  \\\n",
       "0  151635                 сметана   нет        кафе   \n",
       "1   77874                  родник   нет        кафе   \n",
       "2   24309         кафе «академия»   нет        кафе   \n",
       "3   21894              пиццетория    да        кафе   \n",
       "4  119365  кафе «вишневая метель»   нет        кафе   \n",
       "\n",
       "                                             address  number  \\\n",
       "0         город москва, улица егора абакумова, дом 9      48   \n",
       "1  город москва, улица талалихина, дом 2/1, корпус 1      35   \n",
       "2          город москва, абельмановская улица, дом 6      95   \n",
       "3            город москва, абрамцевская улица, дом 1      40   \n",
       "4  город москва, абрамцевская улица, дом 9, корпус 1      50   \n",
       "\n",
       "                   street       street2  \n",
       "0   улица егора абакумова  город москва  \n",
       "1        улица талалихина  город москва  \n",
       "2    абельмановская улица  город москва  \n",
       "3      абрамцевская улица  город москва  \n",
       "4      абрамцевская улица  город москва  "
      ]
     },
     "execution_count": 110,
     "metadata": {},
     "output_type": "execute_result"
    }
   ],
   "source": [
    "#Сначала создадим еще один столбец, куда извлечем названия улиц из столбца с адресом, \n",
    "#где не указана Москва\n",
    "cafe['street2'] = cafe['address'].str.split(',',expand=True)[0]\n",
    "cafe.head()"
   ]
  },
  {
   "cell_type": "code",
   "execution_count": 111,
   "metadata": {},
   "outputs": [],
   "source": [
    "#Заполним пропуски\n",
    "cafe['street'] = cafe['street'].fillna(cafe['street2'])"
   ]
  },
  {
   "cell_type": "code",
   "execution_count": 112,
   "metadata": {},
   "outputs": [
    {
     "data": {
      "text/html": [
       "<div>\n",
       "<style scoped>\n",
       "    .dataframe tbody tr th:only-of-type {\n",
       "        vertical-align: middle;\n",
       "    }\n",
       "\n",
       "    .dataframe tbody tr th {\n",
       "        vertical-align: top;\n",
       "    }\n",
       "\n",
       "    .dataframe thead th {\n",
       "        text-align: right;\n",
       "    }\n",
       "</style>\n",
       "<table border=\"1\" class=\"dataframe\">\n",
       "  <thead>\n",
       "    <tr style=\"text-align: right;\">\n",
       "      <th></th>\n",
       "      <th>id</th>\n",
       "      <th>object_name</th>\n",
       "      <th>chain</th>\n",
       "      <th>object_type</th>\n",
       "      <th>address</th>\n",
       "      <th>number</th>\n",
       "      <th>street</th>\n",
       "      <th>street2</th>\n",
       "    </tr>\n",
       "  </thead>\n",
       "  <tbody>\n",
       "    <tr>\n",
       "      <td>7827</td>\n",
       "      <td>28214</td>\n",
       "      <td>роснефть (закрытое)</td>\n",
       "      <td>нет</td>\n",
       "      <td>столовая</td>\n",
       "      <td>софийская набережная, дом 26/1, строение 1</td>\n",
       "      <td>80</td>\n",
       "      <td>софийская набережная</td>\n",
       "      <td>софийская набережная</td>\n",
       "    </tr>\n",
       "  </tbody>\n",
       "</table>\n",
       "</div>"
      ],
      "text/plain": [
       "         id          object_name chain object_type  \\\n",
       "7827  28214  роснефть (закрытое)   нет    столовая   \n",
       "\n",
       "                                         address  number  \\\n",
       "7827  софийская набережная, дом 26/1, строение 1      80   \n",
       "\n",
       "                    street               street2  \n",
       "7827  софийская набережная  софийская набережная  "
      ]
     },
     "execution_count": 112,
     "metadata": {},
     "output_type": "execute_result"
    }
   ],
   "source": [
    "#Проверим на одной строке\n",
    "cafe.query('id==28214')"
   ]
  },
  {
   "cell_type": "code",
   "execution_count": 113,
   "metadata": {},
   "outputs": [
    {
     "name": "stdout",
     "output_type": "stream",
     "text": [
      "<class 'pandas.core.frame.DataFrame'>\n",
      "Int64Index: 15182 entries, 0 to 15364\n",
      "Data columns (total 7 columns):\n",
      "id             15182 non-null int64\n",
      "object_name    15182 non-null object\n",
      "chain          15182 non-null object\n",
      "object_type    15182 non-null object\n",
      "address        15182 non-null object\n",
      "number         15182 non-null int64\n",
      "street         15182 non-null object\n",
      "dtypes: int64(2), object(5)\n",
      "memory usage: 1.6+ MB\n"
     ]
    }
   ],
   "source": [
    "#Удалим вспомогательный столбец ['street2'] и проверим еще раз весь датафрейм\n",
    "cafe = cafe.drop(['street2'], axis = 1)\n",
    "cafe.info()"
   ]
  },
  {
   "cell_type": "code",
   "execution_count": 114,
   "metadata": {},
   "outputs": [],
   "source": [
    "#Удалим пробелы в столбце Street, если таковые имеются\n",
    "#cafe['street'] = cafe['street'].map(str.strip)"
   ]
  },
  {
   "cell_type": "markdown",
   "metadata": {},
   "source": [
    "#### Топ-10 улиц по количеству объектов общественного питания <a id=\"top10\"></a>"
   ]
  },
  {
   "cell_type": "markdown",
   "metadata": {},
   "source": [
    "Выделим топ 10 улиц с максимальным количеством объектов общественного питания"
   ]
  },
  {
   "cell_type": "code",
   "execution_count": 115,
   "metadata": {
    "scrolled": true
   },
   "outputs": [
    {
     "data": {
      "text/html": [
       "<div>\n",
       "<style scoped>\n",
       "    .dataframe tbody tr th:only-of-type {\n",
       "        vertical-align: middle;\n",
       "    }\n",
       "\n",
       "    .dataframe tbody tr th {\n",
       "        vertical-align: top;\n",
       "    }\n",
       "\n",
       "    .dataframe thead th {\n",
       "        text-align: right;\n",
       "    }\n",
       "</style>\n",
       "<table border=\"1\" class=\"dataframe\">\n",
       "  <thead>\n",
       "    <tr style=\"text-align: right;\">\n",
       "      <th></th>\n",
       "      <th>street</th>\n",
       "      <th>count</th>\n",
       "    </tr>\n",
       "  </thead>\n",
       "  <tbody>\n",
       "    <tr>\n",
       "      <td>877</td>\n",
       "      <td>новолучанская улица</td>\n",
       "      <td>1</td>\n",
       "    </tr>\n",
       "    <tr>\n",
       "      <td>881</td>\n",
       "      <td>новоостаповская улица</td>\n",
       "      <td>1</td>\n",
       "    </tr>\n",
       "    <tr>\n",
       "      <td>886</td>\n",
       "      <td>новопресненский переулок</td>\n",
       "      <td>1</td>\n",
       "    </tr>\n",
       "    <tr>\n",
       "      <td>890</td>\n",
       "      <td>новорублёвская улица</td>\n",
       "      <td>1</td>\n",
       "    </tr>\n",
       "    <tr>\n",
       "      <td>1902</td>\n",
       "      <td>школьная улица</td>\n",
       "      <td>1</td>\n",
       "    </tr>\n",
       "  </tbody>\n",
       "</table>\n",
       "</div>"
      ],
      "text/plain": [
       "                        street  count\n",
       "877        новолучанская улица      1\n",
       "881      новоостаповская улица      1\n",
       "886   новопресненский переулок      1\n",
       "890       новорублёвская улица      1\n",
       "1902            школьная улица      1"
      ]
     },
     "execution_count": 115,
     "metadata": {},
     "output_type": "execute_result"
    }
   ],
   "source": [
    "#Сгруппируем исходную таблицу cafe по названию улицы и подсчитаем число заведений в каждой, \n",
    "#отсортируем по убыванию, удалим дубликаты\n",
    "cafe_total = cafe.groupby('street').agg({'id':'count'})\n",
    "cafe_total = cafe_total.reset_index().rename(columns={'id':'count'})\n",
    "cafe_total['street'] = cafe_total['street'].map(str.strip)\n",
    "cafe_total = cafe_total.sort_values(by='count', ascending=False).drop_duplicates()\n",
    "cafe_total.tail()"
   ]
  },
  {
   "cell_type": "code",
   "execution_count": 116,
   "metadata": {},
   "outputs": [
    {
     "data": {
      "text/html": [
       "<div>\n",
       "<style scoped>\n",
       "    .dataframe tbody tr th:only-of-type {\n",
       "        vertical-align: middle;\n",
       "    }\n",
       "\n",
       "    .dataframe tbody tr th {\n",
       "        vertical-align: top;\n",
       "    }\n",
       "\n",
       "    .dataframe thead th {\n",
       "        text-align: right;\n",
       "    }\n",
       "</style>\n",
       "<table border=\"1\" class=\"dataframe\">\n",
       "  <thead>\n",
       "    <tr style=\"text-align: right;\">\n",
       "      <th></th>\n",
       "      <th>street</th>\n",
       "      <th>count</th>\n",
       "    </tr>\n",
       "  </thead>\n",
       "  <tbody>\n",
       "    <tr>\n",
       "      <td>0</td>\n",
       "      <td>город зеленоград</td>\n",
       "      <td>230</td>\n",
       "    </tr>\n",
       "    <tr>\n",
       "      <td>1</td>\n",
       "      <td>проспект мира</td>\n",
       "      <td>196</td>\n",
       "    </tr>\n",
       "    <tr>\n",
       "      <td>2</td>\n",
       "      <td>профсоюзная улица</td>\n",
       "      <td>180</td>\n",
       "    </tr>\n",
       "    <tr>\n",
       "      <td>3</td>\n",
       "      <td>ленинградский проспект</td>\n",
       "      <td>170</td>\n",
       "    </tr>\n",
       "    <tr>\n",
       "      <td>4</td>\n",
       "      <td>пресненская набережная</td>\n",
       "      <td>165</td>\n",
       "    </tr>\n",
       "    <tr>\n",
       "      <td>5</td>\n",
       "      <td>варшавское шоссе</td>\n",
       "      <td>159</td>\n",
       "    </tr>\n",
       "    <tr>\n",
       "      <td>6</td>\n",
       "      <td>ленинский проспект</td>\n",
       "      <td>147</td>\n",
       "    </tr>\n",
       "    <tr>\n",
       "      <td>7</td>\n",
       "      <td>поселение сосенское</td>\n",
       "      <td>137</td>\n",
       "    </tr>\n",
       "    <tr>\n",
       "      <td>8</td>\n",
       "      <td>проспект вернадского</td>\n",
       "      <td>126</td>\n",
       "    </tr>\n",
       "    <tr>\n",
       "      <td>9</td>\n",
       "      <td>кутузовский проспект</td>\n",
       "      <td>114</td>\n",
       "    </tr>\n",
       "    <tr>\n",
       "      <td>10</td>\n",
       "      <td>каширское шоссе</td>\n",
       "      <td>110</td>\n",
       "    </tr>\n",
       "    <tr>\n",
       "      <td>11</td>\n",
       "      <td>кировоградская улица</td>\n",
       "      <td>107</td>\n",
       "    </tr>\n",
       "  </tbody>\n",
       "</table>\n",
       "</div>"
      ],
      "text/plain": [
       "                    street  count\n",
       "0         город зеленоград    230\n",
       "1            проспект мира    196\n",
       "2        профсоюзная улица    180\n",
       "3   ленинградский проспект    170\n",
       "4   пресненская набережная    165\n",
       "5         варшавское шоссе    159\n",
       "6       ленинский проспект    147\n",
       "7      поселение сосенское    137\n",
       "8     проспект вернадского    126\n",
       "9     кутузовский проспект    114\n",
       "10         каширское шоссе    110\n",
       "11    кировоградская улица    107"
      ]
     },
     "execution_count": 116,
     "metadata": {},
     "output_type": "execute_result"
    }
   ],
   "source": [
    "#Выделим улицы с максимальным количеством общепитов\n",
    "\n",
    "top10=cafe_total.head(12).reset_index(drop=True)\n",
    "top10"
   ]
  },
  {
   "cell_type": "code",
   "execution_count": 117,
   "metadata": {},
   "outputs": [
    {
     "data": {
      "text/html": [
       "<div>\n",
       "<style scoped>\n",
       "    .dataframe tbody tr th:only-of-type {\n",
       "        vertical-align: middle;\n",
       "    }\n",
       "\n",
       "    .dataframe tbody tr th {\n",
       "        vertical-align: top;\n",
       "    }\n",
       "\n",
       "    .dataframe thead th {\n",
       "        text-align: right;\n",
       "    }\n",
       "</style>\n",
       "<table border=\"1\" class=\"dataframe\">\n",
       "  <thead>\n",
       "    <tr style=\"text-align: right;\">\n",
       "      <th></th>\n",
       "      <th>street</th>\n",
       "      <th>count</th>\n",
       "    </tr>\n",
       "  </thead>\n",
       "  <tbody>\n",
       "    <tr>\n",
       "      <td>0</td>\n",
       "      <td>проспект мира</td>\n",
       "      <td>196</td>\n",
       "    </tr>\n",
       "    <tr>\n",
       "      <td>1</td>\n",
       "      <td>профсоюзная улица</td>\n",
       "      <td>180</td>\n",
       "    </tr>\n",
       "    <tr>\n",
       "      <td>2</td>\n",
       "      <td>ленинградский проспект</td>\n",
       "      <td>170</td>\n",
       "    </tr>\n",
       "    <tr>\n",
       "      <td>3</td>\n",
       "      <td>пресненская набережная</td>\n",
       "      <td>165</td>\n",
       "    </tr>\n",
       "    <tr>\n",
       "      <td>4</td>\n",
       "      <td>варшавское шоссе</td>\n",
       "      <td>159</td>\n",
       "    </tr>\n",
       "    <tr>\n",
       "      <td>5</td>\n",
       "      <td>ленинский проспект</td>\n",
       "      <td>147</td>\n",
       "    </tr>\n",
       "    <tr>\n",
       "      <td>6</td>\n",
       "      <td>проспект вернадского</td>\n",
       "      <td>126</td>\n",
       "    </tr>\n",
       "    <tr>\n",
       "      <td>7</td>\n",
       "      <td>кутузовский проспект</td>\n",
       "      <td>114</td>\n",
       "    </tr>\n",
       "    <tr>\n",
       "      <td>8</td>\n",
       "      <td>каширское шоссе</td>\n",
       "      <td>110</td>\n",
       "    </tr>\n",
       "    <tr>\n",
       "      <td>9</td>\n",
       "      <td>кировоградская улица</td>\n",
       "      <td>107</td>\n",
       "    </tr>\n",
       "  </tbody>\n",
       "</table>\n",
       "</div>"
      ],
      "text/plain": [
       "                   street  count\n",
       "0           проспект мира    196\n",
       "1       профсоюзная улица    180\n",
       "2  ленинградский проспект    170\n",
       "3  пресненская набережная    165\n",
       "4        варшавское шоссе    159\n",
       "5      ленинский проспект    147\n",
       "6    проспект вернадского    126\n",
       "7    кутузовский проспект    114\n",
       "8         каширское шоссе    110\n",
       "9    кировоградская улица    107"
      ]
     },
     "execution_count": 117,
     "metadata": {},
     "output_type": "execute_result"
    }
   ],
   "source": [
    "#Удалим Зеленоград и Поселение Сосновское, поскольку они не являются улицами\n",
    "top10=top10.query('street not in (\"город зеленоград\", \"поселение сосенское\")').reset_index(drop=True)\n",
    "top10"
   ]
  },
  {
   "cell_type": "code",
   "execution_count": 118,
   "metadata": {},
   "outputs": [
    {
     "data": {
      "image/png": "[encoded data removed]",
      "text/plain": [
       "<Figure size 1152x648 with 1 Axes>"
      ]
     },
     "metadata": {
      "needs_background": "light"
     },
     "output_type": "display_data"
    }
   ],
   "source": [
    "#Визуализируем наши данные\n",
    "plt.figure(figsize=(16, 9))\n",
    "sns.barplot(x='count', y='street', data=top10).set_title(\n",
    "'Топ-10 улиц Москвы по количеству объектов общественного питания', fontsize=18)\n",
    "plt.ylabel('Улица', fontsize=16, labelpad=12);\n",
    "plt.xlabel('Количество заведений общественного питания', fontsize=16, labelpad=12);"
   ]
  },
  {
   "cell_type": "code",
   "execution_count": 119,
   "metadata": {},
   "outputs": [
    {
     "data": {
      "text/html": [
       "<div>\n",
       "<style scoped>\n",
       "    .dataframe tbody tr th:only-of-type {\n",
       "        vertical-align: middle;\n",
       "    }\n",
       "\n",
       "    .dataframe tbody tr th {\n",
       "        vertical-align: top;\n",
       "    }\n",
       "\n",
       "    .dataframe thead th {\n",
       "        text-align: right;\n",
       "    }\n",
       "</style>\n",
       "<table border=\"1\" class=\"dataframe\">\n",
       "  <thead>\n",
       "    <tr style=\"text-align: right;\">\n",
       "      <th></th>\n",
       "      <th>UM_CODE</th>\n",
       "      <th>UM_NAMEF</th>\n",
       "      <th>global_id</th>\n",
       "      <th>UM_NAMES</th>\n",
       "      <th>UM_TRANS</th>\n",
       "      <th>UM_TYPE</th>\n",
       "      <th>UM_TM</th>\n",
       "      <th>UM_TE</th>\n",
       "      <th>UM_KLADR</th>\n",
       "    </tr>\n",
       "  </thead>\n",
       "  <tbody>\n",
       "    <tr>\n",
       "      <td>0</td>\n",
       "      <td>008880</td>\n",
       "      <td>1-й Ирининский переулок</td>\n",
       "      <td>58481065</td>\n",
       "      <td>1-й Ирининский пер.</td>\n",
       "      <td>Pervy'j Irininskij pereulok</td>\n",
       "      <td>002</td>\n",
       "      <td>NaN</td>\n",
       "      <td>0102</td>\n",
       "      <td>77000000000706300</td>\n",
       "    </tr>\n",
       "    <tr>\n",
       "      <td>1</td>\n",
       "      <td>008890</td>\n",
       "      <td>2-й Ирининский переулок</td>\n",
       "      <td>58481066</td>\n",
       "      <td>2-й Ирининский пер.</td>\n",
       "      <td>Vtoroj Irininskij pereulok</td>\n",
       "      <td>002</td>\n",
       "      <td>NaN</td>\n",
       "      <td>0102</td>\n",
       "      <td>77000000000362200</td>\n",
       "    </tr>\n",
       "    <tr>\n",
       "      <td>2</td>\n",
       "      <td>008891</td>\n",
       "      <td>3-й Ирининский переулок</td>\n",
       "      <td>58481067</td>\n",
       "      <td>3-й Ирининский пер.</td>\n",
       "      <td>Tretij Irininskij pereulok</td>\n",
       "      <td>002</td>\n",
       "      <td>NaN</td>\n",
       "      <td>0102</td>\n",
       "      <td>77000000000362300</td>\n",
       "    </tr>\n",
       "    <tr>\n",
       "      <td>3</td>\n",
       "      <td>008910</td>\n",
       "      <td>Иркутская улица</td>\n",
       "      <td>58481068</td>\n",
       "      <td>Иркутская ул.</td>\n",
       "      <td>Irkutskaya ulicza</td>\n",
       "      <td>001</td>\n",
       "      <td>NaN</td>\n",
       "      <td>0406</td>\n",
       "      <td>77000000000139700</td>\n",
       "    </tr>\n",
       "    <tr>\n",
       "      <td>4</td>\n",
       "      <td>008920</td>\n",
       "      <td>1-й Иртышский проезд</td>\n",
       "      <td>58481069</td>\n",
       "      <td>1-й Иртышский пр.</td>\n",
       "      <td>Pervy'j Irty'shskij proezd</td>\n",
       "      <td>003</td>\n",
       "      <td>NaN</td>\n",
       "      <td>0406</td>\n",
       "      <td>77000000000331600</td>\n",
       "    </tr>\n",
       "  </tbody>\n",
       "</table>\n",
       "</div>"
      ],
      "text/plain": [
       "  UM_CODE                 UM_NAMEF global_id             UM_NAMES  \\\n",
       "0  008880  1-й Ирининский переулок  58481065  1-й Ирининский пер.   \n",
       "1  008890  2-й Ирининский переулок  58481066  2-й Ирининский пер.   \n",
       "2  008891  3-й Ирининский переулок  58481067  3-й Ирининский пер.   \n",
       "3  008910          Иркутская улица  58481068        Иркутская ул.   \n",
       "4  008920     1-й Иртышский проезд  58481069    1-й Иртышский пр.   \n",
       "\n",
       "                      UM_TRANS UM_TYPE UM_TM UM_TE           UM_KLADR  \n",
       "0  Pervy'j Irininskij pereulok     002   NaN  0102  77000000000706300  \n",
       "1   Vtoroj Irininskij pereulok     002   NaN  0102  77000000000362200  \n",
       "2   Tretij Irininskij pereulok     002   NaN  0102  77000000000362300  \n",
       "3            Irkutskaya ulicza     001   NaN  0406  77000000000139700  \n",
       "4   Pervy'j Irty'shskij proezd     003   NaN  0406  77000000000331600  "
      ]
     },
     "execution_count": 119,
     "metadata": {},
     "output_type": "execute_result"
    }
   ],
   "source": [
    "#Импортируем общемосковский классификатор улиц Москвы\n",
    "\n",
    "spreadsheet_id = '1oaxWZjI-TIDh6z7VIkrD1oRZgZvI34y-HaqU5FT3Gd4'\n",
    "file_name = 'https://docs.google.com/spreadsheets/d/{}/export?format=csv'.format(spreadsheet_id)\n",
    "r = requests.get(file_name)\n",
    "moscow_streets = pd.read_csv(BytesIO(r.content))\n",
    "moscow_streets.head()"
   ]
  },
  {
   "cell_type": "code",
   "execution_count": 120,
   "metadata": {},
   "outputs": [
    {
     "data": {
      "text/html": [
       "<div>\n",
       "<style scoped>\n",
       "    .dataframe tbody tr th:only-of-type {\n",
       "        vertical-align: middle;\n",
       "    }\n",
       "\n",
       "    .dataframe tbody tr th {\n",
       "        vertical-align: top;\n",
       "    }\n",
       "\n",
       "    .dataframe thead th {\n",
       "        text-align: right;\n",
       "    }\n",
       "</style>\n",
       "<table border=\"1\" class=\"dataframe\">\n",
       "  <thead>\n",
       "    <tr style=\"text-align: right;\">\n",
       "      <th></th>\n",
       "      <th>global_id</th>\n",
       "      <th>street</th>\n",
       "      <th>kod</th>\n",
       "    </tr>\n",
       "  </thead>\n",
       "  <tbody>\n",
       "    <tr>\n",
       "      <td>0</td>\n",
       "      <td>58481065</td>\n",
       "      <td>1-й ирининский переулок</td>\n",
       "      <td>0102</td>\n",
       "    </tr>\n",
       "    <tr>\n",
       "      <td>1</td>\n",
       "      <td>58481066</td>\n",
       "      <td>2-й ирининский переулок</td>\n",
       "      <td>0102</td>\n",
       "    </tr>\n",
       "    <tr>\n",
       "      <td>2</td>\n",
       "      <td>58481067</td>\n",
       "      <td>3-й ирининский переулок</td>\n",
       "      <td>0102</td>\n",
       "    </tr>\n",
       "    <tr>\n",
       "      <td>3</td>\n",
       "      <td>58481068</td>\n",
       "      <td>иркутская улица</td>\n",
       "      <td>0406</td>\n",
       "    </tr>\n",
       "    <tr>\n",
       "      <td>4</td>\n",
       "      <td>58481069</td>\n",
       "      <td>1-й иртышский проезд</td>\n",
       "      <td>0406</td>\n",
       "    </tr>\n",
       "  </tbody>\n",
       "</table>\n",
       "</div>"
      ],
      "text/plain": [
       "  global_id                   street   kod\n",
       "0  58481065  1-й ирининский переулок  0102\n",
       "1  58481066  2-й ирининский переулок  0102\n",
       "2  58481067  3-й ирининский переулок  0102\n",
       "3  58481068          иркутская улица  0406\n",
       "4  58481069     1-й иртышский проезд  0406"
      ]
     },
     "execution_count": 120,
     "metadata": {},
     "output_type": "execute_result"
    }
   ],
   "source": [
    "#Оставим в этой таблице только названия улиц и код/коды районов, которым они принадлежат, удалим\n",
    "#пробелы, если таковые имеются, удалим дубликаты\n",
    "moscow_streets=moscow_streets[['global_id', 'UM_NAMEF', 'UM_TE']]\n",
    "moscow_streets = moscow_streets.rename(columns={'UM_NAMEF': 'street', 'UM_TE':'kod'})\n",
    "moscow_streets['street']=moscow_streets['street'].map(str.strip).str.lower()\n",
    "moscow_streets.drop_duplicates().head()"
   ]
  },
  {
   "cell_type": "code",
   "execution_count": 121,
   "metadata": {},
   "outputs": [
    {
     "data": {
      "text/plain": [
       "5236"
      ]
     },
     "execution_count": 121,
     "metadata": {},
     "output_type": "execute_result"
    }
   ],
   "source": [
    "moscow_streets['global_id'].nunique()"
   ]
  },
  {
   "cell_type": "code",
   "execution_count": 122,
   "metadata": {},
   "outputs": [
    {
     "data": {
      "text/html": [
       "<div>\n",
       "<style scoped>\n",
       "    .dataframe tbody tr th:only-of-type {\n",
       "        vertical-align: middle;\n",
       "    }\n",
       "\n",
       "    .dataframe tbody tr th {\n",
       "        vertical-align: top;\n",
       "    }\n",
       "\n",
       "    .dataframe thead th {\n",
       "        text-align: right;\n",
       "    }\n",
       "</style>\n",
       "<table border=\"1\" class=\"dataframe\">\n",
       "  <thead>\n",
       "    <tr style=\"text-align: right;\">\n",
       "      <th></th>\n",
       "      <th>street</th>\n",
       "      <th>count</th>\n",
       "      <th>global_id</th>\n",
       "      <th>kod</th>\n",
       "    </tr>\n",
       "  </thead>\n",
       "  <tbody>\n",
       "    <tr>\n",
       "      <td>0</td>\n",
       "      <td>проспект мира</td>\n",
       "      <td>196</td>\n",
       "      <td>58481760</td>\n",
       "      <td>0105;0301;0309;0310;0312;0313;0317</td>\n",
       "    </tr>\n",
       "    <tr>\n",
       "      <td>1</td>\n",
       "      <td>профсоюзная улица</td>\n",
       "      <td>180</td>\n",
       "      <td>58482469</td>\n",
       "      <td>0701;0704;0707;0709;0710;0712</td>\n",
       "    </tr>\n",
       "    <tr>\n",
       "      <td>2</td>\n",
       "      <td>ленинградский проспект</td>\n",
       "      <td>170</td>\n",
       "      <td>58481514</td>\n",
       "      <td>0201;0202;0214;0217</td>\n",
       "    </tr>\n",
       "    <tr>\n",
       "      <td>3</td>\n",
       "      <td>пресненская набережная</td>\n",
       "      <td>165</td>\n",
       "      <td>58482416</td>\n",
       "      <td>0106</td>\n",
       "    </tr>\n",
       "    <tr>\n",
       "      <td>4</td>\n",
       "      <td>варшавское шоссе</td>\n",
       "      <td>159</td>\n",
       "      <td>58485474</td>\n",
       "      <td>0610;0613;0615;0619;0620;0621;0708;0711;1111</td>\n",
       "    </tr>\n",
       "    <tr>\n",
       "      <td>5</td>\n",
       "      <td>ленинский проспект</td>\n",
       "      <td>147</td>\n",
       "      <td>58481520</td>\n",
       "      <td>0110;0610;0702;0706;0707;0709;0814;0817</td>\n",
       "    </tr>\n",
       "    <tr>\n",
       "      <td>6</td>\n",
       "      <td>проспект вернадского</td>\n",
       "      <td>126</td>\n",
       "      <td>58485499</td>\n",
       "      <td>0702;0706;0814;0815;0817</td>\n",
       "    </tr>\n",
       "    <tr>\n",
       "      <td>7</td>\n",
       "      <td>кутузовский проспект</td>\n",
       "      <td>114</td>\n",
       "      <td>58481479</td>\n",
       "      <td>0805;0819</td>\n",
       "    </tr>\n",
       "    <tr>\n",
       "      <td>8</td>\n",
       "      <td>каширское шоссе</td>\n",
       "      <td>110</td>\n",
       "      <td>58481166</td>\n",
       "      <td>0612;0613;0616;0617</td>\n",
       "    </tr>\n",
       "    <tr>\n",
       "      <td>9</td>\n",
       "      <td>кировоградская улица</td>\n",
       "      <td>107</td>\n",
       "      <td>58481183</td>\n",
       "      <td>0619;0620;0621</td>\n",
       "    </tr>\n",
       "  </tbody>\n",
       "</table>\n",
       "</div>"
      ],
      "text/plain": [
       "                   street  count global_id  \\\n",
       "0           проспект мира    196  58481760   \n",
       "1       профсоюзная улица    180  58482469   \n",
       "2  ленинградский проспект    170  58481514   \n",
       "3  пресненская набережная    165  58482416   \n",
       "4        варшавское шоссе    159  58485474   \n",
       "5      ленинский проспект    147  58481520   \n",
       "6    проспект вернадского    126  58485499   \n",
       "7    кутузовский проспект    114  58481479   \n",
       "8         каширское шоссе    110  58481166   \n",
       "9    кировоградская улица    107  58481183   \n",
       "\n",
       "                                            kod  \n",
       "0            0105;0301;0309;0310;0312;0313;0317  \n",
       "1                 0701;0704;0707;0709;0710;0712  \n",
       "2                           0201;0202;0214;0217  \n",
       "3                                          0106  \n",
       "4  0610;0613;0615;0619;0620;0621;0708;0711;1111  \n",
       "5       0110;0610;0702;0706;0707;0709;0814;0817  \n",
       "6                      0702;0706;0814;0815;0817  \n",
       "7                                     0805;0819  \n",
       "8                           0612;0613;0616;0617  \n",
       "9                                0619;0620;0621  "
      ]
     },
     "execution_count": 122,
     "metadata": {},
     "output_type": "execute_result"
    }
   ],
   "source": [
    "#Объединим таблицy из внешнего источника, где есть коды районов с нашей сгруппированной по топ улицам \n",
    "#таблицей\n",
    "top_10 = top10.merge(moscow_streets, on='street').drop_duplicates()\n",
    "\n",
    "top_10"
   ]
  },
  {
   "cell_type": "code",
   "execution_count": 123,
   "metadata": {},
   "outputs": [
    {
     "data": {
      "text/html": [
       "<div>\n",
       "<style scoped>\n",
       "    .dataframe tbody tr th:only-of-type {\n",
       "        vertical-align: middle;\n",
       "    }\n",
       "\n",
       "    .dataframe tbody tr th {\n",
       "        vertical-align: top;\n",
       "    }\n",
       "\n",
       "    .dataframe thead th {\n",
       "        text-align: right;\n",
       "    }\n",
       "</style>\n",
       "<table border=\"1\" class=\"dataframe\">\n",
       "  <thead>\n",
       "    <tr style=\"text-align: right;\">\n",
       "      <th></th>\n",
       "      <th>0</th>\n",
       "      <th>1</th>\n",
       "      <th>2</th>\n",
       "      <th>3</th>\n",
       "      <th>4</th>\n",
       "      <th>5</th>\n",
       "      <th>6</th>\n",
       "      <th>7</th>\n",
       "      <th>8</th>\n",
       "    </tr>\n",
       "  </thead>\n",
       "  <tbody>\n",
       "    <tr>\n",
       "      <td>5</td>\n",
       "      <td>0110</td>\n",
       "      <td>0610</td>\n",
       "      <td>0702</td>\n",
       "      <td>0706</td>\n",
       "      <td>0707</td>\n",
       "      <td>0709</td>\n",
       "      <td>0814</td>\n",
       "      <td>0817</td>\n",
       "      <td>None</td>\n",
       "    </tr>\n",
       "    <tr>\n",
       "      <td>6</td>\n",
       "      <td>0702</td>\n",
       "      <td>0706</td>\n",
       "      <td>0814</td>\n",
       "      <td>0815</td>\n",
       "      <td>0817</td>\n",
       "      <td>None</td>\n",
       "      <td>None</td>\n",
       "      <td>None</td>\n",
       "      <td>None</td>\n",
       "    </tr>\n",
       "    <tr>\n",
       "      <td>7</td>\n",
       "      <td>0805</td>\n",
       "      <td>0819</td>\n",
       "      <td>None</td>\n",
       "      <td>None</td>\n",
       "      <td>None</td>\n",
       "      <td>None</td>\n",
       "      <td>None</td>\n",
       "      <td>None</td>\n",
       "      <td>None</td>\n",
       "    </tr>\n",
       "    <tr>\n",
       "      <td>8</td>\n",
       "      <td>0612</td>\n",
       "      <td>0613</td>\n",
       "      <td>0616</td>\n",
       "      <td>0617</td>\n",
       "      <td>None</td>\n",
       "      <td>None</td>\n",
       "      <td>None</td>\n",
       "      <td>None</td>\n",
       "      <td>None</td>\n",
       "    </tr>\n",
       "    <tr>\n",
       "      <td>9</td>\n",
       "      <td>0619</td>\n",
       "      <td>0620</td>\n",
       "      <td>0621</td>\n",
       "      <td>None</td>\n",
       "      <td>None</td>\n",
       "      <td>None</td>\n",
       "      <td>None</td>\n",
       "      <td>None</td>\n",
       "      <td>None</td>\n",
       "    </tr>\n",
       "  </tbody>\n",
       "</table>\n",
       "</div>"
      ],
      "text/plain": [
       "      0     1     2     3     4     5     6     7     8\n",
       "5  0110  0610  0702  0706  0707  0709  0814  0817  None\n",
       "6  0702  0706  0814  0815  0817  None  None  None  None\n",
       "7  0805  0819  None  None  None  None  None  None  None\n",
       "8  0612  0613  0616  0617  None  None  None  None  None\n",
       "9  0619  0620  0621  None  None  None  None  None  None"
      ]
     },
     "execution_count": 123,
     "metadata": {},
     "output_type": "execute_result"
    }
   ],
   "source": [
    "#Одна улица может проходить через несколько районов. Выделим коды районов в отдельные ячейки\n",
    "codes = top_10['kod'].str.split(';', expand = True)\n",
    "codes.tail()"
   ]
  },
  {
   "cell_type": "code",
   "execution_count": 124,
   "metadata": {},
   "outputs": [
    {
     "data": {
      "text/html": [
       "<div>\n",
       "<style scoped>\n",
       "    .dataframe tbody tr th:only-of-type {\n",
       "        vertical-align: middle;\n",
       "    }\n",
       "\n",
       "    .dataframe tbody tr th {\n",
       "        vertical-align: top;\n",
       "    }\n",
       "\n",
       "    .dataframe thead th {\n",
       "        text-align: right;\n",
       "    }\n",
       "</style>\n",
       "<table border=\"1\" class=\"dataframe\">\n",
       "  <thead>\n",
       "    <tr style=\"text-align: right;\">\n",
       "      <th></th>\n",
       "      <th>code</th>\n",
       "    </tr>\n",
       "  </thead>\n",
       "  <tbody>\n",
       "    <tr>\n",
       "      <td>0</td>\n",
       "      <td>105</td>\n",
       "    </tr>\n",
       "    <tr>\n",
       "      <td>1</td>\n",
       "      <td>701</td>\n",
       "    </tr>\n",
       "    <tr>\n",
       "      <td>2</td>\n",
       "      <td>201</td>\n",
       "    </tr>\n",
       "    <tr>\n",
       "      <td>3</td>\n",
       "      <td>106</td>\n",
       "    </tr>\n",
       "    <tr>\n",
       "      <td>4</td>\n",
       "      <td>610</td>\n",
       "    </tr>\n",
       "  </tbody>\n",
       "</table>\n",
       "</div>"
      ],
      "text/plain": [
       "   code\n",
       "0   105\n",
       "1   701\n",
       "2   201\n",
       "3   106\n",
       "4   610"
      ]
     },
     "execution_count": 124,
     "metadata": {},
     "output_type": "execute_result"
    }
   ],
   "source": [
    "#Конкатенируем все столбцы предыдущей таблицы в один, удалим пропуски, преобразуем в датафрейм\n",
    "#и изменим тип данных на int\n",
    "codes = pd.concat([codes[0], codes[1], codes[2], codes[3], codes[4], codes[5], codes[6],\n",
    "                   codes[7], codes[8]])\n",
    "codes = codes.dropna()\n",
    "codes = codes.to_frame(name='code')\n",
    "codes['code'] = codes['code'].astype('int')\n",
    "\n",
    "\n",
    "codes.head()"
   ]
  },
  {
   "cell_type": "code",
   "execution_count": 125,
   "metadata": {},
   "outputs": [
    {
     "data": {
      "text/html": [
       "<div>\n",
       "<style scoped>\n",
       "    .dataframe tbody tr th:only-of-type {\n",
       "        vertical-align: middle;\n",
       "    }\n",
       "\n",
       "    .dataframe tbody tr th {\n",
       "        vertical-align: top;\n",
       "    }\n",
       "\n",
       "    .dataframe thead th {\n",
       "        text-align: right;\n",
       "    }\n",
       "</style>\n",
       "<table border=\"1\" class=\"dataframe\">\n",
       "  <thead>\n",
       "    <tr style=\"text-align: right;\">\n",
       "      <th></th>\n",
       "      <th>code</th>\n",
       "      <th>street</th>\n",
       "      <th>count</th>\n",
       "      <th>global_id</th>\n",
       "      <th>kod</th>\n",
       "    </tr>\n",
       "  </thead>\n",
       "  <tbody>\n",
       "    <tr>\n",
       "      <td>0</td>\n",
       "      <td>105</td>\n",
       "      <td>проспект мира</td>\n",
       "      <td>196</td>\n",
       "      <td>58481760</td>\n",
       "      <td>0105;0301;0309;0310;0312;0313;0317</td>\n",
       "    </tr>\n",
       "    <tr>\n",
       "      <td>0</td>\n",
       "      <td>301</td>\n",
       "      <td>проспект мира</td>\n",
       "      <td>196</td>\n",
       "      <td>58481760</td>\n",
       "      <td>0105;0301;0309;0310;0312;0313;0317</td>\n",
       "    </tr>\n",
       "    <tr>\n",
       "      <td>0</td>\n",
       "      <td>309</td>\n",
       "      <td>проспект мира</td>\n",
       "      <td>196</td>\n",
       "      <td>58481760</td>\n",
       "      <td>0105;0301;0309;0310;0312;0313;0317</td>\n",
       "    </tr>\n",
       "    <tr>\n",
       "      <td>0</td>\n",
       "      <td>310</td>\n",
       "      <td>проспект мира</td>\n",
       "      <td>196</td>\n",
       "      <td>58481760</td>\n",
       "      <td>0105;0301;0309;0310;0312;0313;0317</td>\n",
       "    </tr>\n",
       "    <tr>\n",
       "      <td>0</td>\n",
       "      <td>312</td>\n",
       "      <td>проспект мира</td>\n",
       "      <td>196</td>\n",
       "      <td>58481760</td>\n",
       "      <td>0105;0301;0309;0310;0312;0313;0317</td>\n",
       "    </tr>\n",
       "    <tr>\n",
       "      <td>0</td>\n",
       "      <td>313</td>\n",
       "      <td>проспект мира</td>\n",
       "      <td>196</td>\n",
       "      <td>58481760</td>\n",
       "      <td>0105;0301;0309;0310;0312;0313;0317</td>\n",
       "    </tr>\n",
       "    <tr>\n",
       "      <td>0</td>\n",
       "      <td>317</td>\n",
       "      <td>проспект мира</td>\n",
       "      <td>196</td>\n",
       "      <td>58481760</td>\n",
       "      <td>0105;0301;0309;0310;0312;0313;0317</td>\n",
       "    </tr>\n",
       "    <tr>\n",
       "      <td>1</td>\n",
       "      <td>701</td>\n",
       "      <td>профсоюзная улица</td>\n",
       "      <td>180</td>\n",
       "      <td>58482469</td>\n",
       "      <td>0701;0704;0707;0709;0710;0712</td>\n",
       "    </tr>\n",
       "    <tr>\n",
       "      <td>1</td>\n",
       "      <td>704</td>\n",
       "      <td>профсоюзная улица</td>\n",
       "      <td>180</td>\n",
       "      <td>58482469</td>\n",
       "      <td>0701;0704;0707;0709;0710;0712</td>\n",
       "    </tr>\n",
       "    <tr>\n",
       "      <td>1</td>\n",
       "      <td>707</td>\n",
       "      <td>профсоюзная улица</td>\n",
       "      <td>180</td>\n",
       "      <td>58482469</td>\n",
       "      <td>0701;0704;0707;0709;0710;0712</td>\n",
       "    </tr>\n",
       "    <tr>\n",
       "      <td>1</td>\n",
       "      <td>709</td>\n",
       "      <td>профсоюзная улица</td>\n",
       "      <td>180</td>\n",
       "      <td>58482469</td>\n",
       "      <td>0701;0704;0707;0709;0710;0712</td>\n",
       "    </tr>\n",
       "    <tr>\n",
       "      <td>1</td>\n",
       "      <td>710</td>\n",
       "      <td>профсоюзная улица</td>\n",
       "      <td>180</td>\n",
       "      <td>58482469</td>\n",
       "      <td>0701;0704;0707;0709;0710;0712</td>\n",
       "    </tr>\n",
       "    <tr>\n",
       "      <td>1</td>\n",
       "      <td>712</td>\n",
       "      <td>профсоюзная улица</td>\n",
       "      <td>180</td>\n",
       "      <td>58482469</td>\n",
       "      <td>0701;0704;0707;0709;0710;0712</td>\n",
       "    </tr>\n",
       "    <tr>\n",
       "      <td>2</td>\n",
       "      <td>201</td>\n",
       "      <td>ленинградский проспект</td>\n",
       "      <td>170</td>\n",
       "      <td>58481514</td>\n",
       "      <td>0201;0202;0214;0217</td>\n",
       "    </tr>\n",
       "    <tr>\n",
       "      <td>2</td>\n",
       "      <td>202</td>\n",
       "      <td>ленинградский проспект</td>\n",
       "      <td>170</td>\n",
       "      <td>58481514</td>\n",
       "      <td>0201;0202;0214;0217</td>\n",
       "    </tr>\n",
       "    <tr>\n",
       "      <td>2</td>\n",
       "      <td>214</td>\n",
       "      <td>ленинградский проспект</td>\n",
       "      <td>170</td>\n",
       "      <td>58481514</td>\n",
       "      <td>0201;0202;0214;0217</td>\n",
       "    </tr>\n",
       "    <tr>\n",
       "      <td>2</td>\n",
       "      <td>217</td>\n",
       "      <td>ленинградский проспект</td>\n",
       "      <td>170</td>\n",
       "      <td>58481514</td>\n",
       "      <td>0201;0202;0214;0217</td>\n",
       "    </tr>\n",
       "    <tr>\n",
       "      <td>3</td>\n",
       "      <td>106</td>\n",
       "      <td>пресненская набережная</td>\n",
       "      <td>165</td>\n",
       "      <td>58482416</td>\n",
       "      <td>0106</td>\n",
       "    </tr>\n",
       "    <tr>\n",
       "      <td>4</td>\n",
       "      <td>610</td>\n",
       "      <td>варшавское шоссе</td>\n",
       "      <td>159</td>\n",
       "      <td>58485474</td>\n",
       "      <td>0610;0613;0615;0619;0620;0621;0708;0711;1111</td>\n",
       "    </tr>\n",
       "    <tr>\n",
       "      <td>4</td>\n",
       "      <td>613</td>\n",
       "      <td>варшавское шоссе</td>\n",
       "      <td>159</td>\n",
       "      <td>58485474</td>\n",
       "      <td>0610;0613;0615;0619;0620;0621;0708;0711;1111</td>\n",
       "    </tr>\n",
       "    <tr>\n",
       "      <td>4</td>\n",
       "      <td>615</td>\n",
       "      <td>варшавское шоссе</td>\n",
       "      <td>159</td>\n",
       "      <td>58485474</td>\n",
       "      <td>0610;0613;0615;0619;0620;0621;0708;0711;1111</td>\n",
       "    </tr>\n",
       "    <tr>\n",
       "      <td>4</td>\n",
       "      <td>619</td>\n",
       "      <td>варшавское шоссе</td>\n",
       "      <td>159</td>\n",
       "      <td>58485474</td>\n",
       "      <td>0610;0613;0615;0619;0620;0621;0708;0711;1111</td>\n",
       "    </tr>\n",
       "    <tr>\n",
       "      <td>4</td>\n",
       "      <td>620</td>\n",
       "      <td>варшавское шоссе</td>\n",
       "      <td>159</td>\n",
       "      <td>58485474</td>\n",
       "      <td>0610;0613;0615;0619;0620;0621;0708;0711;1111</td>\n",
       "    </tr>\n",
       "    <tr>\n",
       "      <td>4</td>\n",
       "      <td>621</td>\n",
       "      <td>варшавское шоссе</td>\n",
       "      <td>159</td>\n",
       "      <td>58485474</td>\n",
       "      <td>0610;0613;0615;0619;0620;0621;0708;0711;1111</td>\n",
       "    </tr>\n",
       "    <tr>\n",
       "      <td>4</td>\n",
       "      <td>708</td>\n",
       "      <td>варшавское шоссе</td>\n",
       "      <td>159</td>\n",
       "      <td>58485474</td>\n",
       "      <td>0610;0613;0615;0619;0620;0621;0708;0711;1111</td>\n",
       "    </tr>\n",
       "    <tr>\n",
       "      <td>4</td>\n",
       "      <td>711</td>\n",
       "      <td>варшавское шоссе</td>\n",
       "      <td>159</td>\n",
       "      <td>58485474</td>\n",
       "      <td>0610;0613;0615;0619;0620;0621;0708;0711;1111</td>\n",
       "    </tr>\n",
       "    <tr>\n",
       "      <td>4</td>\n",
       "      <td>1111</td>\n",
       "      <td>варшавское шоссе</td>\n",
       "      <td>159</td>\n",
       "      <td>58485474</td>\n",
       "      <td>0610;0613;0615;0619;0620;0621;0708;0711;1111</td>\n",
       "    </tr>\n",
       "    <tr>\n",
       "      <td>5</td>\n",
       "      <td>110</td>\n",
       "      <td>ленинский проспект</td>\n",
       "      <td>147</td>\n",
       "      <td>58481520</td>\n",
       "      <td>0110;0610;0702;0706;0707;0709;0814;0817</td>\n",
       "    </tr>\n",
       "    <tr>\n",
       "      <td>5</td>\n",
       "      <td>610</td>\n",
       "      <td>ленинский проспект</td>\n",
       "      <td>147</td>\n",
       "      <td>58481520</td>\n",
       "      <td>0110;0610;0702;0706;0707;0709;0814;0817</td>\n",
       "    </tr>\n",
       "    <tr>\n",
       "      <td>5</td>\n",
       "      <td>702</td>\n",
       "      <td>ленинский проспект</td>\n",
       "      <td>147</td>\n",
       "      <td>58481520</td>\n",
       "      <td>0110;0610;0702;0706;0707;0709;0814;0817</td>\n",
       "    </tr>\n",
       "    <tr>\n",
       "      <td>5</td>\n",
       "      <td>706</td>\n",
       "      <td>ленинский проспект</td>\n",
       "      <td>147</td>\n",
       "      <td>58481520</td>\n",
       "      <td>0110;0610;0702;0706;0707;0709;0814;0817</td>\n",
       "    </tr>\n",
       "    <tr>\n",
       "      <td>5</td>\n",
       "      <td>707</td>\n",
       "      <td>ленинский проспект</td>\n",
       "      <td>147</td>\n",
       "      <td>58481520</td>\n",
       "      <td>0110;0610;0702;0706;0707;0709;0814;0817</td>\n",
       "    </tr>\n",
       "    <tr>\n",
       "      <td>5</td>\n",
       "      <td>709</td>\n",
       "      <td>ленинский проспект</td>\n",
       "      <td>147</td>\n",
       "      <td>58481520</td>\n",
       "      <td>0110;0610;0702;0706;0707;0709;0814;0817</td>\n",
       "    </tr>\n",
       "    <tr>\n",
       "      <td>5</td>\n",
       "      <td>814</td>\n",
       "      <td>ленинский проспект</td>\n",
       "      <td>147</td>\n",
       "      <td>58481520</td>\n",
       "      <td>0110;0610;0702;0706;0707;0709;0814;0817</td>\n",
       "    </tr>\n",
       "    <tr>\n",
       "      <td>5</td>\n",
       "      <td>817</td>\n",
       "      <td>ленинский проспект</td>\n",
       "      <td>147</td>\n",
       "      <td>58481520</td>\n",
       "      <td>0110;0610;0702;0706;0707;0709;0814;0817</td>\n",
       "    </tr>\n",
       "    <tr>\n",
       "      <td>6</td>\n",
       "      <td>702</td>\n",
       "      <td>проспект вернадского</td>\n",
       "      <td>126</td>\n",
       "      <td>58485499</td>\n",
       "      <td>0702;0706;0814;0815;0817</td>\n",
       "    </tr>\n",
       "    <tr>\n",
       "      <td>6</td>\n",
       "      <td>706</td>\n",
       "      <td>проспект вернадского</td>\n",
       "      <td>126</td>\n",
       "      <td>58485499</td>\n",
       "      <td>0702;0706;0814;0815;0817</td>\n",
       "    </tr>\n",
       "    <tr>\n",
       "      <td>6</td>\n",
       "      <td>814</td>\n",
       "      <td>проспект вернадского</td>\n",
       "      <td>126</td>\n",
       "      <td>58485499</td>\n",
       "      <td>0702;0706;0814;0815;0817</td>\n",
       "    </tr>\n",
       "    <tr>\n",
       "      <td>6</td>\n",
       "      <td>815</td>\n",
       "      <td>проспект вернадского</td>\n",
       "      <td>126</td>\n",
       "      <td>58485499</td>\n",
       "      <td>0702;0706;0814;0815;0817</td>\n",
       "    </tr>\n",
       "    <tr>\n",
       "      <td>6</td>\n",
       "      <td>817</td>\n",
       "      <td>проспект вернадского</td>\n",
       "      <td>126</td>\n",
       "      <td>58485499</td>\n",
       "      <td>0702;0706;0814;0815;0817</td>\n",
       "    </tr>\n",
       "    <tr>\n",
       "      <td>7</td>\n",
       "      <td>805</td>\n",
       "      <td>кутузовский проспект</td>\n",
       "      <td>114</td>\n",
       "      <td>58481479</td>\n",
       "      <td>0805;0819</td>\n",
       "    </tr>\n",
       "    <tr>\n",
       "      <td>7</td>\n",
       "      <td>819</td>\n",
       "      <td>кутузовский проспект</td>\n",
       "      <td>114</td>\n",
       "      <td>58481479</td>\n",
       "      <td>0805;0819</td>\n",
       "    </tr>\n",
       "    <tr>\n",
       "      <td>8</td>\n",
       "      <td>612</td>\n",
       "      <td>каширское шоссе</td>\n",
       "      <td>110</td>\n",
       "      <td>58481166</td>\n",
       "      <td>0612;0613;0616;0617</td>\n",
       "    </tr>\n",
       "    <tr>\n",
       "      <td>8</td>\n",
       "      <td>613</td>\n",
       "      <td>каширское шоссе</td>\n",
       "      <td>110</td>\n",
       "      <td>58481166</td>\n",
       "      <td>0612;0613;0616;0617</td>\n",
       "    </tr>\n",
       "    <tr>\n",
       "      <td>8</td>\n",
       "      <td>616</td>\n",
       "      <td>каширское шоссе</td>\n",
       "      <td>110</td>\n",
       "      <td>58481166</td>\n",
       "      <td>0612;0613;0616;0617</td>\n",
       "    </tr>\n",
       "    <tr>\n",
       "      <td>8</td>\n",
       "      <td>617</td>\n",
       "      <td>каширское шоссе</td>\n",
       "      <td>110</td>\n",
       "      <td>58481166</td>\n",
       "      <td>0612;0613;0616;0617</td>\n",
       "    </tr>\n",
       "    <tr>\n",
       "      <td>9</td>\n",
       "      <td>619</td>\n",
       "      <td>кировоградская улица</td>\n",
       "      <td>107</td>\n",
       "      <td>58481183</td>\n",
       "      <td>0619;0620;0621</td>\n",
       "    </tr>\n",
       "    <tr>\n",
       "      <td>9</td>\n",
       "      <td>620</td>\n",
       "      <td>кировоградская улица</td>\n",
       "      <td>107</td>\n",
       "      <td>58481183</td>\n",
       "      <td>0619;0620;0621</td>\n",
       "    </tr>\n",
       "    <tr>\n",
       "      <td>9</td>\n",
       "      <td>621</td>\n",
       "      <td>кировоградская улица</td>\n",
       "      <td>107</td>\n",
       "      <td>58481183</td>\n",
       "      <td>0619;0620;0621</td>\n",
       "    </tr>\n",
       "  </tbody>\n",
       "</table>\n",
       "</div>"
      ],
      "text/plain": [
       "   code                  street  count global_id  \\\n",
       "0   105           проспект мира    196  58481760   \n",
       "0   301           проспект мира    196  58481760   \n",
       "0   309           проспект мира    196  58481760   \n",
       "0   310           проспект мира    196  58481760   \n",
       "0   312           проспект мира    196  58481760   \n",
       "0   313           проспект мира    196  58481760   \n",
       "0   317           проспект мира    196  58481760   \n",
       "1   701       профсоюзная улица    180  58482469   \n",
       "1   704       профсоюзная улица    180  58482469   \n",
       "1   707       профсоюзная улица    180  58482469   \n",
       "1   709       профсоюзная улица    180  58482469   \n",
       "1   710       профсоюзная улица    180  58482469   \n",
       "1   712       профсоюзная улица    180  58482469   \n",
       "2   201  ленинградский проспект    170  58481514   \n",
       "2   202  ленинградский проспект    170  58481514   \n",
       "2   214  ленинградский проспект    170  58481514   \n",
       "2   217  ленинградский проспект    170  58481514   \n",
       "3   106  пресненская набережная    165  58482416   \n",
       "4   610        варшавское шоссе    159  58485474   \n",
       "4   613        варшавское шоссе    159  58485474   \n",
       "4   615        варшавское шоссе    159  58485474   \n",
       "4   619        варшавское шоссе    159  58485474   \n",
       "4   620        варшавское шоссе    159  58485474   \n",
       "4   621        варшавское шоссе    159  58485474   \n",
       "4   708        варшавское шоссе    159  58485474   \n",
       "4   711        варшавское шоссе    159  58485474   \n",
       "4  1111        варшавское шоссе    159  58485474   \n",
       "5   110      ленинский проспект    147  58481520   \n",
       "5   610      ленинский проспект    147  58481520   \n",
       "5   702      ленинский проспект    147  58481520   \n",
       "5   706      ленинский проспект    147  58481520   \n",
       "5   707      ленинский проспект    147  58481520   \n",
       "5   709      ленинский проспект    147  58481520   \n",
       "5   814      ленинский проспект    147  58481520   \n",
       "5   817      ленинский проспект    147  58481520   \n",
       "6   702    проспект вернадского    126  58485499   \n",
       "6   706    проспект вернадского    126  58485499   \n",
       "6   814    проспект вернадского    126  58485499   \n",
       "6   815    проспект вернадского    126  58485499   \n",
       "6   817    проспект вернадского    126  58485499   \n",
       "7   805    кутузовский проспект    114  58481479   \n",
       "7   819    кутузовский проспект    114  58481479   \n",
       "8   612         каширское шоссе    110  58481166   \n",
       "8   613         каширское шоссе    110  58481166   \n",
       "8   616         каширское шоссе    110  58481166   \n",
       "8   617         каширское шоссе    110  58481166   \n",
       "9   619    кировоградская улица    107  58481183   \n",
       "9   620    кировоградская улица    107  58481183   \n",
       "9   621    кировоградская улица    107  58481183   \n",
       "\n",
       "                                            kod  \n",
       "0            0105;0301;0309;0310;0312;0313;0317  \n",
       "0            0105;0301;0309;0310;0312;0313;0317  \n",
       "0            0105;0301;0309;0310;0312;0313;0317  \n",
       "0            0105;0301;0309;0310;0312;0313;0317  \n",
       "0            0105;0301;0309;0310;0312;0313;0317  \n",
       "0            0105;0301;0309;0310;0312;0313;0317  \n",
       "0            0105;0301;0309;0310;0312;0313;0317  \n",
       "1                 0701;0704;0707;0709;0710;0712  \n",
       "1                 0701;0704;0707;0709;0710;0712  \n",
       "1                 0701;0704;0707;0709;0710;0712  \n",
       "1                 0701;0704;0707;0709;0710;0712  \n",
       "1                 0701;0704;0707;0709;0710;0712  \n",
       "1                 0701;0704;0707;0709;0710;0712  \n",
       "2                           0201;0202;0214;0217  \n",
       "2                           0201;0202;0214;0217  \n",
       "2                           0201;0202;0214;0217  \n",
       "2                           0201;0202;0214;0217  \n",
       "3                                          0106  \n",
       "4  0610;0613;0615;0619;0620;0621;0708;0711;1111  \n",
       "4  0610;0613;0615;0619;0620;0621;0708;0711;1111  \n",
       "4  0610;0613;0615;0619;0620;0621;0708;0711;1111  \n",
       "4  0610;0613;0615;0619;0620;0621;0708;0711;1111  \n",
       "4  0610;0613;0615;0619;0620;0621;0708;0711;1111  \n",
       "4  0610;0613;0615;0619;0620;0621;0708;0711;1111  \n",
       "4  0610;0613;0615;0619;0620;0621;0708;0711;1111  \n",
       "4  0610;0613;0615;0619;0620;0621;0708;0711;1111  \n",
       "4  0610;0613;0615;0619;0620;0621;0708;0711;1111  \n",
       "5       0110;0610;0702;0706;0707;0709;0814;0817  \n",
       "5       0110;0610;0702;0706;0707;0709;0814;0817  \n",
       "5       0110;0610;0702;0706;0707;0709;0814;0817  \n",
       "5       0110;0610;0702;0706;0707;0709;0814;0817  \n",
       "5       0110;0610;0702;0706;0707;0709;0814;0817  \n",
       "5       0110;0610;0702;0706;0707;0709;0814;0817  \n",
       "5       0110;0610;0702;0706;0707;0709;0814;0817  \n",
       "5       0110;0610;0702;0706;0707;0709;0814;0817  \n",
       "6                      0702;0706;0814;0815;0817  \n",
       "6                      0702;0706;0814;0815;0817  \n",
       "6                      0702;0706;0814;0815;0817  \n",
       "6                      0702;0706;0814;0815;0817  \n",
       "6                      0702;0706;0814;0815;0817  \n",
       "7                                     0805;0819  \n",
       "7                                     0805;0819  \n",
       "8                           0612;0613;0616;0617  \n",
       "8                           0612;0613;0616;0617  \n",
       "8                           0612;0613;0616;0617  \n",
       "8                           0612;0613;0616;0617  \n",
       "9                                0619;0620;0621  \n",
       "9                                0619;0620;0621  \n",
       "9                                0619;0620;0621  "
      ]
     },
     "execution_count": 125,
     "metadata": {},
     "output_type": "execute_result"
    }
   ],
   "source": [
    "#Объединим таблицы codes и top10 по индексу\n",
    "top_10 = codes.join(top_10)\n",
    "top_10"
   ]
  },
  {
   "cell_type": "code",
   "execution_count": 126,
   "metadata": {},
   "outputs": [
    {
     "data": {
      "text/html": [
       "<div>\n",
       "<style scoped>\n",
       "    .dataframe tbody tr th:only-of-type {\n",
       "        vertical-align: middle;\n",
       "    }\n",
       "\n",
       "    .dataframe tbody tr th {\n",
       "        vertical-align: top;\n",
       "    }\n",
       "\n",
       "    .dataframe thead th {\n",
       "        text-align: right;\n",
       "    }\n",
       "</style>\n",
       "<table border=\"1\" class=\"dataframe\">\n",
       "  <thead>\n",
       "    <tr style=\"text-align: right;\">\n",
       "      <th></th>\n",
       "      <th>Kod</th>\n",
       "      <th>Name</th>\n",
       "      <th>global_id</th>\n",
       "      <th>Latin_name</th>\n",
       "      <th>Type</th>\n",
       "      <th>Kod_okato</th>\n",
       "    </tr>\n",
       "  </thead>\n",
       "  <tbody>\n",
       "    <tr>\n",
       "      <td>0</td>\n",
       "      <td>100</td>\n",
       "      <td>Центральный административный округ</td>\n",
       "      <td>58703558</td>\n",
       "      <td>Czentral`ny'j administrativny'j okrug</td>\n",
       "      <td>2</td>\n",
       "      <td>45286000</td>\n",
       "    </tr>\n",
       "    <tr>\n",
       "      <td>1</td>\n",
       "      <td>101</td>\n",
       "      <td>район Арбат</td>\n",
       "      <td>58703559</td>\n",
       "      <td>rajon Arbat</td>\n",
       "      <td>3</td>\n",
       "      <td>45286552</td>\n",
       "    </tr>\n",
       "    <tr>\n",
       "      <td>2</td>\n",
       "      <td>102</td>\n",
       "      <td>Басманный район</td>\n",
       "      <td>58703560</td>\n",
       "      <td>Basmanny'j rajon</td>\n",
       "      <td>3</td>\n",
       "      <td>45286555</td>\n",
       "    </tr>\n",
       "    <tr>\n",
       "      <td>3</td>\n",
       "      <td>103</td>\n",
       "      <td>район Замоскворечье</td>\n",
       "      <td>58703561</td>\n",
       "      <td>rajon Zamoskvorech`e</td>\n",
       "      <td>3</td>\n",
       "      <td>45286560</td>\n",
       "    </tr>\n",
       "    <tr>\n",
       "      <td>4</td>\n",
       "      <td>104</td>\n",
       "      <td>Красносельский район</td>\n",
       "      <td>58703562</td>\n",
       "      <td>Krasnosel`skij rajon</td>\n",
       "      <td>3</td>\n",
       "      <td>45286565</td>\n",
       "    </tr>\n",
       "  </tbody>\n",
       "</table>\n",
       "</div>"
      ],
      "text/plain": [
       "   Kod                                Name  global_id  \\\n",
       "0  100  Центральный административный округ   58703558   \n",
       "1  101                         район Арбат   58703559   \n",
       "2  102                     Басманный район   58703560   \n",
       "3  103                 район Замоскворечье   58703561   \n",
       "4  104                Красносельский район   58703562   \n",
       "\n",
       "                              Latin_name  Type  Kod_okato  \n",
       "0  Czentral`ny'j administrativny'j okrug     2   45286000  \n",
       "1                            rajon Arbat     3   45286552  \n",
       "2                       Basmanny'j rajon     3   45286555  \n",
       "3                   rajon Zamoskvorech`e     3   45286560  \n",
       "4                   Krasnosel`skij rajon     3   45286565  "
      ]
     },
     "execution_count": 126,
     "metadata": {},
     "output_type": "execute_result"
    }
   ],
   "source": [
    "#Подгрузим данные о районах Москвы\n",
    "spreadsheet_id = '1KEGudmKPWC6Mi1aZRY2n4vOOhaiuI6N5HLapCV9D364'\n",
    "file_name = 'https://docs.google.com/spreadsheets/d/{}/export?format=csv'.format(spreadsheet_id)\n",
    "r = requests.get(file_name)\n",
    "moscow_districts = pd.read_csv(BytesIO(r.content))\n",
    "moscow_districts.head()"
   ]
  },
  {
   "cell_type": "code",
   "execution_count": 127,
   "metadata": {},
   "outputs": [
    {
     "data": {
      "text/html": [
       "<div>\n",
       "<style scoped>\n",
       "    .dataframe tbody tr th:only-of-type {\n",
       "        vertical-align: middle;\n",
       "    }\n",
       "\n",
       "    .dataframe tbody tr th {\n",
       "        vertical-align: top;\n",
       "    }\n",
       "\n",
       "    .dataframe thead th {\n",
       "        text-align: right;\n",
       "    }\n",
       "</style>\n",
       "<table border=\"1\" class=\"dataframe\">\n",
       "  <thead>\n",
       "    <tr style=\"text-align: right;\">\n",
       "      <th></th>\n",
       "      <th>kod</th>\n",
       "      <th>name</th>\n",
       "    </tr>\n",
       "  </thead>\n",
       "  <tbody>\n",
       "    <tr>\n",
       "      <td>0</td>\n",
       "      <td>100</td>\n",
       "      <td>центральный административный округ</td>\n",
       "    </tr>\n",
       "    <tr>\n",
       "      <td>1</td>\n",
       "      <td>101</td>\n",
       "      <td>район арбат</td>\n",
       "    </tr>\n",
       "    <tr>\n",
       "      <td>2</td>\n",
       "      <td>102</td>\n",
       "      <td>басманный район</td>\n",
       "    </tr>\n",
       "    <tr>\n",
       "      <td>3</td>\n",
       "      <td>103</td>\n",
       "      <td>район замоскворечье</td>\n",
       "    </tr>\n",
       "    <tr>\n",
       "      <td>4</td>\n",
       "      <td>104</td>\n",
       "      <td>красносельский район</td>\n",
       "    </tr>\n",
       "  </tbody>\n",
       "</table>\n",
       "</div>"
      ],
      "text/plain": [
       "   kod                                name\n",
       "0  100  центральный административный округ\n",
       "1  101                         район арбат\n",
       "2  102                     басманный район\n",
       "3  103                 район замоскворечье\n",
       "4  104                красносельский район"
      ]
     },
     "execution_count": 127,
     "metadata": {},
     "output_type": "execute_result"
    }
   ],
   "source": [
    "#Немного отформатируем наши данные: переведем в нижний регистр данные столбца с названием улицы и\n",
    "#названия столбцов.\n",
    "moscow_districts['Name'] = moscow_districts['Name'].str.lower()\n",
    "moscow_districts.columns = map(str.lower, moscow_districts.columns)\n",
    "moscow_districts = moscow_districts[['kod', 'name']]\n",
    "moscow_districts.head()"
   ]
  },
  {
   "cell_type": "code",
   "execution_count": 128,
   "metadata": {},
   "outputs": [
    {
     "data": {
      "text/html": [
       "<div>\n",
       "<style scoped>\n",
       "    .dataframe tbody tr th:only-of-type {\n",
       "        vertical-align: middle;\n",
       "    }\n",
       "\n",
       "    .dataframe tbody tr th {\n",
       "        vertical-align: top;\n",
       "    }\n",
       "\n",
       "    .dataframe thead th {\n",
       "        text-align: right;\n",
       "    }\n",
       "</style>\n",
       "<table border=\"1\" class=\"dataframe\">\n",
       "  <thead>\n",
       "    <tr style=\"text-align: right;\">\n",
       "      <th></th>\n",
       "      <th>code</th>\n",
       "      <th>street</th>\n",
       "      <th>count</th>\n",
       "      <th>global_id</th>\n",
       "      <th>name</th>\n",
       "    </tr>\n",
       "  </thead>\n",
       "  <tbody>\n",
       "    <tr>\n",
       "      <td>0</td>\n",
       "      <td>105</td>\n",
       "      <td>проспект мира</td>\n",
       "      <td>196</td>\n",
       "      <td>58481760</td>\n",
       "      <td>мещанский район</td>\n",
       "    </tr>\n",
       "    <tr>\n",
       "      <td>2</td>\n",
       "      <td>309</td>\n",
       "      <td>проспект мира</td>\n",
       "      <td>196</td>\n",
       "      <td>58481760</td>\n",
       "      <td>район марьина роща</td>\n",
       "    </tr>\n",
       "    <tr>\n",
       "      <td>3</td>\n",
       "      <td>310</td>\n",
       "      <td>проспект мира</td>\n",
       "      <td>196</td>\n",
       "      <td>58481760</td>\n",
       "      <td>останкинский район</td>\n",
       "    </tr>\n",
       "    <tr>\n",
       "      <td>4</td>\n",
       "      <td>312</td>\n",
       "      <td>проспект мира</td>\n",
       "      <td>196</td>\n",
       "      <td>58481760</td>\n",
       "      <td>район ростокино</td>\n",
       "    </tr>\n",
       "    <tr>\n",
       "      <td>5</td>\n",
       "      <td>313</td>\n",
       "      <td>проспект мира</td>\n",
       "      <td>196</td>\n",
       "      <td>58481760</td>\n",
       "      <td>район свиблово</td>\n",
       "    </tr>\n",
       "  </tbody>\n",
       "</table>\n",
       "</div>"
      ],
      "text/plain": [
       "   code         street  count global_id                name\n",
       "0   105  проспект мира    196  58481760     мещанский район\n",
       "2   309  проспект мира    196  58481760  район марьина роща\n",
       "3   310  проспект мира    196  58481760  останкинский район\n",
       "4   312  проспект мира    196  58481760     район ростокино\n",
       "5   313  проспект мира    196  58481760      район свиблово"
      ]
     },
     "execution_count": 128,
     "metadata": {},
     "output_type": "execute_result"
    }
   ],
   "source": [
    "#Объединим таблицу с районами и таблицу с нашими топ улицами и удалим лишнюю информацию из таблицы\n",
    "top_10 = top_10.merge(moscow_districts, left_on='code', right_on='kod')\n",
    "top_10 = top_10.drop(['kod_x', 'kod_y'], axis = 1)\n",
    "top_10 = top_10.sort_values(by='count', ascending=False)\n",
    "top_10.head()"
   ]
  },
  {
   "cell_type": "code",
   "execution_count": 129,
   "metadata": {},
   "outputs": [
    {
     "data": {
      "text/plain": [
       "38"
      ]
     },
     "execution_count": 129,
     "metadata": {},
     "output_type": "execute_result"
    }
   ],
   "source": [
    "#Посмотрим сколько всего районов охватывают наши Топ 10 улиц\n",
    "top_10['code'].nunique()"
   ]
  },
  {
   "cell_type": "code",
   "execution_count": 130,
   "metadata": {},
   "outputs": [
    {
     "data": {
      "text/plain": [
       "158"
      ]
     },
     "execution_count": 130,
     "metadata": {},
     "output_type": "execute_result"
    }
   ],
   "source": [
    "# Сколько всего районов в Москве\n",
    "moscow_districts['kod'].nunique()"
   ]
  },
  {
   "cell_type": "code",
   "execution_count": 131,
   "metadata": {},
   "outputs": [
    {
     "data": {
      "text/html": [
       "<div>\n",
       "<style scoped>\n",
       "    .dataframe tbody tr th:only-of-type {\n",
       "        vertical-align: middle;\n",
       "    }\n",
       "\n",
       "    .dataframe tbody tr th {\n",
       "        vertical-align: top;\n",
       "    }\n",
       "\n",
       "    .dataframe thead th {\n",
       "        text-align: right;\n",
       "    }\n",
       "</style>\n",
       "<table border=\"1\" class=\"dataframe\">\n",
       "  <thead>\n",
       "    <tr style=\"text-align: right;\">\n",
       "      <th></th>\n",
       "      <th></th>\n",
       "      <th>districts</th>\n",
       "      <th>unique</th>\n",
       "    </tr>\n",
       "    <tr>\n",
       "      <th>street</th>\n",
       "      <th>count</th>\n",
       "      <th></th>\n",
       "      <th></th>\n",
       "    </tr>\n",
       "  </thead>\n",
       "  <tbody>\n",
       "    <tr>\n",
       "      <td>варшавское шоссе</td>\n",
       "      <td>159</td>\n",
       "      <td>9</td>\n",
       "      <td>[район чертаново южное, район чертаново центральное, район южное бутово, район северное бутово, поселение щербинка, район чертаново северное, нагорный район, район нагатино-садовники, донской район]</td>\n",
       "    </tr>\n",
       "    <tr>\n",
       "      <td>ленинский проспект</td>\n",
       "      <td>147</td>\n",
       "      <td>8</td>\n",
       "      <td>[ломоносовский район, обручевский район, район тропарёво-никулино, район проспект вернадского, гагаринский район, район якиманка, район тёплый стан, донской район]</td>\n",
       "    </tr>\n",
       "    <tr>\n",
       "      <td>проспект мира</td>\n",
       "      <td>196</td>\n",
       "      <td>7</td>\n",
       "      <td>[мещанский район, район марьина роща, останкинский район, район ростокино, район свиблово, ярославский район, алексеевский район]</td>\n",
       "    </tr>\n",
       "    <tr>\n",
       "      <td>профсоюзная улица</td>\n",
       "      <td>180</td>\n",
       "      <td>6</td>\n",
       "      <td>[район тёплый стан, район ясенево, район черёмушки, район коньково, обручевский район, академический район]</td>\n",
       "    </tr>\n",
       "    <tr>\n",
       "      <td>проспект вернадского</td>\n",
       "      <td>126</td>\n",
       "      <td>5</td>\n",
       "      <td>[гагаринский район, ломоносовский район, район проспект вернадского, район тропарёво-никулино, район раменки]</td>\n",
       "    </tr>\n",
       "    <tr>\n",
       "      <td>каширское шоссе</td>\n",
       "      <td>110</td>\n",
       "      <td>4</td>\n",
       "      <td>[район москворечье-сабурово, район орехово-борисово северное, район нагатино-садовники, район орехово-борисово южное]</td>\n",
       "    </tr>\n",
       "    <tr>\n",
       "      <td>ленинградский проспект</td>\n",
       "      <td>170</td>\n",
       "      <td>4</td>\n",
       "      <td>[хорошёвский район, район сокол, район аэропорт, район беговой]</td>\n",
       "    </tr>\n",
       "    <tr>\n",
       "      <td>кировоградская улица</td>\n",
       "      <td>107</td>\n",
       "      <td>3</td>\n",
       "      <td>[район чертаново северное, район чертаново южное, район чертаново центральное]</td>\n",
       "    </tr>\n",
       "    <tr>\n",
       "      <td>кутузовский проспект</td>\n",
       "      <td>114</td>\n",
       "      <td>2</td>\n",
       "      <td>[район дорогомилово, район фили-давыдково]</td>\n",
       "    </tr>\n",
       "    <tr>\n",
       "      <td>пресненская набережная</td>\n",
       "      <td>165</td>\n",
       "      <td>1</td>\n",
       "      <td>[пресненский район]</td>\n",
       "    </tr>\n",
       "  </tbody>\n",
       "</table>\n",
       "</div>"
      ],
      "text/plain": [
       "                              districts  \\\n",
       "street                 count              \n",
       "варшавское шоссе       159            9   \n",
       "ленинский проспект     147            8   \n",
       "проспект мира          196            7   \n",
       "профсоюзная улица      180            6   \n",
       "проспект вернадского   126            5   \n",
       "каширское шоссе        110            4   \n",
       "ленинградский проспект 170            4   \n",
       "кировоградская улица   107            3   \n",
       "кутузовский проспект   114            2   \n",
       "пресненская набережная 165            1   \n",
       "\n",
       "                                                                                                                                                                                                                              unique  \n",
       "street                 count                                                                                                                                                                                                          \n",
       "варшавское шоссе       159    [район чертаново южное, район чертаново центральное, район южное бутово, район северное бутово, поселение щербинка, район чертаново северное, нагорный район, район нагатино-садовники, донской район]  \n",
       "ленинский проспект     147                                       [ломоносовский район, обручевский район, район тропарёво-никулино, район проспект вернадского, гагаринский район, район якиманка, район тёплый стан, донской район]  \n",
       "проспект мира          196                                                                         [мещанский район, район марьина роща, останкинский район, район ростокино, район свиблово, ярославский район, алексеевский район]  \n",
       "профсоюзная улица      180                                                                                               [район тёплый стан, район ясенево, район черёмушки, район коньково, обручевский район, академический район]  \n",
       "проспект вернадского   126                                                                                             [гагаринский район, ломоносовский район, район проспект вернадского, район тропарёво-никулино, район раменки]  \n",
       "каширское шоссе        110                                                                                     [район москворечье-сабурово, район орехово-борисово северное, район нагатино-садовники, район орехово-борисово южное]  \n",
       "ленинградский проспект 170                                                                                                                                           [хорошёвский район, район сокол, район аэропорт, район беговой]  \n",
       "кировоградская улица   107                                                                                                                            [район чертаново северное, район чертаново южное, район чертаново центральное]  \n",
       "кутузовский проспект   114                                                                                                                                                                [район дорогомилово, район фили-давыдково]  \n",
       "пресненская набережная 165                                                                                                                                                                                       [пресненский район]  "
      ]
     },
     "execution_count": 131,
     "metadata": {},
     "output_type": "execute_result"
    }
   ],
   "source": [
    "#Сгруппируем таблицу для ясности картины\n",
    "pd.set_option('display.max_colwidth', 200)\n",
    "top_10 = top_10.pivot_table(index=['street', 'count'], values = 'name', aggfunc=(\n",
    "    'count', 'unique'))\n",
    "top_10.columns = ['districts', 'unique' ]\n",
    "top_10.sort_values(by='districts', ascending=False)"
   ]
  },
  {
   "cell_type": "markdown",
   "metadata": {},
   "source": [
    "**<font color=\"purple\">Мы выделили Топ 10 улиц Москвы с максимальным количеством заведений общественного питания. Выяснили, что это - большие улицы, проспекты, шоссе, которые проходят преимущественно через несколько  районов. Исключение составляет Пресненская набережная с высокой концентрацией заведений в пределах одного Пресненского района. Всего в Москве 158 районов. 38 из них (или 24%) пересекают крупные улицы, которые мы выделили как топ 10 по количеству заведений общественного питания. </font>**"
   ]
  },
  {
   "cell_type": "markdown",
   "metadata": {},
   "source": [
    "#### Число улиц с одним объектом общественного питания <a id=\"only_one\"></a>"
   ]
  },
  {
   "cell_type": "code",
   "execution_count": 132,
   "metadata": {},
   "outputs": [
    {
     "data": {
      "text/plain": [
       "580"
      ]
     },
     "execution_count": 132,
     "metadata": {},
     "output_type": "execute_result"
    }
   ],
   "source": [
    "#сфомируем таблицу по условию: одно заведение на одной улице\n",
    "only_one = cafe_total.query('count==1').reset_index(drop=True)\n",
    "only_one['street'].nunique()"
   ]
  },
  {
   "cell_type": "code",
   "execution_count": 133,
   "metadata": {},
   "outputs": [
    {
     "data": {
      "text/plain": [
       "569"
      ]
     },
     "execution_count": 133,
     "metadata": {},
     "output_type": "execute_result"
    }
   ],
   "source": [
    "#ОБъединим таблицы с данными по ресторанам и внешними данными с улицами и кодами районов\n",
    "only_one=only_one.merge(moscow_streets, on='street')\n",
    "only_one['street'].nunique()"
   ]
  },
  {
   "cell_type": "code",
   "execution_count": 134,
   "metadata": {},
   "outputs": [
    {
     "data": {
      "text/html": [
       "<div>\n",
       "<style scoped>\n",
       "    .dataframe tbody tr th:only-of-type {\n",
       "        vertical-align: middle;\n",
       "    }\n",
       "\n",
       "    .dataframe tbody tr th {\n",
       "        vertical-align: top;\n",
       "    }\n",
       "\n",
       "    .dataframe thead th {\n",
       "        text-align: right;\n",
       "    }\n",
       "</style>\n",
       "<table border=\"1\" class=\"dataframe\">\n",
       "  <thead>\n",
       "    <tr style=\"text-align: right;\">\n",
       "      <th></th>\n",
       "      <th>street</th>\n",
       "      <th>count</th>\n",
       "      <th>global_id</th>\n",
       "      <th>kod</th>\n",
       "    </tr>\n",
       "  </thead>\n",
       "  <tbody>\n",
       "    <tr>\n",
       "      <td>0</td>\n",
       "      <td>дербеневская улица</td>\n",
       "      <td>1</td>\n",
       "      <td>58485825</td>\n",
       "      <td>0609</td>\n",
       "    </tr>\n",
       "    <tr>\n",
       "      <td>1</td>\n",
       "      <td>большая серпуховская улица</td>\n",
       "      <td>1</td>\n",
       "      <td>58482770</td>\n",
       "      <td>0103;0609</td>\n",
       "    </tr>\n",
       "    <tr>\n",
       "      <td>2</td>\n",
       "      <td>проезд добролюбова</td>\n",
       "      <td>1</td>\n",
       "      <td>58485858</td>\n",
       "      <td>0305</td>\n",
       "    </tr>\n",
       "    <tr>\n",
       "      <td>3</td>\n",
       "      <td>профсоюзная улица</td>\n",
       "      <td>1</td>\n",
       "      <td>58482469</td>\n",
       "      <td>0701;0704;0707;0709;0710;0712</td>\n",
       "    </tr>\n",
       "    <tr>\n",
       "      <td>4</td>\n",
       "      <td>улица обручева</td>\n",
       "      <td>1</td>\n",
       "      <td>58482079</td>\n",
       "      <td>0704;0707;0710</td>\n",
       "    </tr>\n",
       "    <tr>\n",
       "      <td>...</td>\n",
       "      <td>...</td>\n",
       "      <td>...</td>\n",
       "      <td>...</td>\n",
       "      <td>...</td>\n",
       "    </tr>\n",
       "    <tr>\n",
       "      <td>652</td>\n",
       "      <td>школьная улица</td>\n",
       "      <td>1</td>\n",
       "      <td>58484299</td>\n",
       "      <td>1207</td>\n",
       "    </tr>\n",
       "    <tr>\n",
       "      <td>653</td>\n",
       "      <td>школьная улица</td>\n",
       "      <td>1</td>\n",
       "      <td>58484488</td>\n",
       "      <td>1210</td>\n",
       "    </tr>\n",
       "    <tr>\n",
       "      <td>654</td>\n",
       "      <td>школьная улица</td>\n",
       "      <td>1</td>\n",
       "      <td>58484586</td>\n",
       "      <td>1111</td>\n",
       "    </tr>\n",
       "    <tr>\n",
       "      <td>655</td>\n",
       "      <td>школьная улица</td>\n",
       "      <td>1</td>\n",
       "      <td>58484663</td>\n",
       "      <td>1209</td>\n",
       "    </tr>\n",
       "    <tr>\n",
       "      <td>656</td>\n",
       "      <td>школьная улица</td>\n",
       "      <td>1</td>\n",
       "      <td>58484836</td>\n",
       "      <td>1208</td>\n",
       "    </tr>\n",
       "  </tbody>\n",
       "</table>\n",
       "<p>657 rows × 4 columns</p>\n",
       "</div>"
      ],
      "text/plain": [
       "                         street  count global_id  \\\n",
       "0            дербеневская улица      1  58485825   \n",
       "1    большая серпуховская улица      1  58482770   \n",
       "2            проезд добролюбова      1  58485858   \n",
       "3             профсоюзная улица      1  58482469   \n",
       "4                улица обручева      1  58482079   \n",
       "..                          ...    ...       ...   \n",
       "652              школьная улица      1  58484299   \n",
       "653              школьная улица      1  58484488   \n",
       "654              школьная улица      1  58484586   \n",
       "655              школьная улица      1  58484663   \n",
       "656              школьная улица      1  58484836   \n",
       "\n",
       "                               kod  \n",
       "0                             0609  \n",
       "1                        0103;0609  \n",
       "2                             0305  \n",
       "3    0701;0704;0707;0709;0710;0712  \n",
       "4                   0704;0707;0710  \n",
       "..                             ...  \n",
       "652                           1207  \n",
       "653                           1210  \n",
       "654                           1111  \n",
       "655                           1209  \n",
       "656                           1208  \n",
       "\n",
       "[657 rows x 4 columns]"
      ]
     },
     "execution_count": 134,
     "metadata": {},
     "output_type": "execute_result"
    }
   ],
   "source": [
    "only_one.drop_duplicates().reset_index(drop=True)"
   ]
  },
  {
   "cell_type": "code",
   "execution_count": 135,
   "metadata": {},
   "outputs": [
    {
     "data": {
      "text/html": [
       "<div>\n",
       "<style scoped>\n",
       "    .dataframe tbody tr th:only-of-type {\n",
       "        vertical-align: middle;\n",
       "    }\n",
       "\n",
       "    .dataframe tbody tr th {\n",
       "        vertical-align: top;\n",
       "    }\n",
       "\n",
       "    .dataframe thead th {\n",
       "        text-align: right;\n",
       "    }\n",
       "</style>\n",
       "<table border=\"1\" class=\"dataframe\">\n",
       "  <thead>\n",
       "    <tr style=\"text-align: right;\">\n",
       "      <th></th>\n",
       "      <th>0</th>\n",
       "      <th>1</th>\n",
       "      <th>2</th>\n",
       "      <th>3</th>\n",
       "      <th>4</th>\n",
       "      <th>5</th>\n",
       "      <th>6</th>\n",
       "      <th>7</th>\n",
       "      <th>8</th>\n",
       "    </tr>\n",
       "  </thead>\n",
       "  <tbody>\n",
       "    <tr>\n",
       "      <td>0</td>\n",
       "      <td>0609</td>\n",
       "      <td>None</td>\n",
       "      <td>None</td>\n",
       "      <td>None</td>\n",
       "      <td>None</td>\n",
       "      <td>None</td>\n",
       "      <td>None</td>\n",
       "      <td>None</td>\n",
       "      <td>None</td>\n",
       "    </tr>\n",
       "    <tr>\n",
       "      <td>1</td>\n",
       "      <td>0103</td>\n",
       "      <td>0609</td>\n",
       "      <td>None</td>\n",
       "      <td>None</td>\n",
       "      <td>None</td>\n",
       "      <td>None</td>\n",
       "      <td>None</td>\n",
       "      <td>None</td>\n",
       "      <td>None</td>\n",
       "    </tr>\n",
       "    <tr>\n",
       "      <td>2</td>\n",
       "      <td>0305</td>\n",
       "      <td>None</td>\n",
       "      <td>None</td>\n",
       "      <td>None</td>\n",
       "      <td>None</td>\n",
       "      <td>None</td>\n",
       "      <td>None</td>\n",
       "      <td>None</td>\n",
       "      <td>None</td>\n",
       "    </tr>\n",
       "    <tr>\n",
       "      <td>3</td>\n",
       "      <td>0701</td>\n",
       "      <td>0704</td>\n",
       "      <td>0707</td>\n",
       "      <td>0709</td>\n",
       "      <td>0710</td>\n",
       "      <td>0712</td>\n",
       "      <td>None</td>\n",
       "      <td>None</td>\n",
       "      <td>None</td>\n",
       "    </tr>\n",
       "    <tr>\n",
       "      <td>4</td>\n",
       "      <td>0704</td>\n",
       "      <td>0707</td>\n",
       "      <td>0710</td>\n",
       "      <td>None</td>\n",
       "      <td>None</td>\n",
       "      <td>None</td>\n",
       "      <td>None</td>\n",
       "      <td>None</td>\n",
       "      <td>None</td>\n",
       "    </tr>\n",
       "  </tbody>\n",
       "</table>\n",
       "</div>"
      ],
      "text/plain": [
       "      0     1     2     3     4     5     6     7     8\n",
       "0  0609  None  None  None  None  None  None  None  None\n",
       "1  0103  0609  None  None  None  None  None  None  None\n",
       "2  0305  None  None  None  None  None  None  None  None\n",
       "3  0701  0704  0707  0709  0710  0712  None  None  None\n",
       "4  0704  0707  0710  None  None  None  None  None  None"
      ]
     },
     "execution_count": 135,
     "metadata": {},
     "output_type": "execute_result"
    }
   ],
   "source": [
    "#В данном датафрейме также есть улицы, которые пересекают несколько районов. Выделим коды в отдельные\n",
    "#ячейки и конкатенируем их в один столбец\n",
    "codes_2 = only_one['kod'].str.split(';', expand = True)\n",
    "codes_2.head(5)"
   ]
  },
  {
   "cell_type": "code",
   "execution_count": 136,
   "metadata": {},
   "outputs": [
    {
     "data": {
      "text/plain": [
       "(741, 1)"
      ]
     },
     "execution_count": 136,
     "metadata": {},
     "output_type": "execute_result"
    }
   ],
   "source": [
    "#Сделаем конкатенацию\n",
    "codes_2 = pd.concat([codes_2[0], codes_2[1], \n",
    "                     codes_2[2], codes_2[3], codes_2[4], codes_2[5], codes_2[6], codes_2[7], \n",
    "                     codes_2[8]])\n",
    "codes_2 = codes_2.dropna()\n",
    "codes_2 = codes_2.to_frame(name='code')\n",
    "codes_2['code'] = codes_2['code'].astype('int')\n",
    "\n",
    "\n",
    "codes_2.shape"
   ]
  },
  {
   "cell_type": "code",
   "execution_count": 137,
   "metadata": {},
   "outputs": [
    {
     "data": {
      "text/html": [
       "<div>\n",
       "<style scoped>\n",
       "    .dataframe tbody tr th:only-of-type {\n",
       "        vertical-align: middle;\n",
       "    }\n",
       "\n",
       "    .dataframe tbody tr th {\n",
       "        vertical-align: top;\n",
       "    }\n",
       "\n",
       "    .dataframe thead th {\n",
       "        text-align: right;\n",
       "    }\n",
       "</style>\n",
       "<table border=\"1\" class=\"dataframe\">\n",
       "  <thead>\n",
       "    <tr style=\"text-align: right;\">\n",
       "      <th></th>\n",
       "      <th>index</th>\n",
       "      <th>code</th>\n",
       "      <th>street</th>\n",
       "      <th>count</th>\n",
       "      <th>global_id</th>\n",
       "      <th>kod</th>\n",
       "    </tr>\n",
       "  </thead>\n",
       "  <tbody>\n",
       "    <tr>\n",
       "      <td>0</td>\n",
       "      <td>0</td>\n",
       "      <td>609</td>\n",
       "      <td>дербеневская улица</td>\n",
       "      <td>1</td>\n",
       "      <td>58485825</td>\n",
       "      <td>0609</td>\n",
       "    </tr>\n",
       "    <tr>\n",
       "      <td>1</td>\n",
       "      <td>1</td>\n",
       "      <td>103</td>\n",
       "      <td>большая серпуховская улица</td>\n",
       "      <td>1</td>\n",
       "      <td>58482770</td>\n",
       "      <td>0103;0609</td>\n",
       "    </tr>\n",
       "    <tr>\n",
       "      <td>2</td>\n",
       "      <td>1</td>\n",
       "      <td>609</td>\n",
       "      <td>большая серпуховская улица</td>\n",
       "      <td>1</td>\n",
       "      <td>58482770</td>\n",
       "      <td>0103;0609</td>\n",
       "    </tr>\n",
       "    <tr>\n",
       "      <td>3</td>\n",
       "      <td>2</td>\n",
       "      <td>305</td>\n",
       "      <td>проезд добролюбова</td>\n",
       "      <td>1</td>\n",
       "      <td>58485858</td>\n",
       "      <td>0305</td>\n",
       "    </tr>\n",
       "    <tr>\n",
       "      <td>4</td>\n",
       "      <td>3</td>\n",
       "      <td>701</td>\n",
       "      <td>профсоюзная улица</td>\n",
       "      <td>1</td>\n",
       "      <td>58482469</td>\n",
       "      <td>0701;0704;0707;0709;0710;0712</td>\n",
       "    </tr>\n",
       "    <tr>\n",
       "      <td>5</td>\n",
       "      <td>3</td>\n",
       "      <td>704</td>\n",
       "      <td>профсоюзная улица</td>\n",
       "      <td>1</td>\n",
       "      <td>58482469</td>\n",
       "      <td>0701;0704;0707;0709;0710;0712</td>\n",
       "    </tr>\n",
       "    <tr>\n",
       "      <td>6</td>\n",
       "      <td>3</td>\n",
       "      <td>707</td>\n",
       "      <td>профсоюзная улица</td>\n",
       "      <td>1</td>\n",
       "      <td>58482469</td>\n",
       "      <td>0701;0704;0707;0709;0710;0712</td>\n",
       "    </tr>\n",
       "    <tr>\n",
       "      <td>7</td>\n",
       "      <td>3</td>\n",
       "      <td>709</td>\n",
       "      <td>профсоюзная улица</td>\n",
       "      <td>1</td>\n",
       "      <td>58482469</td>\n",
       "      <td>0701;0704;0707;0709;0710;0712</td>\n",
       "    </tr>\n",
       "    <tr>\n",
       "      <td>8</td>\n",
       "      <td>3</td>\n",
       "      <td>710</td>\n",
       "      <td>профсоюзная улица</td>\n",
       "      <td>1</td>\n",
       "      <td>58482469</td>\n",
       "      <td>0701;0704;0707;0709;0710;0712</td>\n",
       "    </tr>\n",
       "    <tr>\n",
       "      <td>9</td>\n",
       "      <td>3</td>\n",
       "      <td>712</td>\n",
       "      <td>профсоюзная улица</td>\n",
       "      <td>1</td>\n",
       "      <td>58482469</td>\n",
       "      <td>0701;0704;0707;0709;0710;0712</td>\n",
       "    </tr>\n",
       "    <tr>\n",
       "      <td>10</td>\n",
       "      <td>4</td>\n",
       "      <td>704</td>\n",
       "      <td>улица обручева</td>\n",
       "      <td>1</td>\n",
       "      <td>58482079</td>\n",
       "      <td>0704;0707;0710</td>\n",
       "    </tr>\n",
       "    <tr>\n",
       "      <td>11</td>\n",
       "      <td>4</td>\n",
       "      <td>707</td>\n",
       "      <td>улица обручева</td>\n",
       "      <td>1</td>\n",
       "      <td>58482079</td>\n",
       "      <td>0704;0707;0710</td>\n",
       "    </tr>\n",
       "    <tr>\n",
       "      <td>12</td>\n",
       "      <td>4</td>\n",
       "      <td>710</td>\n",
       "      <td>улица обручева</td>\n",
       "      <td>1</td>\n",
       "      <td>58482079</td>\n",
       "      <td>0704;0707;0710</td>\n",
       "    </tr>\n",
       "    <tr>\n",
       "      <td>13</td>\n",
       "      <td>5</td>\n",
       "      <td>102</td>\n",
       "      <td>улица новая дорога</td>\n",
       "      <td>1</td>\n",
       "      <td>58481963</td>\n",
       "      <td>0102</td>\n",
       "    </tr>\n",
       "    <tr>\n",
       "      <td>14</td>\n",
       "      <td>6</td>\n",
       "      <td>106</td>\n",
       "      <td>улица сергея макеева</td>\n",
       "      <td>1</td>\n",
       "      <td>58481654</td>\n",
       "      <td>0106</td>\n",
       "    </tr>\n",
       "  </tbody>\n",
       "</table>\n",
       "</div>"
      ],
      "text/plain": [
       "    index  code                      street  count global_id  \\\n",
       "0       0   609          дербеневская улица      1  58485825   \n",
       "1       1   103  большая серпуховская улица      1  58482770   \n",
       "2       1   609  большая серпуховская улица      1  58482770   \n",
       "3       2   305          проезд добролюбова      1  58485858   \n",
       "4       3   701           профсоюзная улица      1  58482469   \n",
       "5       3   704           профсоюзная улица      1  58482469   \n",
       "6       3   707           профсоюзная улица      1  58482469   \n",
       "7       3   709           профсоюзная улица      1  58482469   \n",
       "8       3   710           профсоюзная улица      1  58482469   \n",
       "9       3   712           профсоюзная улица      1  58482469   \n",
       "10      4   704              улица обручева      1  58482079   \n",
       "11      4   707              улица обручева      1  58482079   \n",
       "12      4   710              улица обручева      1  58482079   \n",
       "13      5   102          улица новая дорога      1  58481963   \n",
       "14      6   106        улица сергея макеева      1  58481654   \n",
       "\n",
       "                              kod  \n",
       "0                            0609  \n",
       "1                       0103;0609  \n",
       "2                       0103;0609  \n",
       "3                            0305  \n",
       "4   0701;0704;0707;0709;0710;0712  \n",
       "5   0701;0704;0707;0709;0710;0712  \n",
       "6   0701;0704;0707;0709;0710;0712  \n",
       "7   0701;0704;0707;0709;0710;0712  \n",
       "8   0701;0704;0707;0709;0710;0712  \n",
       "9   0701;0704;0707;0709;0710;0712  \n",
       "10                 0704;0707;0710  \n",
       "11                 0704;0707;0710  \n",
       "12                 0704;0707;0710  \n",
       "13                           0102  \n",
       "14                           0106  "
      ]
     },
     "execution_count": 137,
     "metadata": {},
     "output_type": "execute_result"
    }
   ],
   "source": [
    "#Объединим таблицы codes и only_one по индексу и сохраним индекс как новый столбец: одинаковый индекс\n",
    "#означает, что улица проходит через несколько районов. Но бывает и так, что улица с одним названием \n",
    "#есть в нескольких районах. В этом случае индекс этой улицы будет другой.\n",
    "only_one = codes_2.join(only_one).reset_index()\n",
    "only_one.head(15)"
   ]
  },
  {
   "cell_type": "code",
   "execution_count": 138,
   "metadata": {},
   "outputs": [
    {
     "data": {
      "text/plain": [
       "129"
      ]
     },
     "execution_count": 138,
     "metadata": {},
     "output_type": "execute_result"
    }
   ],
   "source": [
    "# Найдем общее количество районов, которые пересекают улицы с одним заведением\n",
    "only_one['code'].nunique()"
   ]
  },
  {
   "cell_type": "code",
   "execution_count": 139,
   "metadata": {},
   "outputs": [
    {
     "data": {
      "text/plain": [
       "158"
      ]
     },
     "execution_count": 139,
     "metadata": {},
     "output_type": "execute_result"
    }
   ],
   "source": [
    "#Вспомним общее количество районов Москвы\n",
    "moscow_districts['kod'].nunique()"
   ]
  },
  {
   "cell_type": "code",
   "execution_count": 140,
   "metadata": {},
   "outputs": [
    {
     "name": "stdout",
     "output_type": "stream",
     "text": [
      "<class 'pandas.core.frame.DataFrame'>\n",
      "Int64Index: 741 entries, 0 to 740\n",
      "Data columns (total 6 columns):\n",
      "index        741 non-null int64\n",
      "code         741 non-null int64\n",
      "street       741 non-null object\n",
      "count        741 non-null int64\n",
      "global_id    741 non-null object\n",
      "name         741 non-null object\n",
      "dtypes: int64(3), object(3)\n",
      "memory usage: 40.5+ KB\n"
     ]
    }
   ],
   "source": [
    "#Объединим таблицу с районами и таблицу с нашими улицами, где только 1 заведение и удалим лишнюю \n",
    "#информацию из таблицы\n",
    "only_one = only_one.merge(moscow_districts, left_on='code', right_on='kod')\n",
    "only_one = only_one.drop(['kod_x', 'kod_y'], axis = 1)\n",
    "only_one.info()"
   ]
  },
  {
   "cell_type": "markdown",
   "metadata": {},
   "source": [
    "То есть у нас всего 741 улица с одним заведением"
   ]
  },
  {
   "cell_type": "code",
   "execution_count": 141,
   "metadata": {},
   "outputs": [
    {
     "data": {
      "text/html": [
       "<div>\n",
       "<style scoped>\n",
       "    .dataframe tbody tr th:only-of-type {\n",
       "        vertical-align: middle;\n",
       "    }\n",
       "\n",
       "    .dataframe tbody tr th {\n",
       "        vertical-align: top;\n",
       "    }\n",
       "\n",
       "    .dataframe thead th {\n",
       "        text-align: right;\n",
       "    }\n",
       "</style>\n",
       "<table border=\"1\" class=\"dataframe\">\n",
       "  <thead>\n",
       "    <tr style=\"text-align: right;\">\n",
       "      <th></th>\n",
       "      <th>index</th>\n",
       "      <th>code</th>\n",
       "      <th>street</th>\n",
       "      <th>count</th>\n",
       "      <th>global_id</th>\n",
       "      <th>name</th>\n",
       "    </tr>\n",
       "  </thead>\n",
       "  <tbody>\n",
       "    <tr>\n",
       "      <td>0</td>\n",
       "      <td>0</td>\n",
       "      <td>609</td>\n",
       "      <td>дербеневская улица</td>\n",
       "      <td>1</td>\n",
       "      <td>58485825</td>\n",
       "      <td>даниловский район</td>\n",
       "    </tr>\n",
       "    <tr>\n",
       "      <td>1</td>\n",
       "      <td>1</td>\n",
       "      <td>609</td>\n",
       "      <td>большая серпуховская улица</td>\n",
       "      <td>1</td>\n",
       "      <td>58482770</td>\n",
       "      <td>даниловский район</td>\n",
       "    </tr>\n",
       "    <tr>\n",
       "      <td>2</td>\n",
       "      <td>9</td>\n",
       "      <td>609</td>\n",
       "      <td>улица павла андреева</td>\n",
       "      <td>1</td>\n",
       "      <td>58485218</td>\n",
       "      <td>даниловский район</td>\n",
       "    </tr>\n",
       "    <tr>\n",
       "      <td>3</td>\n",
       "      <td>76</td>\n",
       "      <td>609</td>\n",
       "      <td>хавская улица</td>\n",
       "      <td>1</td>\n",
       "      <td>58483280</td>\n",
       "      <td>даниловский район</td>\n",
       "    </tr>\n",
       "    <tr>\n",
       "      <td>4</td>\n",
       "      <td>152</td>\n",
       "      <td>609</td>\n",
       "      <td>улица сайкина</td>\n",
       "      <td>1</td>\n",
       "      <td>58482678</td>\n",
       "      <td>даниловский район</td>\n",
       "    </tr>\n",
       "  </tbody>\n",
       "</table>\n",
       "</div>"
      ],
      "text/plain": [
       "   index  code                      street  count global_id               name\n",
       "0      0   609          дербеневская улица      1  58485825  даниловский район\n",
       "1      1   609  большая серпуховская улица      1  58482770  даниловский район\n",
       "2      9   609        улица павла андреева      1  58485218  даниловский район\n",
       "3     76   609               хавская улица      1  58483280  даниловский район\n",
       "4    152   609               улица сайкина      1  58482678  даниловский район"
      ]
     },
     "execution_count": 141,
     "metadata": {},
     "output_type": "execute_result"
    }
   ],
   "source": [
    "only_one.head()"
   ]
  },
  {
   "cell_type": "code",
   "execution_count": 142,
   "metadata": {},
   "outputs": [
    {
     "data": {
      "text/plain": [
       "5236"
      ]
     },
     "execution_count": 142,
     "metadata": {},
     "output_type": "execute_result"
    }
   ],
   "source": [
    "# Напомним, сколько всего улиц в Москве\n",
    "moscow_streets['global_id'].nunique()"
   ]
  },
  {
   "cell_type": "code",
   "execution_count": 143,
   "metadata": {},
   "outputs": [
    {
     "data": {
      "text/html": [
       "<div>\n",
       "<style scoped>\n",
       "    .dataframe tbody tr th:only-of-type {\n",
       "        vertical-align: middle;\n",
       "    }\n",
       "\n",
       "    .dataframe tbody tr th {\n",
       "        vertical-align: top;\n",
       "    }\n",
       "\n",
       "    .dataframe thead th {\n",
       "        text-align: right;\n",
       "    }\n",
       "</style>\n",
       "<table border=\"1\" class=\"dataframe\">\n",
       "  <thead>\n",
       "    <tr style=\"text-align: right;\">\n",
       "      <th></th>\n",
       "      <th></th>\n",
       "      <th>districts</th>\n",
       "      <th>unique</th>\n",
       "    </tr>\n",
       "    <tr>\n",
       "      <th>index</th>\n",
       "      <th>street</th>\n",
       "      <th></th>\n",
       "      <th></th>\n",
       "    </tr>\n",
       "  </thead>\n",
       "  <tbody>\n",
       "    <tr>\n",
       "      <td>12</td>\n",
       "      <td>варшавское шоссе</td>\n",
       "      <td>9</td>\n",
       "      <td>[район чертаново северное, район чертаново центральное, район чертаново южное, донской район, район нагатино-садовники, нагорный район, район северное бутово, район южное бутово, поселение щербинка]</td>\n",
       "    </tr>\n",
       "    <tr>\n",
       "      <td>68</td>\n",
       "      <td>ленинский проспект</td>\n",
       "      <td>8</td>\n",
       "      <td>[обручевский район, район тёплый стан, донской район, район якиманка, гагаринский район, ломоносовский район, район проспект вернадского, район тропарёво-никулино]</td>\n",
       "    </tr>\n",
       "    <tr>\n",
       "      <td>3</td>\n",
       "      <td>профсоюзная улица</td>\n",
       "      <td>6</td>\n",
       "      <td>[академический район, район коньково, обручевский район, район тёплый стан, район черёмушки, район ясенево]</td>\n",
       "    </tr>\n",
       "    <tr>\n",
       "      <td>71</td>\n",
       "      <td>алтуфьевское шоссе</td>\n",
       "      <td>4</td>\n",
       "      <td>[район лианозово, алтуфьевский район, район бибирево, район отрадное]</td>\n",
       "    </tr>\n",
       "    <tr>\n",
       "      <td>625</td>\n",
       "      <td>нарвская улица</td>\n",
       "      <td>3</td>\n",
       "      <td>[район коптево, войковский район, головинский район]</td>\n",
       "    </tr>\n",
       "    <tr>\n",
       "      <td>294</td>\n",
       "      <td>11-я парковая улица</td>\n",
       "      <td>3</td>\n",
       "      <td>[район северное измайлово, район измайлово, район восточное измайлово]</td>\n",
       "    </tr>\n",
       "    <tr>\n",
       "      <td>11</td>\n",
       "      <td>чертановская улица</td>\n",
       "      <td>3</td>\n",
       "      <td>[район чертаново северное, район чертаново центральное, район чертаново южное]</td>\n",
       "    </tr>\n",
       "    <tr>\n",
       "      <td>479</td>\n",
       "      <td>улица достоевского</td>\n",
       "      <td>3</td>\n",
       "      <td>[тверской район, мещанский район, район марьина роща]</td>\n",
       "    </tr>\n",
       "    <tr>\n",
       "      <td>64</td>\n",
       "      <td>коровинское шоссе</td>\n",
       "      <td>3</td>\n",
       "      <td>[бескудниковский район, дмитровский район, район западное дегунино]</td>\n",
       "    </tr>\n",
       "    <tr>\n",
       "      <td>4</td>\n",
       "      <td>улица обручева</td>\n",
       "      <td>3</td>\n",
       "      <td>[район коньково, обручевский район, район черёмушки]</td>\n",
       "    </tr>\n",
       "    <tr>\n",
       "      <td>58</td>\n",
       "      <td>улица знаменка</td>\n",
       "      <td>3</td>\n",
       "      <td>[тверской район, район арбат, район хамовники]</td>\n",
       "    </tr>\n",
       "    <tr>\n",
       "      <td>76</td>\n",
       "      <td>хавская улица</td>\n",
       "      <td>3</td>\n",
       "      <td>[даниловский район, донской район, район якиманка]</td>\n",
       "    </tr>\n",
       "    <tr>\n",
       "      <td>587</td>\n",
       "      <td>перовский проезд</td>\n",
       "      <td>2</td>\n",
       "      <td>[район лефортово, нижегородский район]</td>\n",
       "    </tr>\n",
       "    <tr>\n",
       "      <td>597</td>\n",
       "      <td>площадь журавлёва</td>\n",
       "      <td>2</td>\n",
       "      <td>[район преображенское, район соколиная гора]</td>\n",
       "    </tr>\n",
       "    <tr>\n",
       "      <td>90</td>\n",
       "      <td>улица советской армии</td>\n",
       "      <td>2</td>\n",
       "      <td>[мещанский район, район марьина роща]</td>\n",
       "    </tr>\n",
       "  </tbody>\n",
       "</table>\n",
       "</div>"
      ],
      "text/plain": [
       "                             districts  \\\n",
       "index street                             \n",
       "12    варшавское шоссе               9   \n",
       "68    ленинский проспект             8   \n",
       "3     профсоюзная улица              6   \n",
       "71    алтуфьевское шоссе             4   \n",
       "625   нарвская улица                 3   \n",
       "294   11-я парковая улица            3   \n",
       "11    чертановская улица             3   \n",
       "479   улица достоевского             3   \n",
       "64    коровинское шоссе              3   \n",
       "4     улица обручева                 3   \n",
       "58    улица знаменка                 3   \n",
       "76    хавская улица                  3   \n",
       "587   перовский проезд               2   \n",
       "597   площадь журавлёва              2   \n",
       "90    улица советской армии          2   \n",
       "\n",
       "                                                                                                                                                                                                                             unique  \n",
       "index street                                                                                                                                                                                                                         \n",
       "12    варшавское шоссе       [район чертаново северное, район чертаново центральное, район чертаново южное, донской район, район нагатино-садовники, нагорный район, район северное бутово, район южное бутово, поселение щербинка]  \n",
       "68    ленинский проспект                                        [обручевский район, район тёплый стан, донской район, район якиманка, гагаринский район, ломоносовский район, район проспект вернадского, район тропарёво-никулино]  \n",
       "3     профсоюзная улица                                                                                                 [академический район, район коньково, обручевский район, район тёплый стан, район черёмушки, район ясенево]  \n",
       "71    алтуфьевское шоссе                                                                                                                                      [район лианозово, алтуфьевский район, район бибирево, район отрадное]  \n",
       "625   нарвская улица                                                                                                                                                           [район коптево, войковский район, головинский район]  \n",
       "294   11-я парковая улица                                                                                                                                    [район северное измайлово, район измайлово, район восточное измайлово]  \n",
       "11    чертановская улица                                                                                                                             [район чертаново северное, район чертаново центральное, район чертаново южное]  \n",
       "479   улица достоевского                                                                                                                                                      [тверской район, мещанский район, район марьина роща]  \n",
       "64    коровинское шоссе                                                                                                                                         [бескудниковский район, дмитровский район, район западное дегунино]  \n",
       "4     улица обручева                                                                                                                                                           [район коньково, обручевский район, район черёмушки]  \n",
       "58    улица знаменка                                                                                                                                                                 [тверской район, район арбат, район хамовники]  \n",
       "76    хавская улица                                                                                                                                                              [даниловский район, донской район, район якиманка]  \n",
       "587   перовский проезд                                                                                                                                                                       [район лефортово, нижегородский район]  \n",
       "597   площадь журавлёва                                                                                                                                                                [район преображенское, район соколиная гора]  \n",
       "90    улица советской армии                                                                                                                                                                   [мещанский район, район марьина роща]  "
      ]
     },
     "execution_count": 143,
     "metadata": {},
     "output_type": "execute_result"
    }
   ],
   "source": [
    "#Сгруппируем таблицу для ясности картины по индексу\n",
    "pd.set_option('display.max_colwidth', 200)\n",
    "one_cafe = only_one.pivot_table(index=['index', 'street'], values = 'name', aggfunc=(\n",
    "    'count', 'unique'))\n",
    "one_cafe.columns = ['districts', 'unique' ]\n",
    "one_cafe.sort_values(by='districts', ascending=False).head(15)"
   ]
  },
  {
   "cell_type": "markdown",
   "metadata": {},
   "source": [
    "Мы видим, что в наш список попали улицы, которые входят в наш топ10 улиц. По-Видимому, где есть разница в написании названия улицы или пробел, который мы не учли. Посмотрим на датафрейм, из которого мы получали данные для таблицы one_cafe:"
   ]
  },
  {
   "cell_type": "code",
   "execution_count": 144,
   "metadata": {},
   "outputs": [
    {
     "data": {
      "text/html": [
       "<div>\n",
       "<style scoped>\n",
       "    .dataframe tbody tr th:only-of-type {\n",
       "        vertical-align: middle;\n",
       "    }\n",
       "\n",
       "    .dataframe tbody tr th {\n",
       "        vertical-align: top;\n",
       "    }\n",
       "\n",
       "    .dataframe thead th {\n",
       "        text-align: right;\n",
       "    }\n",
       "</style>\n",
       "<table border=\"1\" class=\"dataframe\">\n",
       "  <thead>\n",
       "    <tr style=\"text-align: right;\">\n",
       "      <th></th>\n",
       "      <th>street</th>\n",
       "      <th>count</th>\n",
       "    </tr>\n",
       "  </thead>\n",
       "  <tbody>\n",
       "    <tr>\n",
       "      <td>416</td>\n",
       "      <td>варшавское шоссе</td>\n",
       "      <td>159</td>\n",
       "    </tr>\n",
       "    <tr>\n",
       "      <td>1857</td>\n",
       "      <td>варшавское шоссе</td>\n",
       "      <td>1</td>\n",
       "    </tr>\n",
       "  </tbody>\n",
       "</table>\n",
       "</div>"
      ],
      "text/plain": [
       "                street  count\n",
       "416   варшавское шоссе    159\n",
       "1857  варшавское шоссе      1"
      ]
     },
     "execution_count": 144,
     "metadata": {},
     "output_type": "execute_result"
    }
   ],
   "source": [
    "cafe_total.query('street==\"варшавское шоссе\"')"
   ]
  },
  {
   "cell_type": "code",
   "execution_count": 145,
   "metadata": {},
   "outputs": [
    {
     "data": {
      "text/html": [
       "<div>\n",
       "<style scoped>\n",
       "    .dataframe tbody tr th:only-of-type {\n",
       "        vertical-align: middle;\n",
       "    }\n",
       "\n",
       "    .dataframe tbody tr th {\n",
       "        vertical-align: top;\n",
       "    }\n",
       "\n",
       "    .dataframe thead th {\n",
       "        text-align: right;\n",
       "    }\n",
       "</style>\n",
       "<table border=\"1\" class=\"dataframe\">\n",
       "  <thead>\n",
       "    <tr style=\"text-align: right;\">\n",
       "      <th></th>\n",
       "      <th>street</th>\n",
       "      <th>count</th>\n",
       "    </tr>\n",
       "  </thead>\n",
       "  <tbody>\n",
       "    <tr>\n",
       "      <td>701</td>\n",
       "      <td>ленинский проспект</td>\n",
       "      <td>147</td>\n",
       "    </tr>\n",
       "    <tr>\n",
       "      <td>1868</td>\n",
       "      <td>ленинский проспект</td>\n",
       "      <td>1</td>\n",
       "    </tr>\n",
       "  </tbody>\n",
       "</table>\n",
       "</div>"
      ],
      "text/plain": [
       "                  street  count\n",
       "701   ленинский проспект    147\n",
       "1868  ленинский проспект      1"
      ]
     },
     "execution_count": 145,
     "metadata": {},
     "output_type": "execute_result"
    }
   ],
   "source": [
    "cafe_total.query('street==\"ленинский проспект\"')"
   ]
  },
  {
   "cell_type": "code",
   "execution_count": 146,
   "metadata": {},
   "outputs": [
    {
     "data": {
      "text/html": [
       "<div>\n",
       "<style scoped>\n",
       "    .dataframe tbody tr th:only-of-type {\n",
       "        vertical-align: middle;\n",
       "    }\n",
       "\n",
       "    .dataframe tbody tr th {\n",
       "        vertical-align: top;\n",
       "    }\n",
       "\n",
       "    .dataframe thead th {\n",
       "        text-align: right;\n",
       "    }\n",
       "</style>\n",
       "<table border=\"1\" class=\"dataframe\">\n",
       "  <thead>\n",
       "    <tr style=\"text-align: right;\">\n",
       "      <th></th>\n",
       "      <th>street</th>\n",
       "      <th>count</th>\n",
       "    </tr>\n",
       "  </thead>\n",
       "  <tbody>\n",
       "    <tr>\n",
       "      <td>1076</td>\n",
       "      <td>профсоюзная улица</td>\n",
       "      <td>180</td>\n",
       "    </tr>\n",
       "    <tr>\n",
       "      <td>1884</td>\n",
       "      <td>профсоюзная улица</td>\n",
       "      <td>1</td>\n",
       "    </tr>\n",
       "  </tbody>\n",
       "</table>\n",
       "</div>"
      ],
      "text/plain": [
       "                 street  count\n",
       "1076  профсоюзная улица    180\n",
       "1884  профсоюзная улица      1"
      ]
     },
     "execution_count": 146,
     "metadata": {},
     "output_type": "execute_result"
    }
   ],
   "source": [
    "cafe_total.query('street==\"профсоюзная улица\"')"
   ]
  },
  {
   "cell_type": "code",
   "execution_count": 147,
   "metadata": {
    "scrolled": true
   },
   "outputs": [
    {
     "data": {
      "text/html": [
       "<div>\n",
       "<style scoped>\n",
       "    .dataframe tbody tr th:only-of-type {\n",
       "        vertical-align: middle;\n",
       "    }\n",
       "\n",
       "    .dataframe tbody tr th {\n",
       "        vertical-align: top;\n",
       "    }\n",
       "\n",
       "    .dataframe thead th {\n",
       "        text-align: right;\n",
       "    }\n",
       "</style>\n",
       "<table border=\"1\" class=\"dataframe\">\n",
       "  <thead>\n",
       "    <tr style=\"text-align: right;\">\n",
       "      <th></th>\n",
       "      <th></th>\n",
       "      <th>districts</th>\n",
       "      <th>unique</th>\n",
       "    </tr>\n",
       "    <tr>\n",
       "      <th>index</th>\n",
       "      <th>street</th>\n",
       "      <th></th>\n",
       "      <th></th>\n",
       "    </tr>\n",
       "  </thead>\n",
       "  <tbody>\n",
       "    <tr>\n",
       "      <td>71</td>\n",
       "      <td>алтуфьевское шоссе</td>\n",
       "      <td>4</td>\n",
       "      <td>[район лианозово, алтуфьевский район, район бибирево, район отрадное]</td>\n",
       "    </tr>\n",
       "    <tr>\n",
       "      <td>58</td>\n",
       "      <td>улица знаменка</td>\n",
       "      <td>3</td>\n",
       "      <td>[тверской район, район арбат, район хамовники]</td>\n",
       "    </tr>\n",
       "    <tr>\n",
       "      <td>11</td>\n",
       "      <td>чертановская улица</td>\n",
       "      <td>3</td>\n",
       "      <td>[район чертаново северное, район чертаново центральное, район чертаново южное]</td>\n",
       "    </tr>\n",
       "    <tr>\n",
       "      <td>64</td>\n",
       "      <td>коровинское шоссе</td>\n",
       "      <td>3</td>\n",
       "      <td>[бескудниковский район, дмитровский район, район западное дегунино]</td>\n",
       "    </tr>\n",
       "    <tr>\n",
       "      <td>479</td>\n",
       "      <td>улица достоевского</td>\n",
       "      <td>3</td>\n",
       "      <td>[тверской район, мещанский район, район марьина роща]</td>\n",
       "    </tr>\n",
       "    <tr>\n",
       "      <td>294</td>\n",
       "      <td>11-я парковая улица</td>\n",
       "      <td>3</td>\n",
       "      <td>[район северное измайлово, район измайлово, район восточное измайлово]</td>\n",
       "    </tr>\n",
       "    <tr>\n",
       "      <td>76</td>\n",
       "      <td>хавская улица</td>\n",
       "      <td>3</td>\n",
       "      <td>[даниловский район, донской район, район якиманка]</td>\n",
       "    </tr>\n",
       "    <tr>\n",
       "      <td>625</td>\n",
       "      <td>нарвская улица</td>\n",
       "      <td>3</td>\n",
       "      <td>[район коптево, войковский район, головинский район]</td>\n",
       "    </tr>\n",
       "    <tr>\n",
       "      <td>4</td>\n",
       "      <td>улица обручева</td>\n",
       "      <td>3</td>\n",
       "      <td>[район коньково, обручевский район, район черёмушки]</td>\n",
       "    </tr>\n",
       "    <tr>\n",
       "      <td>561</td>\n",
       "      <td>кузьминская улица</td>\n",
       "      <td>2</td>\n",
       "      <td>[район выхино-жулебино, район кузьминки]</td>\n",
       "    </tr>\n",
       "  </tbody>\n",
       "</table>\n",
       "</div>"
      ],
      "text/plain": [
       "                           districts  \\\n",
       "index street                           \n",
       "71    алтуфьевское шоссе           4   \n",
       "58    улица знаменка               3   \n",
       "11    чертановская улица           3   \n",
       "64    коровинское шоссе            3   \n",
       "479   улица достоевского           3   \n",
       "294   11-я парковая улица          3   \n",
       "76    хавская улица                3   \n",
       "625   нарвская улица               3   \n",
       "4     улица обручева               3   \n",
       "561   кузьминская улица            2   \n",
       "\n",
       "                                                                                                   unique  \n",
       "index street                                                                                               \n",
       "71    алтуфьевское шоссе            [район лианозово, алтуфьевский район, район бибирево, район отрадное]  \n",
       "58    улица знаменка                                       [тверской район, район арбат, район хамовники]  \n",
       "11    чертановская улица   [район чертаново северное, район чертаново центральное, район чертаново южное]  \n",
       "64    коровинское шоссе               [бескудниковский район, дмитровский район, район западное дегунино]  \n",
       "479   улица достоевского                            [тверской район, мещанский район, район марьина роща]  \n",
       "294   11-я парковая улица          [район северное измайлово, район измайлово, район восточное измайлово]  \n",
       "76    хавская улица                                    [даниловский район, донской район, район якиманка]  \n",
       "625   нарвская улица                                 [район коптево, войковский район, головинский район]  \n",
       "4     улица обручева                                 [район коньково, обручевский район, район черёмушки]  \n",
       "561   кузьминская улица                                          [район выхино-жулебино, район кузьминки]  "
      ]
     },
     "execution_count": 147,
     "metadata": {},
     "output_type": "execute_result"
    }
   ],
   "source": [
    "#Удалим эти три строчки в дата фрейме one_cafe, принимая их за погрешность\n",
    "one_cafe = one_cafe.query('street!=(\"варшавское шоссе\", \"ленинский проспект\", \"профсоюзная улица\")')\n",
    "one_cafe.sort_values(by='districts', ascending=False).head(10)"
   ]
  },
  {
   "cell_type": "markdown",
   "metadata": {},
   "source": [
    "Найдем топ 10 районов, где больше всего улиц с одним заведением"
   ]
  },
  {
   "cell_type": "code",
   "execution_count": 148,
   "metadata": {},
   "outputs": [
    {
     "data": {
      "text/html": [
       "<div>\n",
       "<style scoped>\n",
       "    .dataframe tbody tr th:only-of-type {\n",
       "        vertical-align: middle;\n",
       "    }\n",
       "\n",
       "    .dataframe tbody tr th {\n",
       "        vertical-align: top;\n",
       "    }\n",
       "\n",
       "    .dataframe thead th {\n",
       "        text-align: right;\n",
       "    }\n",
       "</style>\n",
       "<table border=\"1\" class=\"dataframe\">\n",
       "  <thead>\n",
       "    <tr style=\"text-align: right;\">\n",
       "      <th></th>\n",
       "      <th>index</th>\n",
       "      <th>code</th>\n",
       "      <th>street</th>\n",
       "      <th>count</th>\n",
       "      <th>global_id</th>\n",
       "      <th>name</th>\n",
       "    </tr>\n",
       "  </thead>\n",
       "  <tbody>\n",
       "    <tr>\n",
       "      <td>0</td>\n",
       "      <td>0</td>\n",
       "      <td>609</td>\n",
       "      <td>дербеневская улица</td>\n",
       "      <td>1</td>\n",
       "      <td>58485825</td>\n",
       "      <td>даниловский район</td>\n",
       "    </tr>\n",
       "    <tr>\n",
       "      <td>1</td>\n",
       "      <td>1</td>\n",
       "      <td>609</td>\n",
       "      <td>большая серпуховская улица</td>\n",
       "      <td>1</td>\n",
       "      <td>58482770</td>\n",
       "      <td>даниловский район</td>\n",
       "    </tr>\n",
       "    <tr>\n",
       "      <td>2</td>\n",
       "      <td>9</td>\n",
       "      <td>609</td>\n",
       "      <td>улица павла андреева</td>\n",
       "      <td>1</td>\n",
       "      <td>58485218</td>\n",
       "      <td>даниловский район</td>\n",
       "    </tr>\n",
       "    <tr>\n",
       "      <td>3</td>\n",
       "      <td>76</td>\n",
       "      <td>609</td>\n",
       "      <td>хавская улица</td>\n",
       "      <td>1</td>\n",
       "      <td>58483280</td>\n",
       "      <td>даниловский район</td>\n",
       "    </tr>\n",
       "    <tr>\n",
       "      <td>4</td>\n",
       "      <td>152</td>\n",
       "      <td>609</td>\n",
       "      <td>улица сайкина</td>\n",
       "      <td>1</td>\n",
       "      <td>58482678</td>\n",
       "      <td>даниловский район</td>\n",
       "    </tr>\n",
       "  </tbody>\n",
       "</table>\n",
       "</div>"
      ],
      "text/plain": [
       "   index  code                      street  count global_id               name\n",
       "0      0   609          дербеневская улица      1  58485825  даниловский район\n",
       "1      1   609  большая серпуховская улица      1  58482770  даниловский район\n",
       "2      9   609        улица павла андреева      1  58485218  даниловский район\n",
       "3     76   609               хавская улица      1  58483280  даниловский район\n",
       "4    152   609               улица сайкина      1  58482678  даниловский район"
      ]
     },
     "execution_count": 148,
     "metadata": {},
     "output_type": "execute_result"
    }
   ],
   "source": [
    "only_one.head()"
   ]
  },
  {
   "cell_type": "code",
   "execution_count": 149,
   "metadata": {},
   "outputs": [
    {
     "data": {
      "text/html": [
       "<div>\n",
       "<style scoped>\n",
       "    .dataframe tbody tr th:only-of-type {\n",
       "        vertical-align: middle;\n",
       "    }\n",
       "\n",
       "    .dataframe tbody tr th {\n",
       "        vertical-align: top;\n",
       "    }\n",
       "\n",
       "    .dataframe thead th {\n",
       "        text-align: right;\n",
       "    }\n",
       "</style>\n",
       "<table border=\"1\" class=\"dataframe\">\n",
       "  <thead>\n",
       "    <tr style=\"text-align: right;\">\n",
       "      <th></th>\n",
       "      <th>name</th>\n",
       "      <th>street</th>\n",
       "    </tr>\n",
       "  </thead>\n",
       "  <tbody>\n",
       "    <tr>\n",
       "      <td>0</td>\n",
       "      <td>таганский район</td>\n",
       "      <td>31</td>\n",
       "    </tr>\n",
       "    <tr>\n",
       "      <td>1</td>\n",
       "      <td>район хамовники</td>\n",
       "      <td>28</td>\n",
       "    </tr>\n",
       "    <tr>\n",
       "      <td>2</td>\n",
       "      <td>басманный район</td>\n",
       "      <td>26</td>\n",
       "    </tr>\n",
       "    <tr>\n",
       "      <td>3</td>\n",
       "      <td>тверской район</td>\n",
       "      <td>25</td>\n",
       "    </tr>\n",
       "    <tr>\n",
       "      <td>4</td>\n",
       "      <td>пресненский район</td>\n",
       "      <td>24</td>\n",
       "    </tr>\n",
       "    <tr>\n",
       "      <td>5</td>\n",
       "      <td>район арбат</td>\n",
       "      <td>19</td>\n",
       "    </tr>\n",
       "    <tr>\n",
       "      <td>6</td>\n",
       "      <td>район марьина роща</td>\n",
       "      <td>18</td>\n",
       "    </tr>\n",
       "    <tr>\n",
       "      <td>7</td>\n",
       "      <td>мещанский район</td>\n",
       "      <td>17</td>\n",
       "    </tr>\n",
       "    <tr>\n",
       "      <td>8</td>\n",
       "      <td>район сокольники</td>\n",
       "      <td>15</td>\n",
       "    </tr>\n",
       "    <tr>\n",
       "      <td>9</td>\n",
       "      <td>район замоскворечье</td>\n",
       "      <td>15</td>\n",
       "    </tr>\n",
       "  </tbody>\n",
       "</table>\n",
       "</div>"
      ],
      "text/plain": [
       "                  name  street\n",
       "0      таганский район      31\n",
       "1      район хамовники      28\n",
       "2      басманный район      26\n",
       "3       тверской район      25\n",
       "4    пресненский район      24\n",
       "5          район арбат      19\n",
       "6   район марьина роща      18\n",
       "7      мещанский район      17\n",
       "8     район сокольники      15\n",
       "9  район замоскворечье      15"
      ]
     },
     "execution_count": 149,
     "metadata": {},
     "output_type": "execute_result"
    }
   ],
   "source": [
    "top10_districts = only_one.query(\n",
    "    'street!=(\"варшавское шоссе\", \"ленинский проспект\", \"профсоюзная улица\")').groupby('name').agg(\n",
    "    {'street':'count'}).reset_index().sort_values(by='street', ascending=False).head(10)\n",
    "top10_districts = top10_districts.reset_index(drop=True)\n",
    "top10_districts"
   ]
  },
  {
   "cell_type": "markdown",
   "metadata": {},
   "source": [
    "**<font color=\"purple\"> Всего в Москве 158 районов, улицы с одним заведением находятся в 129 районах или 82% от общего числа районов. Общее количество улиц с одним заведением - 741, это 15% от общего числа улиц Москвы. Некоторые улицы, на которых всего лишь одно заведение общественного питания, пересекают несколько районов.Также мы выделили топ 10 районов, где  наибольшее количество улиц с одним заведением</font>**"
   ]
  },
  {
   "cell_type": "markdown",
   "metadata": {},
   "source": [
    "#### Распределение количества посадочных мест для улиц с большим количеством объектов общественного питания <a id=\"seats\"></a>"
   ]
  },
  {
   "cell_type": "code",
   "execution_count": 150,
   "metadata": {},
   "outputs": [
    {
     "data": {
      "text/html": [
       "<div>\n",
       "<style scoped>\n",
       "    .dataframe tbody tr th:only-of-type {\n",
       "        vertical-align: middle;\n",
       "    }\n",
       "\n",
       "    .dataframe tbody tr th {\n",
       "        vertical-align: top;\n",
       "    }\n",
       "\n",
       "    .dataframe thead th {\n",
       "        text-align: right;\n",
       "    }\n",
       "</style>\n",
       "<table border=\"1\" class=\"dataframe\">\n",
       "  <thead>\n",
       "    <tr style=\"text-align: right;\">\n",
       "      <th></th>\n",
       "      <th>street</th>\n",
       "      <th>number</th>\n",
       "    </tr>\n",
       "  </thead>\n",
       "  <tbody>\n",
       "    <tr>\n",
       "      <td>0</td>\n",
       "      <td>улица егора абакумова</td>\n",
       "      <td>48</td>\n",
       "    </tr>\n",
       "    <tr>\n",
       "      <td>1</td>\n",
       "      <td>улица талалихина</td>\n",
       "      <td>35</td>\n",
       "    </tr>\n",
       "    <tr>\n",
       "      <td>2</td>\n",
       "      <td>абельмановская улица</td>\n",
       "      <td>95</td>\n",
       "    </tr>\n",
       "    <tr>\n",
       "      <td>3</td>\n",
       "      <td>абрамцевская улица</td>\n",
       "      <td>40</td>\n",
       "    </tr>\n",
       "    <tr>\n",
       "      <td>4</td>\n",
       "      <td>абрамцевская улица</td>\n",
       "      <td>50</td>\n",
       "    </tr>\n",
       "  </tbody>\n",
       "</table>\n",
       "</div>"
      ],
      "text/plain": [
       "                  street  number\n",
       "0  улица егора абакумова      48\n",
       "1       улица талалихина      35\n",
       "2   абельмановская улица      95\n",
       "3     абрамцевская улица      40\n",
       "4     абрамцевская улица      50"
      ]
     },
     "execution_count": 150,
     "metadata": {},
     "output_type": "execute_result"
    }
   ],
   "source": [
    "#Создадим таблицу с названием улицы и числом посадочных мест\n",
    "seats = cafe.copy()\n",
    "seats['street'] = seats['street'].map(str.strip)\n",
    "seats = seats[['street', 'number']]\n",
    "seats.head()"
   ]
  },
  {
   "cell_type": "code",
   "execution_count": 151,
   "metadata": {
    "scrolled": true
   },
   "outputs": [
    {
     "name": "stdout",
     "output_type": "stream",
     "text": [
      "<class 'pandas.core.frame.DataFrame'>\n",
      "RangeIndex: 1479 entries, 0 to 1478\n",
      "Data columns (total 2 columns):\n",
      "street    1479 non-null object\n",
      "number    1479 non-null int64\n",
      "dtypes: int64(1), object(1)\n",
      "memory usage: 23.2+ KB\n"
     ]
    }
   ],
   "source": [
    "#Отфильтруем наши топ10 улиц\n",
    "\n",
    "top=top10['street'].map(str.strip)\n",
    "seats=seats.loc[seats['street'].isin(top)].reset_index(drop=True)\n",
    "seats.info()"
   ]
  },
  {
   "cell_type": "code",
   "execution_count": 152,
   "metadata": {
    "scrolled": false
   },
   "outputs": [
    {
     "data": {
      "image/png": "[encoded data removed]",
      "text/plain": [
       "<Figure size 1296x432 with 1 Axes>"
      ]
     },
     "metadata": {
      "needs_background": "light"
     },
     "output_type": "display_data"
    }
   ],
   "source": [
    "# Посмотрим на распределение\n",
    "plt.figure(figsize=(18, 6))\n",
    "sns.distplot(seats['number'], norm_hist=True, bins=100).set_title(\n",
    "'Распределение количества посадочных мест для улиц с большим количеством объектов общественного \\\n",
    "питания', fontsize=18)\n",
    "plt.xlabel('Количество посадочных мест', fontsize=16, labelpad=12);"
   ]
  },
  {
   "cell_type": "code",
   "execution_count": 153,
   "metadata": {},
   "outputs": [
    {
     "data": {
      "text/html": [
       "<div>\n",
       "<style scoped>\n",
       "    .dataframe tbody tr th:only-of-type {\n",
       "        vertical-align: middle;\n",
       "    }\n",
       "\n",
       "    .dataframe tbody tr th {\n",
       "        vertical-align: top;\n",
       "    }\n",
       "\n",
       "    .dataframe thead th {\n",
       "        text-align: right;\n",
       "    }\n",
       "</style>\n",
       "<table border=\"1\" class=\"dataframe\">\n",
       "  <thead>\n",
       "    <tr style=\"text-align: right;\">\n",
       "      <th></th>\n",
       "      <th>number</th>\n",
       "    </tr>\n",
       "  </thead>\n",
       "  <tbody>\n",
       "    <tr>\n",
       "      <td>count</td>\n",
       "      <td>1479.000000</td>\n",
       "    </tr>\n",
       "    <tr>\n",
       "      <td>mean</td>\n",
       "      <td>58.445571</td>\n",
       "    </tr>\n",
       "    <tr>\n",
       "      <td>std</td>\n",
       "      <td>90.590102</td>\n",
       "    </tr>\n",
       "    <tr>\n",
       "      <td>min</td>\n",
       "      <td>0.000000</td>\n",
       "    </tr>\n",
       "    <tr>\n",
       "      <td>25%</td>\n",
       "      <td>12.000000</td>\n",
       "    </tr>\n",
       "    <tr>\n",
       "      <td>50%</td>\n",
       "      <td>40.000000</td>\n",
       "    </tr>\n",
       "    <tr>\n",
       "      <td>75%</td>\n",
       "      <td>75.000000</td>\n",
       "    </tr>\n",
       "    <tr>\n",
       "      <td>max</td>\n",
       "      <td>1700.000000</td>\n",
       "    </tr>\n",
       "  </tbody>\n",
       "</table>\n",
       "</div>"
      ],
      "text/plain": [
       "            number\n",
       "count  1479.000000\n",
       "mean     58.445571\n",
       "std      90.590102\n",
       "min       0.000000\n",
       "25%      12.000000\n",
       "50%      40.000000\n",
       "75%      75.000000\n",
       "max    1700.000000"
      ]
     },
     "execution_count": 153,
     "metadata": {},
     "output_type": "execute_result"
    }
   ],
   "source": [
    "seats.describe()"
   ]
  },
  {
   "cell_type": "code",
   "execution_count": 154,
   "metadata": {},
   "outputs": [
    {
     "data": {
      "image/png": "[encoded data removed]",
      "text/plain": [
       "<Figure size 864x864 with 1 Axes>"
      ]
     },
     "metadata": {
      "needs_background": "light"
     },
     "output_type": "display_data"
    }
   ],
   "source": [
    "#Посмотрим на распределение по улицам\n",
    "plt.figure(figsize=(12, 12))\n",
    "sns.violinplot(x=\"number\", y=\"street\", data=seats, palette='rainbow').set_title(\n",
    "'Распределение количества посадочных мест для топ-10 улиц Москвы', fontsize=18)\n",
    "plt.ylabel('Улица', fontsize=16, labelpad=12);\n",
    "plt.xlabel('Количество посадочных мест', fontsize=16, labelpad=12);\n",
    "plt.xlim(0, 700);"
   ]
  },
  {
   "cell_type": "code",
   "execution_count": 155,
   "metadata": {},
   "outputs": [
    {
     "data": {
      "image/png": "[encoded data removed]",
      "text/plain": [
       "<Figure size 864x864 with 1 Axes>"
      ]
     },
     "metadata": {
      "needs_background": "light"
     },
     "output_type": "display_data"
    }
   ],
   "source": [
    "plt.figure(figsize=(12, 12))\n",
    "sns.stripplot(x=\"number\", y=\"street\", data=seats).set_title(\n",
    "'Распределение количества посадочных мест для топ-10 улиц Москвы', fontsize=18)\n",
    "plt.ylabel('Улица', fontsize=16, labelpad=12);\n",
    "plt.xlabel('Количество посадочных мест', fontsize=16, labelpad=12);\n",
    "plt.xlim(0, 700);\n"
   ]
  },
  {
   "cell_type": "markdown",
   "metadata": {},
   "source": [
    "**<font color=\"purple\">В распределении количества посадочных мест по улицам наблюдаем множественные выбросы. Медианное количество посадочных мест - 40. При этом, ближе к центру, количество посадочных мест уменьшается, но увеличивается количество заведений в пределах улицы (проспект Мира). На Топ 10 улицах, продолжающих или примыкаюих к крупным автомагистралям, появляется все больше заведений с большим количеством посадочных мест по типу столовых. </font>**"
   ]
  },
  {
   "cell_type": "markdown",
   "metadata": {},
   "source": [
    "### 5. Выводы <a id=\"summary\"></a>\n",
    "**<font color=\"purple\"> В проекте мы исследовали рынок заведений общественного питания Москвы для оценки перспективы развития нашего кафе, особенностью которого является обслуживание роботами-официантами. Данные для исследования взяты из открытых источников: базу данных о заведениях Москвы предоставил Яндекс.Практикум, базу данных об улицах - районах Москвы взяли на портале открытых данных правительства Москвы от 09.08.2020: <https://data.mos.ru/classifier/2044>,<https://data.mos.ru/classifier/7710168515-obshchemoskovskiy-klassifikator-territorialnyh-edinits-moskvy-omk-002-2013-razdel-1> </font>**"
   ]
  },
  {
   "cell_type": "markdown",
   "metadata": {},
   "source": [
    "**<font color=\"purple\">В результате исследования получили следующие выводы:</font>**\n",
    "1. Наибольшее количество заведений общественного питания Москвы относятся к категории \"кафе\" - их доля приближается к 40%. А 84% всех заведений представлены кафе, столовыми, ресторанами, предприятиями быстрого обслуживания (фастфуды).\n",
    "2. 80% всего общепита представлена несетевыми заведениями. Сетевое распростанение характерно преимущественно для объектов типа (в порядке убывания) \"Кафе\", \"Предприятие быстрого обслуживания\" (фастфуд) и \"Ресторан\". Практически отсутствует сетевая направленность столовых.\n",
    "4. Для 75% сетевых заведений общественного питания Москвы характерно количество посадочных мест до 80 и число заведений одной сети в пределах трех. Иными словами для сетевых заведений характерно малое количество точек одной сети, но достаточно большое количество посадочных мест в пределах каждой.\n",
    "5. Самое большое количество посадочных мест наблюдается в столовых. В закусочных и отделах кулинарии посадочных мест нет вовсе.\n",
    "6. Топ 10 улиц Москвы с максимальным количеством заведений общественного питания (в порядке убывания количества заведений): Проспект Мира, Профсоюзная улица, Ленинградский проспект, Пресненская набережная, Варшавское шоссе, Ленинский проспект, проспект Вернадского, Кутузовский проспект, Каширское шоссе, Кировоградская улица. Все эти улицы - протяженные, пересекают преимущественно несколько районов. Исключение составляет Пресненская набережная с высокой концентрацией заведений в пределах одного Пресненского района.  Находятся за пределами Садового кольца, с западной стороны Москвы от Севера к Югу (см. презентацию)\n",
    "7. Улицы с одним заведением находятся в 129 районах или 82% от общего числа районов. Общее количество улиц с одним заведением - 741, это 15% от общего числа улиц Москвы. Некоторые улицы, на которых всего лишь одно заведение общественного питания, пересекают несколько районов. Также мы выделили топ 10 районов, где наибольшее количество улиц с 1 заведением. Эти районы - кандидаты для локализации нашего кафе.\n",
    "8. В распределении количества посадочных мест по улицам наблюдаем множественные выбросы. Медианное количество посадочных мест - 40. При этом, ближе к центру, количество посадочных мест уменьшается, но увеличивается количество заведений в пределах улицы (проспект Мира). На Топ 10 улицах, продолжающих или примыкающих к крупным автомагистралям, появляется все больше заведений с большим количеством посадочных мест по типу столовых.\n"
   ]
  },
  {
   "cell_type": "markdown",
   "metadata": {},
   "source": [
    "### 6. Рекомендации <a id=\"recommendation\"></a>"
   ]
  },
  {
   "cell_type": "markdown",
   "metadata": {},
   "source": [
    "**<font color=\"purple\">Возможные ниши для нашего кафе видятся следующим образом:</font>**\n",
    "\n",
    "**<font color=\"purple\">1. Сетевое заведение по типу столовой, кафе, заведения быстрого обслуживания на больших улицах, примыкающих к автомагистралям с востока, юго-востока, северо-востока Москвы</font>**\n",
    "\n",
    "**<font color=\"purple\">2. Сетевое заведение на больших городских улицах, пересекающих несколько районов, с одним заведением на текущий момент. Для определения типа заведения необходимо дополнительное исследование районов и плотности заведений в их пределах.</font>**\n",
    "\n",
    "**<font color=\"purple\">3.Топ 10 районов с максимальным количеством улиц, где встречается лишь 1 заведение: Таганский район, район Хамовники, Басманный район, Тверской район, Пресненский район, район Арбат, район Марьина роща, Мещанский район, район Сокольники, район Замоскворечье</font>**"
   ]
  },
  {
   "cell_type": "markdown",
   "metadata": {},
   "source": [
    "### 7 . Презентация <a id=\"presentation\"></a>"
   ]
  },
  {
   "cell_type": "markdown",
   "metadata": {},
   "source": [
    "Презентация: <https://drive.google.com/file/d/16RX1W-6jCIr9U_kqDkSXTMeOGUJs7igu/view?usp=sharing>"
   ]
  },
  {
   "cell_type": "code",
   "execution_count": null,
   "metadata": {},
   "outputs": [],
   "source": []
  }
 ],
 "metadata": {
  "kernelspec": {
   "display_name": "Python 3",
   "language": "python",
   "name": "python3"
  },
  "language_info": {
   "codemirror_mode": {
    "name": "ipython",
    "version": 3
   },
   "file_extension": ".py",
   "mimetype": "text/x-python",
   "name": "python",
   "nbconvert_exporter": "python",
   "pygments_lexer": "ipython3",
   "version": "3.7.4"
  }
 },
 "nbformat": 4,
 "nbformat_minor": 2
}
