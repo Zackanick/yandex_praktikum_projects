{
 "cells": [
  {
   "cell_type": "markdown",
   "metadata": {},
   "source": [
    "### Шаг 1. Откройте файл с данными и изучите общую информацию. "
   ]
  },
  {
   "cell_type": "code",
   "execution_count": 184,
   "metadata": {},
   "outputs": [
    {
     "name": "stdout",
     "output_type": "stream",
     "text": [
      "   children  days_employed  dob_years education  education_id  \\\n",
      "0         1   -8437.673028         42    высшее             0   \n",
      "1         1   -4024.803754         36   среднее             1   \n",
      "2         0   -5623.422610         33   Среднее             1   \n",
      "3         3   -4124.747207         32   среднее             1   \n",
      "4         0  340266.072047         53   среднее             1   \n",
      "5         0    -926.185831         27    высшее             0   \n",
      "6         0   -2879.202052         43    высшее             0   \n",
      "7         0    -152.779569         50   СРЕДНЕЕ             1   \n",
      "8         2   -6929.865299         35    ВЫСШЕЕ             0   \n",
      "9         0   -2188.756445         41   среднее             1   \n",
      "\n",
      "      family_status  family_status_id gender income_type  debt   total_income  \\\n",
      "0   женат / замужем                 0      F   сотрудник     0  253875.639453   \n",
      "1   женат / замужем                 0      F   сотрудник     0  112080.014102   \n",
      "2   женат / замужем                 0      M   сотрудник     0  145885.952297   \n",
      "3   женат / замужем                 0      M   сотрудник     0  267628.550329   \n",
      "4  гражданский брак                 1      F   пенсионер     0  158616.077870   \n",
      "5  гражданский брак                 1      M   компаньон     0  255763.565419   \n",
      "6   женат / замужем                 0      F   компаньон     0  240525.971920   \n",
      "7   женат / замужем                 0      M   сотрудник     0  135823.934197   \n",
      "8  гражданский брак                 1      F   сотрудник     0   95856.832424   \n",
      "9   женат / замужем                 0      M   сотрудник     0  144425.938277   \n",
      "\n",
      "                      purpose  \n",
      "0               покупка жилья  \n",
      "1     приобретение автомобиля  \n",
      "2               покупка жилья  \n",
      "3  дополнительное образование  \n",
      "4             сыграть свадьбу  \n",
      "5               покупка жилья  \n",
      "6           операции с жильем  \n",
      "7                 образование  \n",
      "8       на проведение свадьбы  \n",
      "9     покупка жилья для семьи  \n",
      "\n",
      "<class 'pandas.core.frame.DataFrame'>\n",
      "RangeIndex: 21525 entries, 0 to 21524\n",
      "Data columns (total 12 columns):\n",
      "children            21525 non-null int64\n",
      "days_employed       19351 non-null float64\n",
      "dob_years           21525 non-null int64\n",
      "education           21525 non-null object\n",
      "education_id        21525 non-null int64\n",
      "family_status       21525 non-null object\n",
      "family_status_id    21525 non-null int64\n",
      "gender              21525 non-null object\n",
      "income_type         21525 non-null object\n",
      "debt                21525 non-null int64\n",
      "total_income        19351 non-null float64\n",
      "purpose             21525 non-null object\n",
      "dtypes: float64(2), int64(5), object(5)\n",
      "memory usage: 2.0+ MB\n",
      "None\n",
      "\n",
      "среднее                13750\n",
      "высшее                  4718\n",
      "СРЕДНЕЕ                  772\n",
      "Среднее                  711\n",
      "неоконченное высшее      668\n",
      "ВЫСШЕЕ                   274\n",
      "Высшее                   268\n",
      "начальное                250\n",
      "Неоконченное высшее       47\n",
      "НЕОКОНЧЕННОЕ ВЫСШЕЕ       29\n",
      "НАЧАЛЬНОЕ                 17\n",
      "Начальное                 15\n",
      "ученая степень             4\n",
      "УЧЕНАЯ СТЕПЕНЬ             1\n",
      "Ученая степень             1\n",
      "Name: education, dtype: int64\n",
      "\n",
      "женат / замужем          12380\n",
      "гражданский брак          4177\n",
      "Не женат / не замужем     2813\n",
      "в разводе                 1195\n",
      "вдовец / вдова             960\n",
      "Name: family_status, dtype: int64\n",
      "\n",
      "F      14236\n",
      "M       7288\n",
      "XNA        1\n",
      "Name: gender, dtype: int64\n",
      "\n",
      "сотрудник          11119\n",
      "компаньон           5085\n",
      "пенсионер           3856\n",
      "госслужащий         1459\n",
      "безработный            2\n",
      "предприниматель        2\n",
      "в декрете              1\n",
      "студент                1\n",
      "Name: income_type, dtype: int64\n",
      "\n",
      "свадьба                                   797\n",
      "на проведение свадьбы                     777\n",
      "сыграть свадьбу                           774\n",
      "операции с недвижимостью                  676\n",
      "покупка коммерческой недвижимости         664\n",
      "операции с жильем                         653\n",
      "покупка жилья для сдачи                   653\n",
      "операции с коммерческой недвижимостью     651\n",
      "жилье                                     647\n",
      "покупка жилья                             647\n",
      "покупка жилья для семьи                   641\n",
      "строительство собственной недвижимости    635\n",
      "недвижимость                              634\n",
      "операции со своей недвижимостью           630\n",
      "строительство жилой недвижимости          626\n",
      "покупка недвижимости                      624\n",
      "покупка своего жилья                      620\n",
      "строительство недвижимости                620\n",
      "ремонт жилью                              612\n",
      "покупка жилой недвижимости                607\n",
      "на покупку своего автомобиля              505\n",
      "заняться высшим образованием              496\n",
      "автомобиль                                495\n",
      "сделка с подержанным автомобилем          489\n",
      "свой автомобиль                           480\n",
      "на покупку подержанного автомобиля        479\n",
      "автомобили                                478\n",
      "на покупку автомобиля                     472\n",
      "дополнительное образование                462\n",
      "приобретение автомобиля                   462\n",
      "сделка с автомобилем                      455\n",
      "высшее образование                        453\n",
      "образование                               447\n",
      "получение дополнительного образования     447\n",
      "получение образования                     443\n",
      "профильное образование                    436\n",
      "получение высшего образования             426\n",
      "заняться образованием                     412\n",
      "Name: purpose, dtype: int64\n"
     ]
    }
   ],
   "source": [
    "import pandas as pd\n",
    "customers_solvency = pd.read_csv('/datasets/data.csv')\n",
    "#Для первого знакомства с таблицей использовали методы: head(), info(), value_counts()\n",
    "print(customers_solvency.head(10))\n",
    "print()\n",
    "print(customers_solvency.info())\n",
    "print()\n",
    "print(customers_solvency['education'].value_counts())\n",
    "print()\n",
    "print(customers_solvency['family_status'].value_counts())\n",
    "print()\n",
    "print(customers_solvency['gender'].value_counts())\n",
    "print()\n",
    "print(customers_solvency['income_type'].value_counts())\n",
    "print()\n",
    "print(customers_solvency['purpose'].value_counts())\n",
    "\n"
   ]
  },
  {
   "cell_type": "markdown",
   "metadata": {},
   "source": [
    "### Вывод"
   ]
  },
  {
   "cell_type": "markdown",
   "metadata": {},
   "source": [
    "\n",
    "При первоначальном ознакомлении с таблицей бросаются в глаза следующее:\n",
    "1) В двух столбцах: days_employed и  total_income, количество данных, отличных от нуля - одинаково, однако меньше чем общее количество данных в остальных столбцах. \n",
    "2) В этих же двух столбцах данные представленны в виде вещественных чисел.\n",
    "3) Артефакт в виде отрицательного количества дней трудового стажа\n",
    "4) Мы видим разные форматы написания вариантов в столбце 'education': по разному пишется один и тот же вид образования\n",
    "5) Разные форматы написания вариантов в столбце 'purpose'.\n",
    "6) В одной из строк таблицы, в столбце 'gender' мы видим значение XNA.\n"
   ]
  },
  {
   "cell_type": "markdown",
   "metadata": {},
   "source": [
    "### Шаг 2. Предобработка данных"
   ]
  },
  {
   "cell_type": "markdown",
   "metadata": {},
   "source": [
    "### Обработка пропусков"
   ]
  },
  {
   "cell_type": "code",
   "execution_count": 185,
   "metadata": {
    "scrolled": true
   },
   "outputs": [
    {
     "name": "stdout",
     "output_type": "stream",
     "text": [
      "    children  days_employed  dob_years education  education_id  \\\n",
      "12         0            NaN         65   среднее             1   \n",
      "26         0            NaN         41   среднее             1   \n",
      "29         0            NaN         63   среднее             1   \n",
      "41         0            NaN         50   среднее             1   \n",
      "55         0            NaN         54   среднее             1   \n",
      "\n",
      "            family_status  family_status_id gender  income_type  debt  \\\n",
      "12       гражданский брак                 1      M    пенсионер     0   \n",
      "26        женат / замужем                 0      M  госслужащий     0   \n",
      "29  Не женат / не замужем                 4      F    пенсионер     0   \n",
      "41        женат / замужем                 0      F  госслужащий     0   \n",
      "55       гражданский брак                 1      F    пенсионер     1   \n",
      "\n",
      "    total_income                           purpose  \n",
      "12           NaN                   сыграть свадьбу  \n",
      "26           NaN                       образование  \n",
      "29           NaN  строительство жилой недвижимости  \n",
      "41           NaN  сделка с подержанным автомобилем  \n",
      "55           NaN                   сыграть свадьбу  \n",
      "children            2174\n",
      "days_employed          0\n",
      "dob_years           2174\n",
      "education           2174\n",
      "education_id        2174\n",
      "family_status       2174\n",
      "family_status_id    2174\n",
      "gender              2174\n",
      "income_type         2174\n",
      "debt                2174\n",
      "total_income           0\n",
      "purpose             2174\n",
      "dtype: int64\n",
      "\n",
      "сотрудник          1105\n",
      "компаньон           508\n",
      "пенсионер           413\n",
      "госслужащий         147\n",
      "предприниматель       1\n",
      "Name: income_type, dtype: int64\n"
     ]
    }
   ],
   "source": [
    "#Итак, мы обнаружили, что в некоторых ячейках столбцов days_employed и total_income отсутствуют числа\n",
    "#Разберемся с отсутствующей информацией в этих столбцах. \n",
    "#Вызовем метод isnull для проверки данных столбцов на пропуски. Можно работать только с одним из этих\n",
    "#двух столбцов, поскольку строки с пропусками одинаковы\n",
    "print(customers_solvency[customers_solvency['total_income'].isna()].head())\n",
    "print(customers_solvency[customers_solvency['total_income'].isna()].count())\n",
    "#посмотрим для заемщиков каких видов дохода отсутствуют данные в этих двух столбцах \n",
    "print()\n",
    "print(customers_solvency[customers_solvency['total_income'].isnull()]['income_type'].value_counts())\n"
   ]
  },
  {
   "cell_type": "code",
   "execution_count": 186,
   "metadata": {},
   "outputs": [
    {
     "name": "stdout",
     "output_type": "stream",
     "text": [
      "                  total_income\n",
      "                        median\n",
      "income_type                   \n",
      "безработный      131339.751676\n",
      "в декрете         53829.130729\n",
      "госслужащий      150447.935283\n",
      "компаньон        172357.950966\n",
      "пенсионер        118514.486412\n",
      "предприниматель  499163.144947\n",
      "сотрудник        142594.396847\n",
      "студент           98201.625314\n",
      "<class 'pandas.core.frame.DataFrame'>\n",
      "RangeIndex: 21525 entries, 0 to 21524\n",
      "Data columns (total 12 columns):\n",
      "children            21525 non-null int64\n",
      "days_employed       19351 non-null float64\n",
      "dob_years           21525 non-null int64\n",
      "education           21525 non-null object\n",
      "education_id        21525 non-null int64\n",
      "family_status       21525 non-null object\n",
      "family_status_id    21525 non-null int64\n",
      "gender              21525 non-null object\n",
      "income_type         21525 non-null object\n",
      "debt                21525 non-null int64\n",
      "total_income        21525 non-null float64\n",
      "purpose             21525 non-null object\n",
      "dtypes: float64(2), int64(5), object(5)\n",
      "memory usage: 2.0+ MB\n",
      "None\n"
     ]
    }
   ],
   "source": [
    "#заменим NaN в столбце 'income_type' на медиану \n",
    "#сначала посчитаем медиану\n",
    "try:\n",
    "    income_median = customers_solvency.groupby('income_type').agg({'total_income': ['median']})\n",
    "    print(income_median)\n",
    "except:\n",
    "    print('ошибка')\n",
    "\n",
    "#сохраним медианы, необходимые для замены, в переменных\n",
    "staffer_median = customers_solvency[customers_solvency['income_type'] == 'сотрудник']['total_income'].median()\n",
    "partner_median = customers_solvency[customers_solvency['income_type'] == 'компаньон']['total_income'].median()\n",
    "retiree_median = customers_solvency[customers_solvency['income_type'] == 'пенсионер']['total_income'].median()\n",
    "official_median = customers_solvency[customers_solvency['income_type'] == 'госслужащий']['total_income'].median() \n",
    "owner_median = customers_solvency[customers_solvency['income_type'] == 'предприниматель']['total_income'].median()\n",
    "\n",
    "# заменим NaN в строках. NaN наблюдаются в категориях сотрудник, компаньон, пенсионер, госслужащий, \n",
    "#предприниматель\n",
    "\n",
    "customers_solvency.loc[(customers_solvency['income_type'] == 'сотрудник') & (customers_solvency['total_income'].isna()),'total_income'] = staffer_median\n",
    "customers_solvency.loc[(customers_solvency['income_type'] == 'компаньон') & (customers_solvency['total_income'].isna()),'total_income'] = partner_median\n",
    "customers_solvency.loc[(customers_solvency['income_type'] == 'пенсионер') & (customers_solvency['total_income'].isna()),'total_income'] = retiree_median\n",
    "customers_solvency.loc[(customers_solvency['income_type'] == 'госслужащий') & (customers_solvency['total_income'].isna()),'total_income'] = official_median\n",
    "customers_solvency.loc[(customers_solvency['income_type'] == 'предприниматель') & (customers_solvency['total_income'].isna()),'total_income'] = owner_median\n",
    "print(customers_solvency.info())\n"
   ]
  },
  {
   "cell_type": "code",
   "execution_count": 187,
   "metadata": {},
   "outputs": [
    {
     "name": "stdout",
     "output_type": "stream",
     "text": [
      "<class 'pandas.core.frame.DataFrame'>\n",
      "RangeIndex: 21525 entries, 0 to 21524\n",
      "Data columns (total 12 columns):\n",
      "children            21525 non-null int64\n",
      "days_employed       21525 non-null float64\n",
      "dob_years           21525 non-null int64\n",
      "education           21525 non-null object\n",
      "education_id        21525 non-null int64\n",
      "family_status       21525 non-null object\n",
      "family_status_id    21525 non-null int64\n",
      "gender              21525 non-null object\n",
      "income_type         21525 non-null object\n",
      "debt                21525 non-null int64\n",
      "total_income        21525 non-null float64\n",
      "purpose             21525 non-null object\n",
      "dtypes: float64(2), int64(5), object(5)\n",
      "memory usage: 2.0+ MB\n",
      "None\n",
      "   children  days_employed  dob_years education  education_id  \\\n",
      "0         1    8437.673028         42    высшее             0   \n",
      "1         1    4024.803754         36   среднее             1   \n",
      "2         0    5623.422610         33   Среднее             1   \n",
      "3         3    4124.747207         32   среднее             1   \n",
      "4         0  340266.072047         53   среднее             1   \n",
      "\n",
      "      family_status  family_status_id gender income_type  debt   total_income  \\\n",
      "0   женат / замужем                 0      F   сотрудник     0  253875.639453   \n",
      "1   женат / замужем                 0      F   сотрудник     0  112080.014102   \n",
      "2   женат / замужем                 0      M   сотрудник     0  145885.952297   \n",
      "3   женат / замужем                 0      M   сотрудник     0  267628.550329   \n",
      "4  гражданский брак                 1      F   пенсионер     0  158616.077870   \n",
      "\n",
      "                      purpose  \n",
      "0               покупка жилья  \n",
      "1     приобретение автомобиля  \n",
      "2               покупка жилья  \n",
      "3  дополнительное образование  \n",
      "4             сыграть свадьбу  \n"
     ]
    },
    {
     "data": {
      "text/plain": [
       "0"
      ]
     },
     "execution_count": 187,
     "metadata": {},
     "output_type": "execute_result"
    }
   ],
   "source": [
    "#Столбец с данными стажа нам в дальнейших расчетах не понадобиться.заменим NaN на нули:\n",
    "customers_solvency['days_employed'] = customers_solvency['days_employed'].fillna(0)\n",
    "print(customers_solvency.info())\n",
    "#В столбце 'days_employed' мы видим отрицательные значения. \n",
    "#Определим общее количество строк с отрицательными значениями методом .count. \n",
    "#Этих строк 15906, то есть большая часть выборки. \n",
    "customers_solvency.loc[customers_solvency.loc[:,'days_employed'] < 0]['days_employed'].count()\n",
    "\n",
    "#Предположим, что эта ошибка с отрицательными значениями не случайная, а закономерная. \n",
    "#Расчет трудового стажа обычно происходит с ипользование данных трудовой книжки: \n",
    "#как разность между текущей датой для занятого работника/датой окончания трудовой деятельности для \n",
    "#пенсионера и датой начала трудовой деятельности. \n",
    "#Предположим, что отрицательные значения появились как следствие перестановки уменьшаемого и \n",
    "#вычитаемого в формате UnixTime. \n",
    "#Чтобы эту ошибку исправить, можно просто умножить каждое отрицательное значение трудового стажа на -1. \n",
    "#И проверить методом .shape[0], все ли значения исправлены.\n",
    "customers_solvency.loc[customers_solvency.loc[:,'days_employed'] < 0, ['days_employed']] = customers_solvency['days_employed']* (-1)\n",
    "print(customers_solvency.head())\n",
    "customers_solvency.loc[customers_solvency['days_employed'] < 0].shape[0]\n",
    "\n",
    "\n"
   ]
  },
  {
   "cell_type": "code",
   "execution_count": 166,
   "metadata": {},
   "outputs": [
    {
     "name": "stdout",
     "output_type": "stream",
     "text": [
      "пенсионер      3443\n",
      "безработный       2\n",
      "сотрудник         1\n",
      "Name: income_type, dtype: int64\n",
      "       children  days_employed  dob_years education  education_id  \\\n",
      "3133          1  337524.466835         31   среднее             1   \n",
      "14798         0  395302.838654         45    Высшее             0   \n",
      "\n",
      "          family_status  family_status_id gender  income_type  debt  \\\n",
      "3133    женат / замужем                 0      M  безработный     1   \n",
      "14798  гражданский брак                 1      F  безработный     0   \n",
      "\n",
      "        total_income                  purpose  \n",
      "3133    59956.991984  покупка жилья для сдачи  \n",
      "14798  202722.511368             ремонт жилью  \n",
      "       children  days_employed  dob_years education  education_id  \\\n",
      "16335         1   18388.949901         61   среднее             1   \n",
      "\n",
      "         family_status  family_status_id gender income_type  debt  \\\n",
      "16335  женат / замужем                 0      F   сотрудник     0   \n",
      "\n",
      "        total_income                   purpose  \n",
      "16335  186178.934089  операции с недвижимостью  \n"
     ]
    }
   ],
   "source": [
    "#В этом же столбце 'days_employed' мы видим аномально высокие значения трудового стажа. \n",
    "#Отфильтруем все значения трудового стажа, которые превышают 17963 дня (количество дней, \n",
    "#прошедшее с 1 января 1970 по 8 марта 2019(последняя дата взята из теории курса в предположении \n",
    "#что выборка датируется именно этой датой)). Таких значений всего 3446. \n",
    "#Проверим для этой категории количество 'income_type'. \n",
    "#Мы видим, что высокие значения характерны в основном для заемщиков из категории \"пенсионеры\".\n",
    "wrong_lines_content = customers_solvency.loc[customers_solvency.loc[:,'days_employed'] >= 17963]\n",
    "print(wrong_lines_content['income_type'].value_counts())\n",
    "print(wrong_lines_content.loc[wrong_lines_content.loc[:,'income_type'] == 'безработный'])\n",
    "print(wrong_lines_content.loc[wrong_lines_content.loc[:,'income_type'] == 'сотрудник'])\n"
   ]
  },
  {
   "cell_type": "markdown",
   "metadata": {},
   "source": [
    "### Вывод"
   ]
  },
  {
   "cell_type": "markdown",
   "metadata": {},
   "source": [
    "Мы обнаружили пропуски в двух столбцах 'days_employed' и 'total_income' в одних и тех же строках. Всего строк с пропущенными значениями - 2174 (определили с использованием метода count()). \n",
    "Это 10% от общего числа заемщиков Предполагаем, что значения NAN в этих столбцах не случайны:заемщики не предоставили информацию о стаже работы и доходах в анкете, либо у них нет официальных источников дохода либо эти данные потеряны. Столбец с данными стажа нам в дальнейших расчетах не понадобиться. Доход зависит от нескольких факторов: типа занятости, возраста, пола, наличия детей. В этом проекте мы заменим пропуски в столбце с ежемесячным доходом на медианы доходов соответствующих категорий типов дохода (сотрудники, пенсионеры и т.д.)\n",
    "Отрицательные значения и аномально высокие значения стажа мы объясняем ошибкой в расчетах в формате unix time. Отрицательные значения мы заменили, аномально высокие значения оставили как есть, пропуски заменили на нули. Столбец со стажем в расчетах не используем. Его в принципе можно удалить, но мы оставили его, изменив так, чтобы не мешал в расчетах.\n"
   ]
  },
  {
   "cell_type": "markdown",
   "metadata": {},
   "source": [
    "### Замена типа данных"
   ]
  },
  {
   "cell_type": "code",
   "execution_count": 167,
   "metadata": {
    "scrolled": true
   },
   "outputs": [
    {
     "name": "stdout",
     "output_type": "stream",
     "text": [
      "<class 'pandas.core.frame.DataFrame'>\n",
      "RangeIndex: 21525 entries, 0 to 21524\n",
      "Data columns (total 12 columns):\n",
      "children            21525 non-null int64\n",
      "days_employed       21525 non-null int64\n",
      "dob_years           21525 non-null int64\n",
      "education           21525 non-null object\n",
      "education_id        21525 non-null int64\n",
      "family_status       21525 non-null object\n",
      "family_status_id    21525 non-null int64\n",
      "gender              21525 non-null object\n",
      "income_type         21525 non-null object\n",
      "debt                21525 non-null int64\n",
      "total_income        21525 non-null int64\n",
      "purpose             21525 non-null object\n",
      "dtypes: int64(7), object(5)\n",
      "memory usage: 2.0+ MB\n",
      "None\n",
      "   children  days_employed  dob_years education  education_id  \\\n",
      "0         1           8437         42    высшее             0   \n",
      "1         1           4024         36   среднее             1   \n",
      "2         0           5623         33   Среднее             1   \n",
      "3         3           4124         32   среднее             1   \n",
      "4         0         340266         53   среднее             1   \n",
      "\n",
      "      family_status  family_status_id gender income_type  debt  total_income  \\\n",
      "0   женат / замужем                 0      F   сотрудник     0        253875   \n",
      "1   женат / замужем                 0      F   сотрудник     0        112080   \n",
      "2   женат / замужем                 0      M   сотрудник     0        145885   \n",
      "3   женат / замужем                 0      M   сотрудник     0        267628   \n",
      "4  гражданский брак                 1      F   пенсионер     0        158616   \n",
      "\n",
      "                      purpose  \n",
      "0               покупка жилья  \n",
      "1     приобретение автомобиля  \n",
      "2               покупка жилья  \n",
      "3  дополнительное образование  \n",
      "4             сыграть свадьбу  \n"
     ]
    }
   ],
   "source": [
    "#Заменим вещественный тип данных на целочисленный в столбцах 'days_employed' и 'total_income' методом .astype()\n",
    "#customers_solvency['days_employed'] = customers_solvency['days_employed'].astype('int')\n",
    "customers_solvency['total_income'] = customers_solvency['total_income'].astype('int')\n",
    "customers_solvency['days_employed'] = customers_solvency['days_employed'].astype('int')\n",
    "print(customers_solvency.info())\n",
    "print(customers_solvency.head())\n",
    "\n",
    "\n"
   ]
  },
  {
   "cell_type": "raw",
   "metadata": {},
   "source": [
    " Вывод"
   ]
  },
  {
   "cell_type": "markdown",
   "metadata": {},
   "source": [
    "Мы заменили вещественный тип данных на целочисленный в двух столбцах методом .astype()"
   ]
  },
  {
   "cell_type": "markdown",
   "metadata": {},
   "source": [
    "### Обработка дубликатов"
   ]
  },
  {
   "cell_type": "code",
   "execution_count": 168,
   "metadata": {
    "scrolled": true
   },
   "outputs": [
    {
     "name": "stdout",
     "output_type": "stream",
     "text": [
      "среднее                13750\n",
      "высшее                  4718\n",
      "СРЕДНЕЕ                  772\n",
      "Среднее                  711\n",
      "неоконченное высшее      668\n",
      "ВЫСШЕЕ                   274\n",
      "Высшее                   268\n",
      "начальное                250\n",
      "Неоконченное высшее       47\n",
      "НЕОКОНЧЕННОЕ ВЫСШЕЕ       29\n",
      "НАЧАЛЬНОЕ                 17\n",
      "Начальное                 15\n",
      "ученая степень             4\n",
      "УЧЕНАЯ СТЕПЕНЬ             1\n",
      "Ученая степень             1\n",
      "Name: education, dtype: int64\n",
      "\n",
      "\n",
      "женат / замужем          12380\n",
      "гражданский брак          4177\n",
      "Не женат / не замужем     2813\n",
      "в разводе                 1195\n",
      "вдовец / вдова             960\n",
      "Name: family_status, dtype: int64\n"
     ]
    }
   ],
   "source": [
    "#В столбце 'education' находятся дублированные по смыслу категории, но по-разному форматированные. \n",
    "#Видимо заемщики заполняли анкету вручную, а не выбирая из предложенных вариантов.\n",
    "print(customers_solvency['education'].value_counts())\n",
    "print()\n",
    "\n",
    "#Переведем в нижний регистр значения в этом столбце методом .str.lower().\n",
    "customers_solvency['education'] = customers_solvency['education'].str.lower()\n",
    "print()\n",
    "\n",
    "#Тоже самое проделаем со столбцом family_purpose, поскольку там есть одно слово с большой буквой:\n",
    "print(customers_solvency['family_status'].value_counts())\n",
    "customers_solvency['family_status'] = customers_solvency['family_status'].str.lower()\n"
   ]
  },
  {
   "cell_type": "code",
   "execution_count": 169,
   "metadata": {},
   "outputs": [
    {
     "name": "stdout",
     "output_type": "stream",
     "text": [
      "среднее                15233\n",
      "высшее                  5260\n",
      "неоконченное высшее      744\n",
      "начальное                282\n",
      "ученая степень             6\n",
      "Name: education, dtype: int64\n",
      "женат / замужем          12380\n",
      "гражданский брак          4177\n",
      "не женат / не замужем     2813\n",
      "в разводе                 1195\n",
      "вдовец / вдова             960\n",
      "Name: family_status, dtype: int64\n"
     ]
    }
   ],
   "source": [
    "#Применим метод .value_counts() для просмотра обновленных уникальных значений этих столбцов.\n",
    "print(customers_solvency['education'].value_counts())\n",
    "print(customers_solvency['family_status'].value_counts())\n"
   ]
  },
  {
   "cell_type": "code",
   "execution_count": 170,
   "metadata": {},
   "outputs": [
    {
     "name": "stdout",
     "output_type": "stream",
     "text": [
      "71\n"
     ]
    }
   ],
   "source": [
    "#Проверим всю таблицу на дубликаты:\n",
    "print(customers_solvency.duplicated().sum())\n",
    "#Удалим дубликаты\n",
    "customers_solvency = customers_solvency.drop_duplicates().reset_index(drop = True)\n"
   ]
  },
  {
   "cell_type": "code",
   "execution_count": 171,
   "metadata": {},
   "outputs": [
    {
     "name": "stdout",
     "output_type": "stream",
     "text": [
      "0\n",
      "<class 'pandas.core.frame.DataFrame'>\n",
      "RangeIndex: 21454 entries, 0 to 21453\n",
      "Data columns (total 12 columns):\n",
      "children            21454 non-null int64\n",
      "days_employed       21454 non-null int64\n",
      "dob_years           21454 non-null int64\n",
      "education           21454 non-null object\n",
      "education_id        21454 non-null int64\n",
      "family_status       21454 non-null object\n",
      "family_status_id    21454 non-null int64\n",
      "gender              21454 non-null object\n",
      "income_type         21454 non-null object\n",
      "debt                21454 non-null int64\n",
      "total_income        21454 non-null int64\n",
      "purpose             21454 non-null object\n",
      "dtypes: int64(7), object(5)\n",
      "memory usage: 2.0+ MB\n",
      "None\n"
     ]
    }
   ],
   "source": [
    "#Проверим качество выполненных команд\n",
    "print(customers_solvency.duplicated().sum())\n",
    "print(customers_solvency.info())"
   ]
  },
  {
   "cell_type": "markdown",
   "metadata": {},
   "source": [
    "### Вывод"
   ]
  },
  {
   "cell_type": "markdown",
   "metadata": {},
   "source": [
    "В столбце 'education' находятся дублированные по смыслу категории, но по-разному форматированные. Видимо заемщики при заполнении анкеты впечатывали из предложенного перечня своими руками. Приведем в к единому формату значения в этом столбце методом .str.lower().Применили метод .value_counts() для просмотра обновленных уникальных значений этих столбцов. Применили метод.drop_duplicates для удаления дубликатов.\n"
   ]
  },
  {
   "cell_type": "markdown",
   "metadata": {},
   "source": [
    "### Лемматизация"
   ]
  },
  {
   "cell_type": "code",
   "execution_count": 172,
   "metadata": {},
   "outputs": [
    {
     "name": "stdout",
     "output_type": "stream",
     "text": [
      "Counter({'покупка': 1, ' ': 1, 'жилье': 1, '\\n': 1})\n",
      "Counter({'приобретение': 1, ' ': 1, 'автомобиль': 1, '\\n': 1})\n",
      "Counter({'покупка': 1, ' ': 1, 'жилье': 1, '\\n': 1})\n",
      "Counter({'дополнительный': 1, ' ': 1, 'образование': 1, '\\n': 1})\n",
      "Counter({'сыграть': 1, ' ': 1, 'свадьба': 1, '\\n': 1})\n",
      "Counter({'покупка': 1, ' ': 1, 'жилье': 1, '\\n': 1})\n",
      "Counter({' ': 2, 'операция': 1, 'с': 1, 'жилье': 1, '\\n': 1})\n",
      "Counter({'образование': 1, '\\n': 1})\n",
      "Counter({' ': 2, 'на': 1, 'проведение': 1, 'свадьба': 1, '\\n': 1})\n",
      "Counter({' ': 3, 'покупка': 1, 'жилье': 1, 'для': 1, 'семья': 1, '\\n': 1})\n",
      "Counter({'покупка': 1, ' ': 1, 'недвижимость': 1, '\\n': 1})\n",
      "Counter({' ': 2, 'покупка': 1, 'коммерческий': 1, 'недвижимость': 1, '\\n': 1})\n",
      "Counter({'сыграть': 1, ' ': 1, 'свадьба': 1, '\\n': 1})\n",
      "Counter({'приобретение': 1, ' ': 1, 'автомобиль': 1, '\\n': 1})\n",
      "Counter({' ': 2, 'покупка': 1, 'жилой': 1, 'недвижимость': 1, '\\n': 1})\n",
      "Counter({' ': 2, 'строительство': 1, 'собственный': 1, 'недвижимость': 1, '\\n': 1})\n",
      "Counter({'недвижимость': 1, '\\n': 1})\n",
      "Counter({'строительство': 1, ' ': 1, 'недвижимость': 1, '\\n': 1})\n",
      "Counter({' ': 3, 'на': 1, 'покупка': 1, 'подержать': 1, 'автомобиль': 1, '\\n': 1})\n",
      "Counter({' ': 3, 'на': 1, 'покупка': 1, 'свой': 1, 'автомобиль': 1, '\\n': 1})\n",
      "Counter({'недвижимость': 1, '\\n': 1})\n",
      "Counter({'приобретение': 1, ' ': 1, 'автомобиль': 1, '\\n': 1})\n",
      "Counter({' ': 3, 'на': 1, 'покупка': 1, 'подержать': 1, 'автомобиль': 1, '\\n': 1})\n",
      "Counter({'сыграть': 1, ' ': 1, 'свадьба': 1, '\\n': 1})\n",
      "Counter({' ': 3, 'операция': 1, 'с': 1, 'коммерческий': 1, 'недвижимость': 1, '\\n': 1})\n",
      "Counter({'покупка': 1, ' ': 1, 'недвижимость': 1, '\\n': 1})\n",
      "Counter({'образование': 1, '\\n': 1})\n",
      "Counter({' ': 2, 'строительство': 1, 'собственный': 1, 'недвижимость': 1, '\\n': 1})\n",
      "Counter({' ': 2, 'строительство': 1, 'собственный': 1, 'недвижимость': 1, '\\n': 1})\n",
      "Counter({' ': 2, 'строительство': 1, 'жилой': 1, 'недвижимость': 1, '\\n': 1})\n",
      "Counter({' ': 3, 'операция': 1, 'с': 1, 'коммерческий': 1, 'недвижимость': 1, '\\n': 1})\n",
      "Counter({'жилье': 1, '\\n': 1})\n",
      "Counter({' ': 2, 'на': 1, 'проведение': 1, 'свадьба': 1, '\\n': 1})\n",
      "Counter({'покупка': 1, ' ': 1, 'жилье': 1, '\\n': 1})\n",
      "Counter({' ': 3, 'операция': 1, 'со': 1, 'свой': 1, 'недвижимость': 1, '\\n': 1})\n",
      "Counter({' ': 2, 'на': 1, 'проведение': 1, 'свадьба': 1, '\\n': 1})\n",
      "Counter({'автомобиль': 1, '\\n': 1})\n",
      "Counter({'приобретение': 1, ' ': 1, 'автомобиль': 1, '\\n': 1})\n"
     ]
    }
   ],
   "source": [
    "#выделим уникальные значения в столбце 'purpose' методом .unique и лемматизируем их:\n",
    "\n",
    "from pymystem3 import Mystem\n",
    "m = Mystem()\n",
    "for i in range(len(customers_solvency['purpose'].unique())):\n",
    "    lemmas = m.lemmatize(customers_solvency['purpose'][i])\n",
    "    from collections import Counter\n",
    "    print(Counter(lemmas))\n",
    "    \n",
    "\n"
   ]
  },
  {
   "cell_type": "markdown",
   "metadata": {},
   "source": [
    "### Вывод"
   ]
  },
  {
   "cell_type": "markdown",
   "metadata": {},
   "source": [
    "Для приведения списка целей кредита к единообразию, мы лемматизировали исходный список для поиска ключевых слов. Ими оказались: недвижимость, автомобиль, образование, свадьба. В следующем разделе мы заменим данные списка с целями, на ключевые слова.\n"
   ]
  },
  {
   "cell_type": "markdown",
   "metadata": {},
   "source": [
    "### Категоризация данных"
   ]
  },
  {
   "cell_type": "code",
   "execution_count": 173,
   "metadata": {},
   "outputs": [
    {
     "name": "stdout",
     "output_type": "stream",
     "text": [
      "недвижимость    10811\n",
      "автомобиль       4306\n",
      "образование      4013\n",
      "свадьба          2324\n",
      "Name: purpose, dtype: int64\n",
      "   children  days_employed  dob_years education  education_id  \\\n",
      "0         1           8437         42    высшее             0   \n",
      "1         1           4024         36   среднее             1   \n",
      "2         0           5623         33   среднее             1   \n",
      "3         3           4124         32   среднее             1   \n",
      "4         0         340266         53   среднее             1   \n",
      "\n",
      "      family_status  family_status_id gender income_type  debt  total_income  \\\n",
      "0   женат / замужем                 0      F   сотрудник     0        253875   \n",
      "1   женат / замужем                 0      F   сотрудник     0        112080   \n",
      "2   женат / замужем                 0      M   сотрудник     0        145885   \n",
      "3   женат / замужем                 0      M   сотрудник     0        267628   \n",
      "4  гражданский брак                 1      F   пенсионер     0        158616   \n",
      "\n",
      "        purpose  \n",
      "0  недвижимость  \n",
      "1    автомобиль  \n",
      "2  недвижимость  \n",
      "3   образование  \n",
      "4       свадьба  \n"
     ]
    }
   ],
   "source": [
    "#проведем категоризацию в столбце 'purpose' по полученным ключевым леммам\n",
    "for i in range(len(customers_solvency['purpose'])):\n",
    "    if ('недвижимост' in customers_solvency.loc[i, 'purpose']) or ('жиль' in customers_solvency.loc[i, 'purpose']):\n",
    "        customers_solvency.loc[i, 'purpose'] = 'недвижимость'\n",
    "    if 'авто' in customers_solvency.loc[i, 'purpose']:\n",
    "        customers_solvency.loc[i, 'purpose'] = 'автомобиль'\n",
    "    if 'образован' in customers_solvency.loc[i, 'purpose']:\n",
    "        customers_solvency.loc[i, 'purpose'] = 'образование'\n",
    "    if 'свадьб' in customers_solvency.loc[i, 'purpose']:\n",
    "        customers_solvency.loc[i, 'purpose'] = 'свадьба'\n",
    "        \n",
    "#проверим полученный результат:\n",
    "print(customers_solvency['purpose'].value_counts())\n",
    "print(customers_solvency.head())"
   ]
  },
  {
   "cell_type": "code",
   "execution_count": 174,
   "metadata": {},
   "outputs": [
    {
     "name": "stdout",
     "output_type": "stream",
     "text": [
      "бездетный    14091\n",
      "с детьми      7363\n",
      "Name: children_group, dtype: int64\n",
      "0     с детьми\n",
      "1     с детьми\n",
      "2    бездетный\n",
      "3     с детьми\n",
      "4    бездетный\n",
      "5    бездетный\n",
      "6    бездетный\n",
      "7    бездетный\n",
      "8     с детьми\n",
      "9    бездетный\n",
      "Name: children_group, dtype: object\n"
     ]
    }
   ],
   "source": [
    "##Категоризируем выборку по наличию или отсутствию детей:\n",
    "def children_group(children):\n",
    "    if children == 0:\n",
    "        return 'бездетный'\n",
    "    return 'с детьми'\n",
    "customers_solvency['children_group'] = customers_solvency['children'].apply(children_group)\n",
    "print(customers_solvency['children_group'].value_counts())\n",
    "print(customers_solvency['children_group'].head(10))\n",
    "\n"
   ]
  },
  {
   "cell_type": "code",
   "execution_count": 175,
   "metadata": {},
   "outputs": [
    {
     "name": "stdout",
     "output_type": "stream",
     "text": [
      "есть партнер    16490\n",
      "нет партнера     4964\n",
      "Name: family_status_group, dtype: int64\n"
     ]
    }
   ],
   "source": [
    "#категоризируем выборку по наличию или отсутствию партнера в две группы: есть партнер, нет партнера \n",
    "def family_status_group(family_status):\n",
    "    if (family_status == 'женат / замужем') or ((family_status == 'гражданский брак')):\n",
    "        return 'есть партнер'\n",
    "    return 'нет партнера'\n",
    "customers_solvency['family_status_group'] = customers_solvency['family_status'].apply(family_status_group)\n",
    "print(customers_solvency['family_status_group'].value_counts())\n",
    "\n"
   ]
  },
  {
   "cell_type": "code",
   "execution_count": 176,
   "metadata": {},
   "outputs": [
    {
     "name": "stdout",
     "output_type": "stream",
     "text": [
      "3\n",
      "   children  days_employed  dob_years education  education_id  \\\n",
      "0         1           8437         42    высшее             0   \n",
      "1         1           4024         36   среднее             1   \n",
      "2         0           5623         33   среднее             1   \n",
      "3         3           4124         32   среднее             1   \n",
      "4         0         340266         53   среднее             1   \n",
      "\n",
      "      family_status  family_status_id gender income_type  debt  total_income  \\\n",
      "0   женат / замужем                 0      F   сотрудник     0        253875   \n",
      "1   женат / замужем                 0      F   сотрудник     0        112080   \n",
      "2   женат / замужем                 0      M   сотрудник     0        145885   \n",
      "3   женат / замужем                 0      M   сотрудник     0        267628   \n",
      "4  гражданский брак                 1      F   пенсионер     0        158616   \n",
      "\n",
      "        purpose children_group family_status_group  family_group  \\\n",
      "0  недвижимость       с детьми        есть партнер           3.0   \n",
      "1    автомобиль       с детьми        есть партнер           3.0   \n",
      "2  недвижимость      бездетный        есть партнер           2.0   \n",
      "3   образование       с детьми        есть партнер           5.0   \n",
      "4       свадьба      бездетный        есть партнер           2.0   \n",
      "\n",
      "   average_income  \n",
      "0         84625.0  \n",
      "1         37360.0  \n",
      "2         72942.5  \n",
      "3         53525.6  \n",
      "4         79308.0  \n",
      "средний доход    12464\n",
      "высокий доход     7047\n",
      "низкий доход      1896\n",
      "Name: income_per_person, dtype: int64\n"
     ]
    }
   ],
   "source": [
    "# Категоризируем данные по уровню дохода. \n",
    "# сначала рассчитаем среднедушевой доход на семью, полагая, \n",
    "# что представленные заемщиками данные о доходе - это ежемесячный доход на семью\n",
    "def family_total(row):\n",
    "    family_status_group = row['family_status_group']\n",
    "    children = row['children']\n",
    "    family = 1\n",
    "    for row in customers_solvency:\n",
    "        if (family_status_group == 'нет партнера') & (children == 0):\n",
    "            family = family\n",
    "            return family\n",
    "        if (family_status_group == 'нет партнера') & (children > 0):\n",
    "            family = family + children\n",
    "            return family\n",
    "        if (family_status_group == 'есть партнер') & (children == 0):\n",
    "            family = family + 1\n",
    "            return family\n",
    "        if (family_status_group == 'есть партнер') & (children > 0):\n",
    "            family = family + 1 + children\n",
    "            return family\n",
    "#Проверим работоспособность функции\n",
    "row_values = ['нет партнера', 2] \n",
    "row_columns = ['family_status_group', 'children']\n",
    "row = pd.Series(data=row_values, index=row_columns) \n",
    "print (family_total(row))            \n",
    "#создадим новый столбец family_group, где сохраним результаты работы нашей функции\n",
    "customers_solvency['family_group'] = customers_solvency.apply(family_total, axis = 1)\n",
    "\n",
    "# Создадим еще один столбец 'average_income', где сохраним значения среднедушевого дохода в семье:\n",
    "customers_solvency['average_income'] = customers_solvency['total_income'] / customers_solvency['family_group']\n",
    "\n",
    "print(customers_solvency.head())\n",
    "\n",
    "# используем данные госкомстата за 2017 год для категоризации по уровню дохода на следующие: низкий доход - < 30000 ,\n",
    "# средний доход <90000 , высокий доход > 90000\n",
    "#создадим столбец 'income_per_person'\n",
    "def income_per_person(average_income):\n",
    "    if average_income <= 30000:\n",
    "        return 'низкий доход'\n",
    "    if average_income <= 90000:\n",
    "        return 'средний доход'\n",
    "    if average_income > 90000:\n",
    "        return 'высокий доход'\n",
    "      \n",
    "customers_solvency['income_per_person'] = customers_solvency['average_income'].apply(income_per_person)   \n",
    "print(customers_solvency['income_per_person'].value_counts())"
   ]
  },
  {
   "cell_type": "markdown",
   "metadata": {},
   "source": [
    "### Вывод"
   ]
  },
  {
   "cell_type": "markdown",
   "metadata": {},
   "source": [
    " Категоризировали данные в столбце целей кредита с помощью лемматизации для поиска ключевых слов и последующим использованием цикла для замены одинаковых по смыслу целей на ключевые слова. Работу с данными можно упростить, если банк оптимизирует и максимально упростит анкетирование своих заемщиков: заемщики лучще выбирать варианты из предложенного списка, а не заполнять самостоятельно\n"
   ]
  },
  {
   "cell_type": "markdown",
   "metadata": {},
   "source": [
    "### Шаг 3. Ответьте на вопросы"
   ]
  },
  {
   "cell_type": "markdown",
   "metadata": {},
   "source": [
    "- Есть ли зависимость между наличием детей и возвратом кредита в срок?"
   ]
  },
  {
   "cell_type": "code",
   "execution_count": 177,
   "metadata": {},
   "outputs": [
    {
     "name": "stdout",
     "output_type": "stream",
     "text": [
      "21454\n",
      "\n",
      "                debt children debt_child_total debt_child_categ\n",
      "                 sum    count                                  \n",
      "children_group                                                 \n",
      "бездетный       1063    14091         4.954787         7.543822\n",
      "с детьми         678     7363         3.160250         9.208203\n"
     ]
    }
   ],
   "source": [
    "total_customers = len(customers_solvency)\n",
    "print(total_customers)\n",
    "#создадим сводную таблицу для дальнейшего анализа\n",
    "debt_children = customers_solvency.groupby('children_group').agg({'debt':['sum'], 'children':['count']})\n",
    "\n",
    "debt_children['debt_child_total'] = debt_children['debt']['sum'] / total_customers*100\n",
    "debt_children['debt_child_categ'] = debt_children['debt']['sum'] / debt_children['children']['count'] *100\n",
    "\n",
    "print()\n",
    "print(debt_children)"
   ]
  },
  {
   "cell_type": "markdown",
   "metadata": {},
   "source": [
    "### Вывод"
   ]
  },
  {
   "cell_type": "markdown",
   "metadata": {},
   "source": [
    "Семьи с детьми являются более ответственными заемщиками, количество должников на 37% (1 - 3.2/5.0) меньше чем среди бездетных семей в общем количеств  заемщиков. Это и понятно - семьи с детьми более ответственно подходят к выбору целей кредита и планируют бюджет, кредит берут в случае неотложной необходимости(количество заемщиков с детьми почти в два раза меньше чем бездетных). Однако в своей категории доля невозвратов среди семей с детьми выше чем среди бездетных заемщиков. Что также объяснимо: в семьях с детьми больше вероятность форс мажорных обстоятельств. Например: если отца и мать сократили на работе, это сразу сильно бьет по семейному бюджету, поскольку на иждивении есть дети. И сохранившийся доход семьи используют на жизненно необходимые нужды в ущерб выплатам по кредитам. "
   ]
  },
  {
   "cell_type": "markdown",
   "metadata": {},
   "source": [
    "- Есть ли зависимость между семейным положением и возвратом кредита в срок?"
   ]
  },
  {
   "cell_type": "code",
   "execution_count": 178,
   "metadata": {},
   "outputs": [
    {
     "name": "stdout",
     "output_type": "stream",
     "text": [
      "\n",
      "                     debt family_status debt_spouse_total debt_spouse_categ\n",
      "                      sum         count                                    \n",
      "family_status_group                                                        \n",
      "есть партнер         1319         16490          6.148038          7.998787\n",
      "нет партнера          422          4964          1.966999          8.501209\n"
     ]
    }
   ],
   "source": [
    "#создадим сводную таблицу для дальнейшего анализа\n",
    "debt_spouse = customers_solvency.groupby('family_status_group').agg({'debt':['sum'], 'family_status':['count']})\n",
    "\n",
    "debt_spouse['debt_spouse_total'] = debt_spouse['debt']['sum'] / total_customers*100\n",
    "debt_spouse['debt_spouse_categ'] = debt_spouse['debt']['sum'] / debt_spouse['family_status']['count'] *100\n",
    "\n",
    "print()\n",
    "print(debt_spouse)"
   ]
  },
  {
   "cell_type": "markdown",
   "metadata": {},
   "source": [
    "### Вывод"
   ]
  },
  {
   "cell_type": "markdown",
   "metadata": {},
   "source": [
    "Мы видим, что в общем количестве доля неплательщиков среди заемщиков с партнером в три раза больше чем среди одиноких граждан. Но и заемщиков в браке в три раза больше чем одиноких заемщиков. Однако, если мы посмотрим на долю неплательщиков в своих категориях, то видим, что процент невозвратов практически одинаковый. То есть ответственность заемщиков не зависит от наличия или отсутствия партнера. "
   ]
  },
  {
   "cell_type": "markdown",
   "metadata": {},
   "source": [
    "- Есть ли зависимость между уровнем дохода и возвратом кредита в срок?"
   ]
  },
  {
   "cell_type": "code",
   "execution_count": 179,
   "metadata": {
    "scrolled": true
   },
   "outputs": [
    {
     "name": "stdout",
     "output_type": "stream",
     "text": [
      "                 debt income_type\n",
      "                  sum       count\n",
      "income_type                      \n",
      "безработный         1           2\n",
      "в декрете           1           1\n",
      "госслужащий        86        1457\n",
      "компаньон         376        5078\n",
      "пенсионер         216        3829\n",
      "предприниматель     0           2\n",
      "сотрудник        1061       11084\n",
      "студент             0           1\n"
     ]
    }
   ],
   "source": [
    "try:\n",
    "    by_income_type = customers_solvency.groupby('income_type').agg({'debt':['sum'], 'income_type': ['count']})\n",
    "    print(by_income_type)\n",
    "    \n",
    "except:\n",
    "    print('ошибка')\n",
    "    \n",
    "\n",
    "    "
   ]
  },
  {
   "cell_type": "code",
   "execution_count": 180,
   "metadata": {},
   "outputs": [
    {
     "name": "stdout",
     "output_type": "stream",
     "text": [
      "                 debt income_type debt_income_total debt_income_categ\n",
      "                  sum       count                                    \n",
      "income_type                                                          \n",
      "безработный         1           2          0.004661         50.000000\n",
      "в декрете           1           1          0.004661        100.000000\n",
      "госслужащий        86        1457          0.400858          5.902539\n",
      "компаньон         376        5078          1.752587          7.404490\n",
      "пенсионер         216        3829          1.006805          5.641160\n",
      "предприниматель     0           2          0.000000          0.000000\n",
      "сотрудник        1061       11084          4.945465          9.572357\n",
      "студент             0           1          0.000000          0.000000\n"
     ]
    }
   ],
   "source": [
    "#добавим столбец с долей просрочивших кредит в своей категории\n",
    "#добавим столбец с долей просрочивших кредит в общем количестве заемщиков\n",
    "by_income_type['debt_income_total']= by_income_type['debt']['sum'] / total_customers*100\n",
    "by_income_type['debt_income_categ'] = by_income_type['debt']['sum'] / by_income_type['income_type']['count']*100 \n",
    "print(by_income_type)\n",
    "\n"
   ]
  },
  {
   "cell_type": "markdown",
   "metadata": {},
   "source": [
    "### Вывод"
   ]
  },
  {
   "cell_type": "markdown",
   "metadata": {},
   "source": [
    "Доходы распределяются ожидаемо по категорями дохода. Минимальное количество заемщиков в категориях декретниц, студентов, безработных и предпринимателей. Все логично: первые три категории обладают минимальным доходом. Отсутствие ожидаемого достаточно дохода в большинстве случаев является причиной отказа банка в кредите. Предприниматели реже обращаются в банки с целями кредита из нашей выборки. А если обращаются, то проблем с выплатами не имеют. Наибольшее количество заемщиков - в категории сотрудники со средним по всей выборке доходом. Но среди этих заемщиков и большее число неплательщиков, причем как во всей выборке, так и в своей категории. Наиболее ответственные заемщики   - пенсионеры. Имея постоянный доход ниже среднего по выборке, доля неплательщиков среди пенсионеров несколько ниже, чем в остальных группах с постянным доходом.\n",
    "В целом можно отметить, что мы не наблюдаем линейной зависимости между возвратом кредита в срок и размером дохода. Поскольку на эту зависимость влияет комплекс факторов.\n",
    " "
   ]
  },
  {
   "cell_type": "markdown",
   "metadata": {},
   "source": [
    "- Как разные цели кредита влияют на его возврат в срок?"
   ]
  },
  {
   "cell_type": "code",
   "execution_count": 181,
   "metadata": {},
   "outputs": [
    {
     "name": "stdout",
     "output_type": "stream",
     "text": [
      "             debt purpose debt_purpose_total debt_purpose_categ\n",
      "              sum   count                                      \n",
      "purpose                                                        \n",
      "автомобиль    403    4306           1.878438           9.359034\n",
      "недвижимость  782   10811           3.645008           7.233373\n",
      "образование   370    4013           1.724620           9.220035\n",
      "свадьба       186    2324           0.866971           8.003442\n"
     ]
    }
   ],
   "source": [
    "#сгрупируем таблицу по целям кредита:\n",
    "purpose_group = customers_solvency.groupby('purpose').agg({'debt':['sum'], 'purpose':['count']})\n",
    "\n",
    "#сохраним в новые столбцы количество должников во всей выборке и в своей категории\n",
    "purpose_group['debt_purpose_total']= purpose_group['debt']['sum'] / total_customers*100\n",
    "purpose_group['debt_purpose_categ']= purpose_group['debt']['sum'] / purpose_group['purpose']['count']*100 \n",
    "print(purpose_group)\n",
    "\n",
    "   "
   ]
  },
  {
   "cell_type": "markdown",
   "metadata": {},
   "source": [
    "### Вывод"
   ]
  },
  {
   "cell_type": "markdown",
   "metadata": {},
   "source": [
    "Основная цель кредита у заемщиков - недвижимость. При этом и доля невозвратов в общей выборке выше всего именной в этой категории. А вот в своей категории, доля неплательщиков самая низкая. Понятно почему: покупка недвижимости очень дорогостоящее, продуманное и жизненно важное мероприятие. Заемщики ответственно подходят к выплатам по кредиту. И только форсмажорные обстоятельства вынуждают заемщиков не платить по кредиту. Интересно, что наиболее импульсивные покупки, на которые берут кредит, это образование и автомобиль. Это \"молодежные\" категории и  очень похожи: количество кредитов на автомобиль и образование более чем в два раза меньше чем кредитов на жилье, а доля неплательщиков и в общей выборке и в своей категории также практически одинакова для обеих категорий. И процент невозврата этих видов кредитов в  самый большой в своих категориях. \n"
   ]
  },
  {
   "cell_type": "markdown",
   "metadata": {},
   "source": [
    "### Шаг 4. Общий вывод"
   ]
  },
  {
   "cell_type": "markdown",
   "metadata": {},
   "source": [
    "1.Работу с данными можно упростить, если банк оптимизирует и максимально упростит анкетирование своих заемщиков: заемщикам лучше выбирать варианты из предложенного списка, а не заполнять самостоятельно во избежание появления ошибок.\n",
    "2.Кредиты берут преимущественно семейные пары без детей. Эта категория граждан более уверена в завтрашнем дне и менее подвержена форсмажорным обстоятельствам, банки также лояльны к этой категории.\n",
    "3. На вероятность возврата кредита влияет комплекс факторов. \n",
    " - Наличие и количество детей, наличие супруга изменяют среднемесячный доход на человека в семье.  \n",
    " - Возраст влияет на цель кредита и вероятность кредита. Молодые люди более импульсивны и самонадеянны. Пенсионеры более осторожны в своих желаниях, к кредитам прибегают в крайних случаях\n",
    " - пол заемщика. У женщина в большинстве случаев, доход  ниже, чем у мужчин. \n",
    " 4. Самая популярная цель кредита - недвижимость, но процент неплательщиков в этой категории самый низкий. Самые импульсивные покупки, не обладающие жизненно необходимой важностью, это покупка автомобиля и получение образования. По этим видам кредита больше всего неплатежей.\n",
    " "
   ]
  }
 ],
 "metadata": {
  "kernelspec": {
   "display_name": "Python 3",
   "language": "python",
   "name": "python3"
  },
  "language_info": {
   "codemirror_mode": {
    "name": "ipython",
    "version": 3
   },
   "file_extension": ".py",
   "mimetype": "text/x-python",
   "name": "python",
   "nbconvert_exporter": "python",
   "pygments_lexer": "ipython3",
   "version": "3.7.4"
  }
 },
 "nbformat": 4,
 "nbformat_minor": 2
}
